{
 "cells": [
  {
   "cell_type": "markdown",
   "id": "a6be3f83",
   "metadata": {},
   "source": [
    "# Session 1 - Homework ANGGORO Fajar Tri"
   ]
  },
  {
   "cell_type": "markdown",
   "id": "16604c0d",
   "metadata": {},
   "source": [
    "# Exercise 2 Chapter 2\n",
    "### Explain whether each scenario is a classification or regression problem, \n",
    "### and indicate whether we are most interested in inference or prediction. Finally, provide n and p."
   ]
  },
  {
   "cell_type": "code",
   "execution_count": 2,
   "id": "e5613e7a",
   "metadata": {},
   "outputs": [],
   "source": [
    "# a)  We collect a set of data on the top 500 firms in the US. For each firm we record profit, \n",
    "# number of employees, industry and the CEO salary. We are interested in understanding which factors\n",
    "# affect CEO salary.\n",
    "\n",
    "# In this scenario, this is a regression problem, the dependent variable is the CEO salary, which is continuous. \n",
    "# We are more interested in the inference instead of prediction, because we're not trying to predict the CEO salary, but rather just to\n",
    "# see which factors affect the CEO salary, and finally, n = 500 (500 firms) while p = 3 (profit, n employees, industry)\n",
    "\n",
    "# b) We are considering launching a new product and wish to know whether it will be a success or a failure. \n",
    "# We collect data on 20 similar products that were previously launched. For each product we have recorded whether \n",
    "# it was a success or failure, price charged for the product, marketing budget, competition price, and ten other variables.\n",
    "\n",
    "# In this scenario, this is a classification problem, the dependent variable is whether the product is going to success or fail, \n",
    "# which is categorical. We are more interested in the prediction, because we're trying to predict the successness of a product\n",
    "# and finally, n = 20 (20 similar products) while p = 13 (price, budget, competitor price, etc)\n",
    "\n",
    "# c) We are interested in predicting the % change in the USD/Euro exchange rate in relation to the weekly changes in the world\n",
    "# stock markets. Hence we collect weekly data for all of 2012. For each week we record the % change in the USD/Euro, the %\n",
    "# change in the US market, the % change in the British market, and the % change in the German market\n",
    "\n",
    "# In this scenario, this is a regression problem, the dependent variable is the USD/Euro exchange rate, which is continuous. \n",
    "# We are more interested in the prediction, because we're trying to predict the USD/Euro exchange rate in relation to other variables\n",
    "# and finally, n = 52 (52 fiscal weeks in 2012) while p = 3 (% change US, % change british, % change German)"
   ]
  },
  {
   "cell_type": "markdown",
   "id": "0882663a",
   "metadata": {},
   "source": [
    "# Exercise 10 Chapter 2\n",
    "###  This exercise involves the Boston housing data set. "
   ]
  },
  {
   "cell_type": "code",
   "execution_count": 3,
   "id": "6d52b92a",
   "metadata": {},
   "outputs": [
    {
     "name": "stdout",
     "output_type": "stream",
     "text": [
      "'data.frame':\t506 obs. of  14 variables:\n",
      " $ crim   : num  0.00632 0.02731 0.02729 0.03237 0.06905 ...\n",
      " $ zn     : num  18 0 0 0 0 0 12.5 12.5 12.5 12.5 ...\n",
      " $ indus  : num  2.31 7.07 7.07 2.18 2.18 2.18 7.87 7.87 7.87 7.87 ...\n",
      " $ chas   : int  0 0 0 0 0 0 0 0 0 0 ...\n",
      " $ nox    : num  0.538 0.469 0.469 0.458 0.458 0.458 0.524 0.524 0.524 0.524 ...\n",
      " $ rm     : num  6.58 6.42 7.18 7 7.15 ...\n",
      " $ age    : num  65.2 78.9 61.1 45.8 54.2 58.7 66.6 96.1 100 85.9 ...\n",
      " $ dis    : num  4.09 4.97 4.97 6.06 6.06 ...\n",
      " $ rad    : int  1 2 2 3 3 3 5 5 5 5 ...\n",
      " $ tax    : num  296 242 242 222 222 222 311 311 311 311 ...\n",
      " $ ptratio: num  15.3 17.8 17.8 18.7 18.7 18.7 15.2 15.2 15.2 15.2 ...\n",
      " $ black  : num  397 397 393 395 397 ...\n",
      " $ lstat  : num  4.98 9.14 4.03 2.94 5.33 ...\n",
      " $ medv   : num  24 21.6 34.7 33.4 36.2 28.7 22.9 27.1 16.5 18.9 ...\n"
     ]
    }
   ],
   "source": [
    "# a) To begin, load in the Boston data set. The Boston data set is part of the MASS library in R.\n",
    "library(\"MASS\")\n",
    "\n",
    "# How many rows are in this data set? How many columns? Whatdo the rows and columns represent?\n",
    "str(Boston)\n",
    "# nrow = 506, ncol = 14\n",
    "# The boston dataset contains information collected by the US census concerning housing in the area of Boston Mass\n",
    "\n",
    "# b) Make some pairwise scatterplots of the predictors (columns) in this data set. Describe your findings.\n",
    "pairs(Boston)\n",
    "# Variables are correlated with each other\n",
    "# Median Housing price goes up as the crime rate per capita decreases, thus negative correlation\n",
    "# There seem to be weak positive correlation between the proportion of blacks in town with the median housing price\n",
    "\n",
    "# c)  Are any of the predictors associated with per capita crime rate? If so, explain the relationship.\n",
    "pairs(Boston[,c(1,13)])\n",
    "# There seem to be weak positive relationship with the % lower status of the population\n",
    "# same phenomenon could be found with the index of accessibility to radial highways\n",
    "\n",
    "# d) Do any of the suburbs of Boston appear to have particularly high crime rates? Tax rates? Pupil-teacher ratios? Comment on\n",
    "# the range of each predictor.\n",
    "plot(Boston[, 1])\n",
    "# it can be seen that there are certain town that have particularly high crime rates, crime rate ranges from 0.006 to 88\n",
    "\n",
    "plot(Boston[, 10])\n",
    "# it can be seen that there are certain town that have particularly high tax rates, tax rates ranges from 187 to 711\n",
    "\n",
    "plot(Boston[, 11])\n",
    "# it can be seen that most towns have high pupil-teacher ratio, the value ranges from 12.6 to 22\n",
    "\n",
    "# e) How many of the suburbs in this data set bound the Charles river?\n",
    "sum(Boston[,\"chas\"] == 1)\n",
    "# 35 towns / suburbs bound the Charles river\n",
    "\n",
    "# f)  What is the median pupil-teacher ratio among the towns in this data set?\n",
    "median(Boston[, \"ptratio\"])\n",
    "# median = 19.05\n",
    "\n",
    "# g) Which suburb of Boston has lowest median value of owner occupied homes? What are the values of the other predictors\n",
    "# for that suburb, and how do those values compare to the overall ranges for those predictors? Comment on your findings.\n",
    "Boston[Boston[, \"medv\"] == min(Boston[, \"medv\"]), ]\n",
    "# There are 2 towns in which they have the lowest median value of owner occupied homes, both have population of blacks, \n",
    "# same pupil-teacher ratio, same tax rates, and one has relatively high crime rate\n",
    "\n",
    "# h)  In this data set, how many of the suburbs average more than seven rooms per dwelling? More than eight rooms per dwelling?\n",
    "# Comment on the suburbs that average more than eight rooms per dwelling\n",
    "nrow(Boston[Boston[, \"rm\"] > 7, ])\n",
    "# 64 suburbs with more than 7 rms for dwelling\n",
    "nrow(Boston[Boston[, \"rm\"] > 8, ])\n",
    "# 13 suburbs with more than 8 rms for dwelling\n",
    "# All of them have low crime rates, high population of blacks, varying taxrates mostly on the lower bound"
   ]
  },
  {
   "cell_type": "markdown",
   "id": "780b63e5",
   "metadata": {},
   "source": [
    "# Exercise 3 Chapter 3\n",
    "####  Suppose we have a data set with five predictors, X1 = GPA, X2 = IQ, X3 = Gender (1 for Female and 0 for Male), X4 = Interaction between GPA and IQ, and X5 = Interaction between GPA and Gender. The response is starting salary after graduation (in thousands of dollars). Suppose we use least squares to fit the model, and get βˆ0 = 50, βˆ1 = 20, βˆ2 = 0.07, βˆ3 = 35, βˆ4 = 0.01, βˆ5 = −10."
   ]
  },
  {
   "cell_type": "code",
   "execution_count": 54,
   "id": "ac040830",
   "metadata": {},
   "outputs": [
    {
     "data": {
      "text/html": [
       "137.1"
      ],
      "text/latex": [
       "137.1"
      ],
      "text/markdown": [
       "137.1"
      ],
      "text/plain": [
       "[1] 137.1"
      ]
     },
     "metadata": {},
     "output_type": "display_data"
    }
   ],
   "source": [
    "# a) Which answer is correct, and why?\n",
    "\n",
    "# iii. For a fixed value of IQ and GPA, males earn more on average than females provided that the GPA is high enough.\n",
    "# Above statement is correct because if we keep the IQ & GPA to be constant, then males will earn more on average, this is\n",
    "# due to the fact that last predictor (X5) has negative beta values (higher GPA causes the value to go down on females)\n",
    "\n",
    "# b) Predict the salary of a female with IQ of 110 and a GPA of 4.0.\n",
    "# construct equation:\n",
    "GPA = 4\n",
    "IQ = 110\n",
    "female = 1\n",
    "salary = 50 + (20*GPA) + (0.07*IQ) + (35*female) + (0.01*GPA*IQ) + (-10*GPA*female)\n",
    "# Salary = 137.1 in thousands of dollars\n",
    "\n",
    "# c)  True or false: Since the coefficient for the GPA/IQ interaction term is very small, \n",
    "# there is very little evidence of an interaction effect. Justify your answer.\n",
    "# False, because significancy couldn't be deducted from beta values, more information such as p-values will need to be computed"
   ]
  },
  {
   "cell_type": "markdown",
   "id": "620ff731",
   "metadata": {},
   "source": [
    "# Exercise 10 Chapter 3\n",
    "####   This question should be answered using the Carseats data set."
   ]
  },
  {
   "cell_type": "code",
   "execution_count": 68,
   "id": "89542db6",
   "metadata": {},
   "outputs": [
    {
     "data": {
      "text/plain": [
       "\n",
       "Call:\n",
       "lm(formula = Sales ~ Price + Urban + US, data = data)\n",
       "\n",
       "Residuals:\n",
       "    Min      1Q  Median      3Q     Max \n",
       "-6.9206 -1.6220 -0.0564  1.5786  7.0581 \n",
       "\n",
       "Coefficients:\n",
       "             Estimate Std. Error t value Pr(>|t|)    \n",
       "(Intercept) 13.043469   0.651012  20.036  < 2e-16 ***\n",
       "Price       -0.054459   0.005242 -10.389  < 2e-16 ***\n",
       "Urban       -0.021916   0.271650  -0.081    0.936    \n",
       "US           1.200573   0.259042   4.635 4.86e-06 ***\n",
       "---\n",
       "Signif. codes:  0 '***' 0.001 '**' 0.01 '*' 0.05 '.' 0.1 ' ' 1\n",
       "\n",
       "Residual standard error: 2.472 on 396 degrees of freedom\n",
       "Multiple R-squared:  0.2393,\tAdjusted R-squared:  0.2335 \n",
       "F-statistic: 41.52 on 3 and 396 DF,  p-value: < 2.2e-16\n"
      ]
     },
     "metadata": {},
     "output_type": "display_data"
    },
    {
     "data": {
      "text/plain": [
       "\n",
       "Call:\n",
       "lm(formula = Sales ~ Price + US, data = data)\n",
       "\n",
       "Residuals:\n",
       "    Min      1Q  Median      3Q     Max \n",
       "-6.9269 -1.6286 -0.0574  1.5766  7.0515 \n",
       "\n",
       "Coefficients:\n",
       "            Estimate Std. Error t value Pr(>|t|)    \n",
       "(Intercept) 13.03079    0.63098  20.652  < 2e-16 ***\n",
       "Price       -0.05448    0.00523 -10.416  < 2e-16 ***\n",
       "US           1.19964    0.25846   4.641 4.71e-06 ***\n",
       "---\n",
       "Signif. codes:  0 '***' 0.001 '**' 0.01 '*' 0.05 '.' 0.1 ' ' 1\n",
       "\n",
       "Residual standard error: 2.469 on 397 degrees of freedom\n",
       "Multiple R-squared:  0.2393,\tAdjusted R-squared:  0.2354 \n",
       "F-statistic: 62.43 on 2 and 397 DF,  p-value: < 2.2e-16\n"
      ]
     },
     "metadata": {},
     "output_type": "display_data"
    }
   ],
   "source": [
    "#install.packages(\"ISLR\")\n",
    "library(\"ISLR\")\n",
    "\n",
    "# a) Fit a multiple regression model to predict Sales using Price, Urban, and US\n",
    "data <- Carseats\n",
    "data$Urban <- ifelse(data$Urban == 'Yes',1,0)\n",
    "data$US <- ifelse(data$US == 'Yes',1,0)\n",
    "model_a <- lm(Sales ~ Price + Urban + US, data=data)\n",
    "summary(model_a)\n",
    "\n",
    "# b)  Provide an interpretation of each coefficient in the model. Be careful—some of the variables in the model are qualitative!\n",
    "# There seem to be negative coefficient for Price, this means that higher value of price results in lower Sales\n",
    "# Negative coefficient could also be seen with Urban, this means that Store in Urban location results in lower sales\n",
    "# Positive coefficient could be seen with US, this means that Store in US will results in higher sales\n",
    "\n",
    "# c) Write out the model in equation form, being careful to handle the qualitative variables properly\n",
    "#Sales = 13.04 + (-0.054*Price) + (-0.021*Urban) + (1.2*US)\n",
    "\n",
    "# d) For which of the predictors can you reject the null hypothesis H0 : βj = 0?\n",
    "# Looking at the p-values, we could see that there is significant relationship for 'Price' & 'US'\n",
    "\n",
    "# e) On the basis of your response to the previous question, fit a smaller model that only uses the predictors for \n",
    "# which there is evidence of association with the outcome.\n",
    "model_e <- lm(Sales ~ Price + US, data=data)\n",
    "summary(model_e)\n",
    "\n",
    "# f) How well do the models in (a) and (e) fit the data?\n",
    "# by evaluating the low R squared value for both models, we could see that the models didn't fit well \n",
    "\n",
    "# g) Using the model from (e), obtain 95 % confidence intervals for the coefficient(s).\n",
    "confint(model_e)\n",
    "\n",
    "# h) is there evidence of outliers or high leverage observations in the model from (e)?\n",
    "library(\"ggplot2\")\n",
    "\n",
    "ggplot(model_e, aes(model_e$fitted.values, rstudent(model_e))) + \n",
    "                        geom_point()\n",
    "# Based on the graph above, no outliers detected\n",
    "\n",
    "ggplot(model_e, aes(hatvalues(model_e), rstudent(model_e))) + \n",
    "                        geom_point()\n",
    "# Based on the graph above, high leverage observation could be seen"
   ]
  },
  {
   "cell_type": "markdown",
   "id": "1dce448c",
   "metadata": {},
   "source": [
    "# Exercise 15 Chapter 3\n",
    "####   This problem involves the Boston data set, which we saw in the lab for this chapter. We will now try to predict per capita crime rate using the other variables in this data set. In other words, per capita crime rate is the response, and the other variables are the predictors."
   ]
  },
  {
   "cell_type": "code",
   "execution_count": 81,
   "id": "06d210c3",
   "metadata": {},
   "outputs": [
    {
     "data": {
      "text/html": [
       "<table class=\"dataframe\">\n",
       "<caption>A tibble: 13 × 3</caption>\n",
       "<thead>\n",
       "\t<tr><th scope=col>predictor</th><th scope=col>statistic</th><th scope=col>p.value</th></tr>\n",
       "\t<tr><th scope=col>&lt;fct&gt;</th><th scope=col>&lt;dbl&gt;</th><th scope=col>&lt;dbl&gt;</th></tr>\n",
       "</thead>\n",
       "<tbody>\n",
       "\t<tr><td>zn     </td><td> 21.102782</td><td>5.506472e-06</td></tr>\n",
       "\t<tr><td>indus  </td><td> 99.817037</td><td>1.450349e-21</td></tr>\n",
       "\t<tr><td>chas   </td><td>  1.579364</td><td>2.094345e-01</td></tr>\n",
       "\t<tr><td>nox    </td><td>108.555329</td><td>3.751739e-23</td></tr>\n",
       "\t<tr><td>rm     </td><td> 25.450204</td><td>6.346703e-07</td></tr>\n",
       "\t<tr><td>age    </td><td> 71.619402</td><td>2.854869e-16</td></tr>\n",
       "\t<tr><td>dis    </td><td> 84.887810</td><td>8.519949e-19</td></tr>\n",
       "\t<tr><td>rad    </td><td>323.935172</td><td>2.693844e-56</td></tr>\n",
       "\t<tr><td>tax    </td><td>259.190294</td><td>2.357127e-47</td></tr>\n",
       "\t<tr><td>ptratio</td><td> 46.259453</td><td>2.942922e-11</td></tr>\n",
       "\t<tr><td>black  </td><td> 87.739763</td><td>2.487274e-19</td></tr>\n",
       "\t<tr><td>lstat  </td><td>132.035125</td><td>2.654277e-27</td></tr>\n",
       "\t<tr><td>medv   </td><td> 89.486115</td><td>1.173987e-19</td></tr>\n",
       "</tbody>\n",
       "</table>\n"
      ],
      "text/latex": [
       "A tibble: 13 × 3\n",
       "\\begin{tabular}{lll}\n",
       " predictor & statistic & p.value\\\\\n",
       " <fct> & <dbl> & <dbl>\\\\\n",
       "\\hline\n",
       "\t zn      &  21.102782 & 5.506472e-06\\\\\n",
       "\t indus   &  99.817037 & 1.450349e-21\\\\\n",
       "\t chas    &   1.579364 & 2.094345e-01\\\\\n",
       "\t nox     & 108.555329 & 3.751739e-23\\\\\n",
       "\t rm      &  25.450204 & 6.346703e-07\\\\\n",
       "\t age     &  71.619402 & 2.854869e-16\\\\\n",
       "\t dis     &  84.887810 & 8.519949e-19\\\\\n",
       "\t rad     & 323.935172 & 2.693844e-56\\\\\n",
       "\t tax     & 259.190294 & 2.357127e-47\\\\\n",
       "\t ptratio &  46.259453 & 2.942922e-11\\\\\n",
       "\t black   &  87.739763 & 2.487274e-19\\\\\n",
       "\t lstat   & 132.035125 & 2.654277e-27\\\\\n",
       "\t medv    &  89.486115 & 1.173987e-19\\\\\n",
       "\\end{tabular}\n"
      ],
      "text/markdown": [
       "\n",
       "A tibble: 13 × 3\n",
       "\n",
       "| predictor &lt;fct&gt; | statistic &lt;dbl&gt; | p.value &lt;dbl&gt; |\n",
       "|---|---|---|\n",
       "| zn      |  21.102782 | 5.506472e-06 |\n",
       "| indus   |  99.817037 | 1.450349e-21 |\n",
       "| chas    |   1.579364 | 2.094345e-01 |\n",
       "| nox     | 108.555329 | 3.751739e-23 |\n",
       "| rm      |  25.450204 | 6.346703e-07 |\n",
       "| age     |  71.619402 | 2.854869e-16 |\n",
       "| dis     |  84.887810 | 8.519949e-19 |\n",
       "| rad     | 323.935172 | 2.693844e-56 |\n",
       "| tax     | 259.190294 | 2.357127e-47 |\n",
       "| ptratio |  46.259453 | 2.942922e-11 |\n",
       "| black   |  87.739763 | 2.487274e-19 |\n",
       "| lstat   | 132.035125 | 2.654277e-27 |\n",
       "| medv    |  89.486115 | 1.173987e-19 |\n",
       "\n"
      ],
      "text/plain": [
       "   predictor statistic  p.value     \n",
       "1  zn         21.102782 5.506472e-06\n",
       "2  indus      99.817037 1.450349e-21\n",
       "3  chas        1.579364 2.094345e-01\n",
       "4  nox       108.555329 3.751739e-23\n",
       "5  rm         25.450204 6.346703e-07\n",
       "6  age        71.619402 2.854869e-16\n",
       "7  dis        84.887810 8.519949e-19\n",
       "8  rad       323.935172 2.693844e-56\n",
       "9  tax       259.190294 2.357127e-47\n",
       "10 ptratio    46.259453 2.942922e-11\n",
       "11 black      87.739763 2.487274e-19\n",
       "12 lstat     132.035125 2.654277e-27\n",
       "13 medv       89.486115 1.173987e-19"
      ]
     },
     "metadata": {},
     "output_type": "display_data"
    },
    {
     "data": {
      "text/plain": [
       "\n",
       "Call:\n",
       "lm(formula = crim ~ ., data = Boston)\n",
       "\n",
       "Residuals:\n",
       "   Min     1Q Median     3Q    Max \n",
       "-9.924 -2.120 -0.353  1.019 75.051 \n",
       "\n",
       "Coefficients:\n",
       "              Estimate Std. Error t value Pr(>|t|)    \n",
       "(Intercept)  17.033228   7.234903   2.354 0.018949 *  \n",
       "zn            0.044855   0.018734   2.394 0.017025 *  \n",
       "indus        -0.063855   0.083407  -0.766 0.444294    \n",
       "chas         -0.749134   1.180147  -0.635 0.525867    \n",
       "nox         -10.313535   5.275536  -1.955 0.051152 .  \n",
       "rm            0.430131   0.612830   0.702 0.483089    \n",
       "age           0.001452   0.017925   0.081 0.935488    \n",
       "dis          -0.987176   0.281817  -3.503 0.000502 ***\n",
       "rad           0.588209   0.088049   6.680 6.46e-11 ***\n",
       "tax          -0.003780   0.005156  -0.733 0.463793    \n",
       "ptratio      -0.271081   0.186450  -1.454 0.146611    \n",
       "black        -0.007538   0.003673  -2.052 0.040702 *  \n",
       "lstat         0.126211   0.075725   1.667 0.096208 .  \n",
       "medv         -0.198887   0.060516  -3.287 0.001087 ** \n",
       "---\n",
       "Signif. codes:  0 '***' 0.001 '**' 0.01 '*' 0.05 '.' 0.1 ' ' 1\n",
       "\n",
       "Residual standard error: 6.439 on 492 degrees of freedom\n",
       "Multiple R-squared:  0.454,\tAdjusted R-squared:  0.4396 \n",
       "F-statistic: 31.47 on 13 and 492 DF,  p-value: < 2.2e-16\n"
      ]
     },
     "metadata": {},
     "output_type": "display_data"
    }
   ],
   "source": [
    "# a) For each predictor, fit a simple linear regression model to predict the response. Describe your results. \n",
    "# In which of the models is there a statistically significant association between the predictorand the response? \n",
    "# Create some plots to back up your assertions.\n",
    "library(\"dplyr\")\n",
    "library(\"purrr\")\n",
    "library(\"broom\")\n",
    "\n",
    "Boston %>%\n",
    "    select(-crim) %>%\n",
    "    map_df(function(x) glance(lm(Boston$crim ~ x, data = Boston))) %>% \n",
    "    mutate(predictor = as.factor(Boston %>% select(-crim) %>% names())) %>% \n",
    "    select(predictor, statistic, p.value)\n",
    "# Statistically signifact association could be found in almost every predictor except Charles river dummy variable, \n",
    "# this is observed from the high p.value\n",
    "           \n",
    "# b) Fit a multiple regression model to predict the response using all of the predictors. Describe your results. \n",
    "# For which predictors can we reject the null hypothesis H0 : βj = 0?\n",
    "            \n",
    "model_b <- lm(crim ~ ., data=Boston)\n",
    "summary(model_b)\n",
    "# From the model result, we will reject null hypothesis for predictors with pvalues < 0.05\n",
    "           \n",
    "# c) How do your results from (a) compare to your results from (b)? \n",
    "# Create a plot displaying the univariate regression coefficients from (a) on the x-axis, \n",
    "# and the multiple regression coefficients from (b) on the y-axis. That is, each predictor is displayed as a\n",
    "# single point in the plot. Its coefficient in a simple linear regression model is shown on the x-axis, \n",
    "# and its coefficient estimate in the multiple linear regression model is shown on the y-axis.\n",
    "df_c <- Boston %>%\n",
    "    select(-crim) %>%\n",
    "    map_df(function(x) tidy(lm(Boston$crim ~ x, data = Boston))) %>% \n",
    "    filter(term != \"(Intercept)\") %>% \n",
    "    mutate(predictor = as.factor(Boston %>% select(-crim) %>% names())) %>% \n",
    "    select(predictor, estimate) %>% \n",
    "    bind_cols(model_b  %>% tidy() %>% filter(term != \"(Intercept)\") %>% select(estimate)) %>% \n",
    "    rename(univariate = estimate...2, multivariate = estimate...3)  %>% \n",
    "    ggplot() + geom_point(aes(x = univariate, y = multivariate))\n",
    "\n",
    "# d) Is there evidence of non-linear association between any of the predictors and the response? \n",
    "# To answer this question, for each predictor X, fit a model of the form Y = β0 + β1X + β2X2 + β3X3 + e\n",
    "Boston %>%\n",
    "        select(-crim) %>%\n",
    "        map_df(function(x) broom::glance(lm(Boston$crim ~ poly(x, 3, raw = TRUE), data = Boston))) %>%\n",
    "        mutate(predictor = as.factor(Boston %>% select(-crim) %>% names())) %>%\n",
    "        select(predictor, p.value)\n",
    "# From the p_values, we see that theres no evidence for charles river dummy variable"
   ]
  }
 ],
 "metadata": {
  "kernelspec": {
   "display_name": "R",
   "language": "R",
   "name": "ir"
  },
  "language_info": {
   "codemirror_mode": "r",
   "file_extension": ".r",
   "mimetype": "text/x-r-source",
   "name": "R",
   "pygments_lexer": "r",
   "version": "4.0.5"
  }
 },
 "nbformat": 4,
 "nbformat_minor": 5
}
