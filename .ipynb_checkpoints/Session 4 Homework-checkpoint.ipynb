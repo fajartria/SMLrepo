{
 "cells": [
  {
   "cell_type": "markdown",
   "id": "b165a878",
   "metadata": {},
   "source": [
    "# Session 4 - Homework ANGGORO Fajar Tri"
   ]
  },
  {
   "cell_type": "markdown",
   "id": "35c39395",
   "metadata": {},
   "source": [
    "## Exercise 3 Chapter 8\n",
    "\n",
    "Consider the Gini index, classification error, and entropy in a simple classification setting with two classes. Create a single plot that displays each of these quantities as a function of ˆpm1. The x\u0002axis should display ˆpm1, ranging from 0 to 1, and the y-axis should display the value of the Gini index, classification error, and entropy.\n",
    "\n",
    "Hint: In a setting with two classes, pˆm1 = 1 − pˆm2. You could make this plot by hand, but it will be much easier to make in R."
   ]
  },
  {
   "cell_type": "code",
   "execution_count": 5,
   "id": "94b00b8a",
   "metadata": {},
   "outputs": [
    {
     "data": {
      "image/png": "[encoded data removed]",
      "text/plain": [
       "plot without title"
      ]
     },
     "metadata": {
      "image/png": {
       "height": 420,
       "width": 420
      }
     },
     "output_type": "display_data"
    }
   ],
   "source": [
    "# Simulate Data\n",
    "p = seq(0, 1, 0.01)\n",
    "\n",
    "gini = 2*p*(1-p)\n",
    "error= 1-pmax(p,1-p)\n",
    "entropy= -(p*log(p)+(1-p)*log(1-p))\n",
    "\n",
    "# add plot\n",
    "plot(NA, NA, xlim=c(0,1), ylim=c(0,1), xlab='p1', ylab='value')\n",
    "\n",
    "# add lines\n",
    "lines(p, gini,type='l')\n",
    "lines(p,error,col='blue')\n",
    "lines(p,entropy,col='red')\n",
    "\n",
    "legend(x='top',legend=c('Gini Index','Classification Error','Entropy'),\n",
    "       col=c('black','blue','red'),lty=1,text.width = 0.28)"
   ]
  },
  {
   "cell_type": "markdown",
   "id": "0e5577a5",
   "metadata": {},
   "source": [
    "## Exercise 5 Chapter 8\n",
    "\n",
    "Suppose we produce ten bootstrapped samples from a data set containing red and green classes. We then apply a classification tree to each bootstrapped sample and, for a specific value of X, produce 10 estimates of P(Class is Red|X):\n",
    "\n",
    "0.1, 0.15, 0.2, 0.2, 0.55, 0.6, 0.6, 0.65, 0.7, and 0.75.\n",
    "\n",
    "There are two common ways to combine these results together into a single class prediction. One is the majority vote approach discussed in this chapter. The second approach is to classify based on the average probability. In this example, what is the final classification under each of these two approaches?"
   ]
  },
  {
   "cell_type": "code",
   "execution_count": 1,
   "id": "e8b82685",
   "metadata": {},
   "outputs": [],
   "source": [
    "# Based on Majority Vote approach, we take the majority of the 10 estimates. Here we have 6 estimates that leads to the class\n",
    "# being in red, therefore we take the class = red\n",
    "\n",
    "#Based on the average probability approach, we take the average of the 10 estimates, which yields to a final p = 0.45. Therefore\n",
    "# we take the class = green"
   ]
  },
  {
   "cell_type": "markdown",
   "id": "4ae1911f",
   "metadata": {},
   "source": [
    "## Exercise 8 Chapter 8\n",
    "\n",
    "In the lab, a classification tree was applied to the Carseats data set after converting Sales into a qualitative response variable. Now we will seek to predict Sales using regression trees and related approaches, treating the response as a quantitative variable."
   ]
  },
  {
   "cell_type": "code",
   "execution_count": 2,
   "id": "cfb8291c",
   "metadata": {},
   "outputs": [
    {
     "data": {
      "text/html": [
       "<style>\n",
       ".list-inline {list-style: none; margin:0; padding: 0}\n",
       ".list-inline>li {display: inline-block}\n",
       ".list-inline>li:not(:last-child)::after {content: \"\\00b7\"; padding: 0 .5ex}\n",
       "</style>\n",
       "<ol class=list-inline><li>49</li><li>321</li><li>153</li><li>74</li><li>228</li><li>146</li><li>122</li><li>400</li><li>128</li><li>303</li><li>24</li><li>327</li><li>356</li><li>89</li><li>165</li><li>110</li><li>20</li><li>370</li><li>367</li><li>297</li><li>387</li><li>283</li><li>109</li><li>5</li><li>212</li><li>348</li><li>360</li><li>259</li><li>314</li><li>298</li><li>390</li><li>158</li><li>299</li><li>372</li><li>136</li><li>292</li><li>324</li><li>395</li><li>378</li><li>375</li><li>197</li><li>4</li><li>226</li><li>355</li><li>215</li><li>245</li><li>114</li><li>262</li><li>130</li><li>3</li><li>258</li><li>186</li><li>138</li><li>40</li><li>377</li><li>33</li><li>103</li><li>396</li><li>362</li><li>329</li><li>157</li><li>76</li><li>265</li><li>35</li><li>221</li><li>16</li><li>220</li><li>248</li><li>325</li><li>118</li><li>352</li><li>82</li><li>332</li><li>385</li><li>296</li><li>149</li><li>57</li><li>100</li><li>371</li><li>91</li><li>269</li><li>181</li><li>54</li><li>288</li><li>208</li><li>246</li><li>60</li><li>285</li><li>108</li><li>126</li><li>112</li><li>72</li><li>313</li><li>1</li><li>141</li><li>206</li><li>368</li><li>42</li><li>391</li><li>333</li><li>251</li><li>340</li><li>25</li><li>191</li><li>32</li><li>238</li><li>14</li><li>111</li><li>353</li><li>316</li><li>315</li><li>242</li><li>287</li><li>224</li><li>365</li><li>214</li><li>95</li><li>6</li><li>252</li><li>271</li><li>34</li><li>188</li><li>254</li><li>268</li><li>392</li><li>41</li><li>193</li><li>66</li><li>152</li><li>98</li><li>322</li><li>107</li><li>294</li><li>162</li><li>124</li><li>194</li><li>284</li><li>326</li><li>185</li><li>331</li><li>37</li><li>361</li><li>337</li><li>78</li><li>277</li><li>156</li><li>394</li><li>97</li><li>229</li><li>227</li><li>182</li><li>218</li><li>127</li><li>31</li><li>237</li><li>43</li><li>180</li><li>317</li><li>81</li><li>187</li><li>27</li><li>30</li><li>244</li><li>323</li><li>376</li><li>75</li><li>209</li><li>201</li><li>145</li><li>62</li><li>13</li><li>223</li><li>311</li><li>266</li><li>63</li><li>393</li><li>61</li><li>116</li><li>307</li><li>232</li><li>161</li><li>28</li><li>2</li><li>159</li><li>366</li><li>301</li><li>291</li><li>351</li><li>230</li><li>12</li><li>274</li><li>369</li><li>51</li><li>279</li><li>264</li><li>386</li><li>47</li><li>56</li><li>198</li><li>144</li></ol>\n"
      ],
      "text/latex": [
       "\\begin{enumerate*}\n",
       "\\item 49\n",
       "\\item 321\n",
       "\\item 153\n",
       "\\item 74\n",
       "\\item 228\n",
       "\\item 146\n",
       "\\item 122\n",
       "\\item 400\n",
       "\\item 128\n",
       "\\item 303\n",
       "\\item 24\n",
       "\\item 327\n",
       "\\item 356\n",
       "\\item 89\n",
       "\\item 165\n",
       "\\item 110\n",
       "\\item 20\n",
       "\\item 370\n",
       "\\item 367\n",
       "\\item 297\n",
       "\\item 387\n",
       "\\item 283\n",
       "\\item 109\n",
       "\\item 5\n",
       "\\item 212\n",
       "\\item 348\n",
       "\\item 360\n",
       "\\item 259\n",
       "\\item 314\n",
       "\\item 298\n",
       "\\item 390\n",
       "\\item 158\n",
       "\\item 299\n",
       "\\item 372\n",
       "\\item 136\n",
       "\\item 292\n",
       "\\item 324\n",
       "\\item 395\n",
       "\\item 378\n",
       "\\item 375\n",
       "\\item 197\n",
       "\\item 4\n",
       "\\item 226\n",
       "\\item 355\n",
       "\\item 215\n",
       "\\item 245\n",
       "\\item 114\n",
       "\\item 262\n",
       "\\item 130\n",
       "\\item 3\n",
       "\\item 258\n",
       "\\item 186\n",
       "\\item 138\n",
       "\\item 40\n",
       "\\item 377\n",
       "\\item 33\n",
       "\\item 103\n",
       "\\item 396\n",
       "\\item 362\n",
       "\\item 329\n",
       "\\item 157\n",
       "\\item 76\n",
       "\\item 265\n",
       "\\item 35\n",
       "\\item 221\n",
       "\\item 16\n",
       "\\item 220\n",
       "\\item 248\n",
       "\\item 325\n",
       "\\item 118\n",
       "\\item 352\n",
       "\\item 82\n",
       "\\item 332\n",
       "\\item 385\n",
       "\\item 296\n",
       "\\item 149\n",
       "\\item 57\n",
       "\\item 100\n",
       "\\item 371\n",
       "\\item 91\n",
       "\\item 269\n",
       "\\item 181\n",
       "\\item 54\n",
       "\\item 288\n",
       "\\item 208\n",
       "\\item 246\n",
       "\\item 60\n",
       "\\item 285\n",
       "\\item 108\n",
       "\\item 126\n",
       "\\item 112\n",
       "\\item 72\n",
       "\\item 313\n",
       "\\item 1\n",
       "\\item 141\n",
       "\\item 206\n",
       "\\item 368\n",
       "\\item 42\n",
       "\\item 391\n",
       "\\item 333\n",
       "\\item 251\n",
       "\\item 340\n",
       "\\item 25\n",
       "\\item 191\n",
       "\\item 32\n",
       "\\item 238\n",
       "\\item 14\n",
       "\\item 111\n",
       "\\item 353\n",
       "\\item 316\n",
       "\\item 315\n",
       "\\item 242\n",
       "\\item 287\n",
       "\\item 224\n",
       "\\item 365\n",
       "\\item 214\n",
       "\\item 95\n",
       "\\item 6\n",
       "\\item 252\n",
       "\\item 271\n",
       "\\item 34\n",
       "\\item 188\n",
       "\\item 254\n",
       "\\item 268\n",
       "\\item 392\n",
       "\\item 41\n",
       "\\item 193\n",
       "\\item 66\n",
       "\\item 152\n",
       "\\item 98\n",
       "\\item 322\n",
       "\\item 107\n",
       "\\item 294\n",
       "\\item 162\n",
       "\\item 124\n",
       "\\item 194\n",
       "\\item 284\n",
       "\\item 326\n",
       "\\item 185\n",
       "\\item 331\n",
       "\\item 37\n",
       "\\item 361\n",
       "\\item 337\n",
       "\\item 78\n",
       "\\item 277\n",
       "\\item 156\n",
       "\\item 394\n",
       "\\item 97\n",
       "\\item 229\n",
       "\\item 227\n",
       "\\item 182\n",
       "\\item 218\n",
       "\\item 127\n",
       "\\item 31\n",
       "\\item 237\n",
       "\\item 43\n",
       "\\item 180\n",
       "\\item 317\n",
       "\\item 81\n",
       "\\item 187\n",
       "\\item 27\n",
       "\\item 30\n",
       "\\item 244\n",
       "\\item 323\n",
       "\\item 376\n",
       "\\item 75\n",
       "\\item 209\n",
       "\\item 201\n",
       "\\item 145\n",
       "\\item 62\n",
       "\\item 13\n",
       "\\item 223\n",
       "\\item 311\n",
       "\\item 266\n",
       "\\item 63\n",
       "\\item 393\n",
       "\\item 61\n",
       "\\item 116\n",
       "\\item 307\n",
       "\\item 232\n",
       "\\item 161\n",
       "\\item 28\n",
       "\\item 2\n",
       "\\item 159\n",
       "\\item 366\n",
       "\\item 301\n",
       "\\item 291\n",
       "\\item 351\n",
       "\\item 230\n",
       "\\item 12\n",
       "\\item 274\n",
       "\\item 369\n",
       "\\item 51\n",
       "\\item 279\n",
       "\\item 264\n",
       "\\item 386\n",
       "\\item 47\n",
       "\\item 56\n",
       "\\item 198\n",
       "\\item 144\n",
       "\\end{enumerate*}\n"
      ],
      "text/markdown": [
       "1. 49\n",
       "2. 321\n",
       "3. 153\n",
       "4. 74\n",
       "5. 228\n",
       "6. 146\n",
       "7. 122\n",
       "8. 400\n",
       "9. 128\n",
       "10. 303\n",
       "11. 24\n",
       "12. 327\n",
       "13. 356\n",
       "14. 89\n",
       "15. 165\n",
       "16. 110\n",
       "17. 20\n",
       "18. 370\n",
       "19. 367\n",
       "20. 297\n",
       "21. 387\n",
       "22. 283\n",
       "23. 109\n",
       "24. 5\n",
       "25. 212\n",
       "26. 348\n",
       "27. 360\n",
       "28. 259\n",
       "29. 314\n",
       "30. 298\n",
       "31. 390\n",
       "32. 158\n",
       "33. 299\n",
       "34. 372\n",
       "35. 136\n",
       "36. 292\n",
       "37. 324\n",
       "38. 395\n",
       "39. 378\n",
       "40. 375\n",
       "41. 197\n",
       "42. 4\n",
       "43. 226\n",
       "44. 355\n",
       "45. 215\n",
       "46. 245\n",
       "47. 114\n",
       "48. 262\n",
       "49. 130\n",
       "50. 3\n",
       "51. 258\n",
       "52. 186\n",
       "53. 138\n",
       "54. 40\n",
       "55. 377\n",
       "56. 33\n",
       "57. 103\n",
       "58. 396\n",
       "59. 362\n",
       "60. 329\n",
       "61. 157\n",
       "62. 76\n",
       "63. 265\n",
       "64. 35\n",
       "65. 221\n",
       "66. 16\n",
       "67. 220\n",
       "68. 248\n",
       "69. 325\n",
       "70. 118\n",
       "71. 352\n",
       "72. 82\n",
       "73. 332\n",
       "74. 385\n",
       "75. 296\n",
       "76. 149\n",
       "77. 57\n",
       "78. 100\n",
       "79. 371\n",
       "80. 91\n",
       "81. 269\n",
       "82. 181\n",
       "83. 54\n",
       "84. 288\n",
       "85. 208\n",
       "86. 246\n",
       "87. 60\n",
       "88. 285\n",
       "89. 108\n",
       "90. 126\n",
       "91. 112\n",
       "92. 72\n",
       "93. 313\n",
       "94. 1\n",
       "95. 141\n",
       "96. 206\n",
       "97. 368\n",
       "98. 42\n",
       "99. 391\n",
       "100. 333\n",
       "101. 251\n",
       "102. 340\n",
       "103. 25\n",
       "104. 191\n",
       "105. 32\n",
       "106. 238\n",
       "107. 14\n",
       "108. 111\n",
       "109. 353\n",
       "110. 316\n",
       "111. 315\n",
       "112. 242\n",
       "113. 287\n",
       "114. 224\n",
       "115. 365\n",
       "116. 214\n",
       "117. 95\n",
       "118. 6\n",
       "119. 252\n",
       "120. 271\n",
       "121. 34\n",
       "122. 188\n",
       "123. 254\n",
       "124. 268\n",
       "125. 392\n",
       "126. 41\n",
       "127. 193\n",
       "128. 66\n",
       "129. 152\n",
       "130. 98\n",
       "131. 322\n",
       "132. 107\n",
       "133. 294\n",
       "134. 162\n",
       "135. 124\n",
       "136. 194\n",
       "137. 284\n",
       "138. 326\n",
       "139. 185\n",
       "140. 331\n",
       "141. 37\n",
       "142. 361\n",
       "143. 337\n",
       "144. 78\n",
       "145. 277\n",
       "146. 156\n",
       "147. 394\n",
       "148. 97\n",
       "149. 229\n",
       "150. 227\n",
       "151. 182\n",
       "152. 218\n",
       "153. 127\n",
       "154. 31\n",
       "155. 237\n",
       "156. 43\n",
       "157. 180\n",
       "158. 317\n",
       "159. 81\n",
       "160. 187\n",
       "161. 27\n",
       "162. 30\n",
       "163. 244\n",
       "164. 323\n",
       "165. 376\n",
       "166. 75\n",
       "167. 209\n",
       "168. 201\n",
       "169. 145\n",
       "170. 62\n",
       "171. 13\n",
       "172. 223\n",
       "173. 311\n",
       "174. 266\n",
       "175. 63\n",
       "176. 393\n",
       "177. 61\n",
       "178. 116\n",
       "179. 307\n",
       "180. 232\n",
       "181. 161\n",
       "182. 28\n",
       "183. 2\n",
       "184. 159\n",
       "185. 366\n",
       "186. 301\n",
       "187. 291\n",
       "188. 351\n",
       "189. 230\n",
       "190. 12\n",
       "191. 274\n",
       "192. 369\n",
       "193. 51\n",
       "194. 279\n",
       "195. 264\n",
       "196. 386\n",
       "197. 47\n",
       "198. 56\n",
       "199. 198\n",
       "200. 144\n",
       "\n",
       "\n"
      ],
      "text/plain": [
       "  [1]  49 321 153  74 228 146 122 400 128 303  24 327 356  89 165 110  20 370\n",
       " [19] 367 297 387 283 109   5 212 348 360 259 314 298 390 158 299 372 136 292\n",
       " [37] 324 395 378 375 197   4 226 355 215 245 114 262 130   3 258 186 138  40\n",
       " [55] 377  33 103 396 362 329 157  76 265  35 221  16 220 248 325 118 352  82\n",
       " [73] 332 385 296 149  57 100 371  91 269 181  54 288 208 246  60 285 108 126\n",
       " [91] 112  72 313   1 141 206 368  42 391 333 251 340  25 191  32 238  14 111\n",
       "[109] 353 316 315 242 287 224 365 214  95   6 252 271  34 188 254 268 392  41\n",
       "[127] 193  66 152  98 322 107 294 162 124 194 284 326 185 331  37 361 337  78\n",
       "[145] 277 156 394  97 229 227 182 218 127  31 237  43 180 317  81 187  27  30\n",
       "[163] 244 323 376  75 209 201 145  62  13 223 311 266  63 393  61 116 307 232\n",
       "[181] 161  28   2 159 366 301 291 351 230  12 274 369  51 279 264 386  47  56\n",
       "[199] 198 144"
      ]
     },
     "metadata": {},
     "output_type": "display_data"
    }
   ],
   "source": [
    "library(ISLR)\n",
    "library(tree)\n",
    "\n",
    "# a) Split the data set into a training set and a test set.\n",
    "set.seed(42)\n",
    "train = sample(1:nrow(Carseats),nrow(Carseats)/2)\n",
    "train"
   ]
  },
  {
   "cell_type": "code",
   "execution_count": 6,
   "id": "2e43d7fb",
   "metadata": {},
   "outputs": [
    {
     "data": {
      "text/html": [
       "5.68640105173353"
      ],
      "text/latex": [
       "5.68640105173353"
      ],
      "text/markdown": [
       "5.68640105173353"
      ],
      "text/plain": [
       "[1] 5.686401"
      ]
     },
     "metadata": {},
     "output_type": "display_data"
    },
    {
     "data": {
      "image/png": "[encoded data removed]",
      "text/plain": [
       "plot without title"
      ]
     },
     "metadata": {
      "image/png": {
       "height": 420,
       "width": 420
      }
     },
     "output_type": "display_data"
    }
   ],
   "source": [
    "# b) Fit regression tree to the training set. Plot the tree, and interpret the results. What test MSE do you obtain?\n",
    "\n",
    "tree.carseats = tree(formula = Sales~., data = Carseats,subset = train)\n",
    "tree.pred = predict(tree.carseats,Carseats[-train,])\n",
    "\n",
    "mean((tree.pred-Carseats[-train,'Sales'])^2)\n",
    "\n",
    "plot(tree.carseats)\n",
    "text(tree.carseats) # Price seems to be the most important criteria"
   ]
  },
  {
   "cell_type": "code",
   "execution_count": 11,
   "id": "f026ac5f",
   "metadata": {},
   "outputs": [
    {
     "data": {
      "image/png": "[encoded data removed]",
      "text/plain": [
       "plot without title"
      ]
     },
     "metadata": {
      "image/png": {
       "height": 420,
       "width": 420
      }
     },
     "output_type": "display_data"
    },
    {
     "data": {
      "text/html": [
       "5.37413553557521"
      ],
      "text/latex": [
       "5.37413553557521"
      ],
      "text/markdown": [
       "5.37413553557521"
      ],
      "text/plain": [
       "[1] 5.374136"
      ]
     },
     "metadata": {},
     "output_type": "display_data"
    },
    {
     "data": {
      "image/png": "[encoded data removed]",
      "text/plain": [
       "plot without title"
      ]
     },
     "metadata": {
      "image/png": {
       "height": 420,
       "width": 420
      }
     },
     "output_type": "display_data"
    }
   ],
   "source": [
    "# c) Use cross-validation in order to determine the optimal level of tree complexity. \n",
    "# Does pruning the tree improve the test MSE?\n",
    "\n",
    "# cross validation\n",
    "tree.carseats.cv = cv.tree(tree.carseats) \n",
    "plot(tree.carseats.cv)\n",
    "\n",
    "# pruning, set parameter to 6 based on the deviance\n",
    "prune.carseats = prune.tree(tree.carseats,best=6)\n",
    "\n",
    "# plot results\n",
    "plot(prune.carseats)\n",
    "text(prune.carseats) \n",
    "\n",
    "# pruning slightly improves the error\n",
    "tree.pred = predict(prune.carseats,Carseats[-train,])\n",
    "mean((tree.pred-Carseats[-train,'Sales'])^2)"
   ]
  },
  {
   "cell_type": "code",
   "execution_count": 13,
   "id": "1d3dc14b",
   "metadata": {},
   "outputs": [
    {
     "data": {
      "text/html": [
       "2.41661370187961"
      ],
      "text/latex": [
       "2.41661370187961"
      ],
      "text/markdown": [
       "2.41661370187961"
      ],
      "text/plain": [
       "[1] 2.416614"
      ]
     },
     "metadata": {},
     "output_type": "display_data"
    },
    {
     "data": {
      "text/html": [
       "<table class=\"dataframe\">\n",
       "<caption>A matrix: 10 × 2 of type dbl</caption>\n",
       "<thead>\n",
       "\t<tr><th></th><th scope=col>%IncMSE</th><th scope=col>IncNodePurity</th></tr>\n",
       "</thead>\n",
       "<tbody>\n",
       "\t<tr><th scope=row>CompPrice</th><td>12.75726583</td><td>194.553633</td></tr>\n",
       "\t<tr><th scope=row>Income</th><td> 3.69256439</td><td>114.061269</td></tr>\n",
       "\t<tr><th scope=row>Advertising</th><td> 8.45832790</td><td> 99.943015</td></tr>\n",
       "\t<tr><th scope=row>Population</th><td> 1.77569889</td><td> 62.016441</td></tr>\n",
       "\t<tr><th scope=row>Price</th><td>24.81494474</td><td>428.177561</td></tr>\n",
       "\t<tr><th scope=row>ShelveLoc</th><td>24.99332310</td><td>428.448690</td></tr>\n",
       "\t<tr><th scope=row>Age</th><td> 5.77226525</td><td>127.112993</td></tr>\n",
       "\t<tr><th scope=row>Education</th><td> 1.26746963</td><td> 43.842548</td></tr>\n",
       "\t<tr><th scope=row>Urban</th><td>-0.23884625</td><td> 10.176602</td></tr>\n",
       "\t<tr><th scope=row>US</th><td>-0.05329191</td><td>  7.770429</td></tr>\n",
       "</tbody>\n",
       "</table>\n"
      ],
      "text/latex": [
       "A matrix: 10 × 2 of type dbl\n",
       "\\begin{tabular}{r|ll}\n",
       "  & \\%IncMSE & IncNodePurity\\\\\n",
       "\\hline\n",
       "\tCompPrice & 12.75726583 & 194.553633\\\\\n",
       "\tIncome &  3.69256439 & 114.061269\\\\\n",
       "\tAdvertising &  8.45832790 &  99.943015\\\\\n",
       "\tPopulation &  1.77569889 &  62.016441\\\\\n",
       "\tPrice & 24.81494474 & 428.177561\\\\\n",
       "\tShelveLoc & 24.99332310 & 428.448690\\\\\n",
       "\tAge &  5.77226525 & 127.112993\\\\\n",
       "\tEducation &  1.26746963 &  43.842548\\\\\n",
       "\tUrban & -0.23884625 &  10.176602\\\\\n",
       "\tUS & -0.05329191 &   7.770429\\\\\n",
       "\\end{tabular}\n"
      ],
      "text/markdown": [
       "\n",
       "A matrix: 10 × 2 of type dbl\n",
       "\n",
       "| <!--/--> | %IncMSE | IncNodePurity |\n",
       "|---|---|---|\n",
       "| CompPrice | 12.75726583 | 194.553633 |\n",
       "| Income |  3.69256439 | 114.061269 |\n",
       "| Advertising |  8.45832790 |  99.943015 |\n",
       "| Population |  1.77569889 |  62.016441 |\n",
       "| Price | 24.81494474 | 428.177561 |\n",
       "| ShelveLoc | 24.99332310 | 428.448690 |\n",
       "| Age |  5.77226525 | 127.112993 |\n",
       "| Education |  1.26746963 |  43.842548 |\n",
       "| Urban | -0.23884625 |  10.176602 |\n",
       "| US | -0.05329191 |   7.770429 |\n",
       "\n"
      ],
      "text/plain": [
       "            %IncMSE     IncNodePurity\n",
       "CompPrice   12.75726583 194.553633   \n",
       "Income       3.69256439 114.061269   \n",
       "Advertising  8.45832790  99.943015   \n",
       "Population   1.77569889  62.016441   \n",
       "Price       24.81494474 428.177561   \n",
       "ShelveLoc   24.99332310 428.448690   \n",
       "Age          5.77226525 127.112993   \n",
       "Education    1.26746963  43.842548   \n",
       "Urban       -0.23884625  10.176602   \n",
       "US          -0.05329191   7.770429   "
      ]
     },
     "metadata": {},
     "output_type": "display_data"
    }
   ],
   "source": [
    "# d) Use the bagging approach in order to analyze this data. What test MSE do you obtain? \n",
    "# Use the importance() function to determine which variables are most important.\n",
    "\n",
    "library(randomForest)\n",
    "\n",
    "d = ncol(Carseats) - 1\n",
    "\n",
    "# Model\n",
    "set.seed(42)\n",
    "carseats.rf = randomForest(Sales~., data = Carseats, subset = train, mtry = d, importance=TRUE , ntree=100)\n",
    "\n",
    "# prediction\n",
    "tree.pred = predict(carseats.rf,Carseats[-train,])\n",
    "mean((tree.pred-Carseats[-train,'Sales'])^2)\n",
    "\n",
    "# variable importance\n",
    "importance(carseats.rf) # price is the most important"
   ]
  },
  {
   "cell_type": "code",
   "execution_count": 14,
   "id": "303f9d98",
   "metadata": {},
   "outputs": [
    {
     "data": {
      "image/png": "[encoded data removed]",
      "text/plain": [
       "plot without title"
      ]
     },
     "metadata": {
      "image/png": {
       "height": 420,
       "width": 420
      }
     },
     "output_type": "display_data"
    }
   ],
   "source": [
    "# e) Use random forests to analyze this data. What test MSE do you obtain? \n",
    "# Use the importance() function to determine which variables are most important. Describe the effect of m, the number of\n",
    "# variables considered at each split, on the error rate obtained.\n",
    "\n",
    "mse = c()\n",
    "\n",
    "set.seed(42)\n",
    "\n",
    "for(i in 3:10){\n",
    "  carseats.rf = randomForest(Sales~., data = Carseats, subset = train, mtry = 5, importance = TRUE, ntree=100)\n",
    "\n",
    "  tree.pred = predict(carseats.rf,Carseats[-train,])\n",
    "  mse = rbind(mse,mean((tree.pred-Carseats[-train,'Sales'])^2))\n",
    "}\n",
    "\n",
    "# The effect of m\n",
    "plot(3:10,mse,type='b')"
   ]
  },
  {
   "cell_type": "code",
   "execution_count": 15,
   "id": "261fa2d4",
   "metadata": {},
   "outputs": [
    {
     "data": {
      "text/html": [
       "<table class=\"dataframe\">\n",
       "<caption>A matrix: 10 × 2 of type dbl</caption>\n",
       "<thead>\n",
       "\t<tr><th></th><th scope=col>%IncMSE</th><th scope=col>IncNodePurity</th></tr>\n",
       "</thead>\n",
       "<tbody>\n",
       "\t<tr><th scope=row>CompPrice</th><td>12.9744625</td><td>197.97151</td></tr>\n",
       "\t<tr><th scope=row>Income</th><td> 5.1316050</td><td>103.17128</td></tr>\n",
       "\t<tr><th scope=row>Advertising</th><td> 5.4144641</td><td>110.59823</td></tr>\n",
       "\t<tr><th scope=row>Population</th><td>-0.4748975</td><td> 63.45821</td></tr>\n",
       "\t<tr><th scope=row>Price</th><td>23.8930328</td><td>416.10410</td></tr>\n",
       "\t<tr><th scope=row>ShelveLoc</th><td>25.0436020</td><td>417.41569</td></tr>\n",
       "\t<tr><th scope=row>Age</th><td> 4.1412728</td><td>133.36952</td></tr>\n",
       "\t<tr><th scope=row>Education</th><td> 0.5282113</td><td> 46.89271</td></tr>\n",
       "\t<tr><th scope=row>Urban</th><td> 2.0743624</td><td> 11.77462</td></tr>\n",
       "\t<tr><th scope=row>US</th><td>-0.5563391</td><td>  6.75921</td></tr>\n",
       "</tbody>\n",
       "</table>\n"
      ],
      "text/latex": [
       "A matrix: 10 × 2 of type dbl\n",
       "\\begin{tabular}{r|ll}\n",
       "  & \\%IncMSE & IncNodePurity\\\\\n",
       "\\hline\n",
       "\tCompPrice & 12.9744625 & 197.97151\\\\\n",
       "\tIncome &  5.1316050 & 103.17128\\\\\n",
       "\tAdvertising &  5.4144641 & 110.59823\\\\\n",
       "\tPopulation & -0.4748975 &  63.45821\\\\\n",
       "\tPrice & 23.8930328 & 416.10410\\\\\n",
       "\tShelveLoc & 25.0436020 & 417.41569\\\\\n",
       "\tAge &  4.1412728 & 133.36952\\\\\n",
       "\tEducation &  0.5282113 &  46.89271\\\\\n",
       "\tUrban &  2.0743624 &  11.77462\\\\\n",
       "\tUS & -0.5563391 &   6.75921\\\\\n",
       "\\end{tabular}\n"
      ],
      "text/markdown": [
       "\n",
       "A matrix: 10 × 2 of type dbl\n",
       "\n",
       "| <!--/--> | %IncMSE | IncNodePurity |\n",
       "|---|---|---|\n",
       "| CompPrice | 12.9744625 | 197.97151 |\n",
       "| Income |  5.1316050 | 103.17128 |\n",
       "| Advertising |  5.4144641 | 110.59823 |\n",
       "| Population | -0.4748975 |  63.45821 |\n",
       "| Price | 23.8930328 | 416.10410 |\n",
       "| ShelveLoc | 25.0436020 | 417.41569 |\n",
       "| Age |  4.1412728 | 133.36952 |\n",
       "| Education |  0.5282113 |  46.89271 |\n",
       "| Urban |  2.0743624 |  11.77462 |\n",
       "| US | -0.5563391 |   6.75921 |\n",
       "\n"
      ],
      "text/plain": [
       "            %IncMSE    IncNodePurity\n",
       "CompPrice   12.9744625 197.97151    \n",
       "Income       5.1316050 103.17128    \n",
       "Advertising  5.4144641 110.59823    \n",
       "Population  -0.4748975  63.45821    \n",
       "Price       23.8930328 416.10410    \n",
       "ShelveLoc   25.0436020 417.41569    \n",
       "Age          4.1412728 133.36952    \n",
       "Education    0.5282113  46.89271    \n",
       "Urban        2.0743624  11.77462    \n",
       "US          -0.5563391   6.75921    "
      ]
     },
     "metadata": {},
     "output_type": "display_data"
    },
    {
     "data": {
      "image/png": "[encoded data removed]",
      "text/plain": [
       "Plot with title \"carseats.rf\""
      ]
     },
     "metadata": {
      "image/png": {
       "height": 420,
       "width": 420
      }
     },
     "output_type": "display_data"
    }
   ],
   "source": [
    "set.seed(42)\n",
    "carseats.rf = randomForest(Sales~., data = Carseats, subset = train, mtry = 9, importance = TRUE, ntree=100)\n",
    "\n",
    "# errors\n",
    "plot(carseats.rf)\n",
    "\n",
    "# var importance\n",
    "importance(carseats.rf)"
   ]
  },
  {
   "cell_type": "markdown",
   "id": "22df81ae",
   "metadata": {},
   "source": [
    "## Exercise 9 Chapter 8\n",
    "\n",
    "This problem involves the OJ data set which is part of the ISLR package."
   ]
  },
  {
   "cell_type": "code",
   "execution_count": 16,
   "id": "dfafa895",
   "metadata": {},
   "outputs": [],
   "source": [
    "# a) Create a training set containing a random sample of 800 observations, and a test set containing the remaining observations.\n",
    "\n",
    "set.seed(42)\n",
    "train=sample(1:nrow(OJ),800)\n",
    "\n",
    "OJ_train=OJ[train,]\n",
    "OJ_test=OJ[-train,]"
   ]
  },
  {
   "cell_type": "code",
   "execution_count": 17,
   "id": "69882c40",
   "metadata": {},
   "outputs": [
    {
     "data": {
      "text/plain": [
       "\n",
       "Classification tree:\n",
       "tree(formula = Purchase ~ ., data = OJ_train)\n",
       "Variables actually used in tree construction:\n",
       "[1] \"LoyalCH\"     \"SalePriceMM\" \"PriceDiff\"  \n",
       "Number of terminal nodes:  8 \n",
       "Residual mean deviance:  0.7392 = 585.5 / 792 \n",
       "Misclassification error rate: 0.1638 = 131 / 800 "
      ]
     },
     "metadata": {},
     "output_type": "display_data"
    }
   ],
   "source": [
    "# b)  Fit a tree to the training data, with Purchase as the response and the other variables as predictors. \n",
    "# Use the summary() function to produce summary statistics about the tree, and describe the results obtained. \n",
    "# What is the training error rate? How many terminal nodes does the tree have?\n",
    "\n",
    "OJ_tree = tree(Purchase~., data = OJ_train)  \n",
    "summary(OJ_tree)"
   ]
  },
  {
   "cell_type": "code",
   "execution_count": 18,
   "id": "a8733c0b",
   "metadata": {},
   "outputs": [
    {
     "data": {
      "text/plain": [
       "node), split, n, deviance, yval, (yprob)\n",
       "      * denotes terminal node\n",
       "\n",
       " 1) root 800 1066.00 CH ( 0.61500 0.38500 )  \n",
       "   2) LoyalCH < 0.48285 285  296.00 MM ( 0.21404 0.78596 )  \n",
       "     4) LoyalCH < 0.064156 64    0.00 MM ( 0.00000 1.00000 ) *\n",
       "     5) LoyalCH > 0.064156 221  260.40 MM ( 0.27602 0.72398 )  \n",
       "      10) SalePriceMM < 2.04 128  123.50 MM ( 0.18750 0.81250 ) *\n",
       "      11) SalePriceMM > 2.04 93  125.00 MM ( 0.39785 0.60215 ) *\n",
       "   3) LoyalCH > 0.48285 515  458.10 CH ( 0.83689 0.16311 )  \n",
       "     6) LoyalCH < 0.753545 230  282.70 CH ( 0.69565 0.30435 )  \n",
       "      12) PriceDiff < 0.265 149  203.00 CH ( 0.57718 0.42282 )  \n",
       "        24) PriceDiff < -0.165 32   38.02 MM ( 0.28125 0.71875 ) *\n",
       "        25) PriceDiff > -0.165 117  150.30 CH ( 0.65812 0.34188 )  \n",
       "          50) LoyalCH < 0.703993 105  139.60 CH ( 0.61905 0.38095 ) *\n",
       "          51) LoyalCH > 0.703993 12    0.00 CH ( 1.00000 0.00000 ) *\n",
       "      13) PriceDiff > 0.265 81   47.66 CH ( 0.91358 0.08642 ) *\n",
       "     7) LoyalCH > 0.753545 285  111.70 CH ( 0.95088 0.04912 ) *"
      ]
     },
     "metadata": {},
     "output_type": "display_data"
    }
   ],
   "source": [
    "# c) Type in the name of the tree object in order to get a detailed text output. Pick one of the terminal nodes, and \n",
    "# interpret the information displayed.\n",
    "\n",
    "OJ_tree\n",
    "# One possible terminal node is the 4), split between LoyalCH, if it's under 0.064, it automatically assign as the 2nd class"
   ]
  },
  {
   "cell_type": "code",
   "execution_count": 20,
   "id": "28f0c558",
   "metadata": {},
   "outputs": [
    {
     "data": {
      "image/png": "[encoded data removed]",
      "text/plain": [
       "plot without title"
      ]
     },
     "metadata": {
      "image/png": {
       "height": 420,
       "width": 420
      }
     },
     "output_type": "display_data"
    }
   ],
   "source": [
    "# d) Create a plot of the tree, and interpret the results.\n",
    "\n",
    "plot(OJ_tree)\n",
    "text(OJ_tree) # Same interpretation as before, LoyalCH is the most important variable"
   ]
  },
  {
   "cell_type": "code",
   "execution_count": 23,
   "id": "94d3ae34",
   "metadata": {},
   "outputs": [
    {
     "data": {
      "text/plain": [
       "    OJ_pred_train\n",
       "      CH  MM\n",
       "  CH 422  70\n",
       "  MM  61 247"
      ]
     },
     "metadata": {},
     "output_type": "display_data"
    },
    {
     "data": {
      "text/plain": [
       "    OJ_pred_test\n",
       "             CH         MM\n",
       "  CH 0.46296296 0.13333333\n",
       "  MM 0.05555556 0.34814815"
      ]
     },
     "metadata": {},
     "output_type": "display_data"
    }
   ],
   "source": [
    "# e) Predict the response on the test data, and produce a confusion matrix comparing the test labels to the predicted test \n",
    "# labels. What is the test error rate?\n",
    "\n",
    "OJ_pred_train = predict(OJ_tree, OJ_train, type = 'class')\n",
    "table(OJ_train[,'Purchase'], OJ_pred_train)\n",
    "\n",
    "# test set\n",
    "OJ_pred_test = predict(OJ_tree, OJ_test, type = 'class')\n",
    "table(OJ_test[,'Purchase'], OJ_pred_test)/nrow(OJ_test)\n",
    "# an error of about 18%"
   ]
  },
  {
   "cell_type": "code",
   "execution_count": 26,
   "id": "5ad211cf",
   "metadata": {},
   "outputs": [
    {
     "data": {
      "image/png": "[encoded data removed]",
      "text/plain": [
       "plot without title"
      ]
     },
     "metadata": {
      "image/png": {
       "height": 420,
       "width": 420
      }
     },
     "output_type": "display_data"
    }
   ],
   "source": [
    "# f) Apply the cv.tree() function to the training set in order to determine the optimal tree size\n",
    "# g) Produce a plot with tree size on the x-axis and cross-validated classification error rate on the y-axis.\n",
    "# h) Which tree size corresponds to the lowest cross-validated classification error rate?\n",
    "\n",
    "set.seed(42)\n",
    "OJ_tree_cv= cv.tree(OJ_tree,K = 10,FUN = prune.misclass)\n",
    "plot(OJ_tree_cv) # Optimal is 5"
   ]
  },
  {
   "cell_type": "code",
   "execution_count": 27,
   "id": "5b0ebae4",
   "metadata": {},
   "outputs": [],
   "source": [
    "# i) Produce a pruned tree corresponding to the optimal tree size obtained using cross-validation. If cross-validation does \n",
    "# not lead to selection of a pruned tree, then create a pruned tree with five terminal nodes.\n",
    "\n",
    "OJ_tree = prune.misclass(OJ_tree, best = 5)"
   ]
  },
  {
   "cell_type": "code",
   "execution_count": 28,
   "id": "02e66ba5",
   "metadata": {},
   "outputs": [
    {
     "data": {
      "text/plain": [
       "    OJ_pred_train\n",
       "          CH      MM\n",
       "  CH 0.52750 0.08750\n",
       "  MM 0.07625 0.30875"
      ]
     },
     "metadata": {},
     "output_type": "display_data"
    }
   ],
   "source": [
    "# j) Compare the training error rates between the pruned and unpruned trees. Which is higher?\n",
    "\n",
    "OJ_pred_train = predict(OJ_tree, OJ_train, type = 'class')\n",
    "table(OJ_train[,'Purchase'], OJ_pred_train)/nrow(OJ_train)"
   ]
  },
  {
   "cell_type": "code",
   "execution_count": 29,
   "id": "e1760929",
   "metadata": {},
   "outputs": [
    {
     "data": {
      "text/plain": [
       "    OJ_pred_test\n",
       "             CH         MM\n",
       "  CH 0.46296296 0.13333333\n",
       "  MM 0.05555556 0.34814815"
      ]
     },
     "metadata": {},
     "output_type": "display_data"
    }
   ],
   "source": [
    "# k) Compare the test error rates between the pruned and unpruned trees. Which is higher?\n",
    "\n",
    "OJ_pred_test = predict(OJ_tree, OJ_test, type = 'class')\n",
    "table(OJ_test[,'Purchase'], OJ_pred_test)/nrow(OJ_test) # similar results"
   ]
  },
  {
   "cell_type": "markdown",
   "id": "4ae1911f",
   "metadata": {},
   "source": [
    "## Exercise 10 Chapter 8\n",
    "\n",
    "We now use boosting to predict Salary in the Hitters data set."
   ]
  },
  {
   "cell_type": "code",
   "execution_count": 30,
   "id": "709ea671",
   "metadata": {},
   "outputs": [
    {
     "data": {
      "text/plain": [
       "     AtBat            Hits           HmRun            Runs       \n",
       " Min.   : 19.0   Min.   :  1.0   Min.   : 0.00   Min.   :  0.00  \n",
       " 1st Qu.:282.5   1st Qu.: 71.5   1st Qu.: 5.00   1st Qu.: 33.50  \n",
       " Median :413.0   Median :103.0   Median : 9.00   Median : 52.00  \n",
       " Mean   :403.6   Mean   :107.8   Mean   :11.62   Mean   : 54.75  \n",
       " 3rd Qu.:526.0   3rd Qu.:141.5   3rd Qu.:18.00   3rd Qu.: 73.00  \n",
       " Max.   :687.0   Max.   :238.0   Max.   :40.00   Max.   :130.00  \n",
       "      RBI             Walks            Years            CAtBat       \n",
       " Min.   :  0.00   Min.   :  0.00   Min.   : 1.000   Min.   :   19.0  \n",
       " 1st Qu.: 30.00   1st Qu.: 23.00   1st Qu.: 4.000   1st Qu.:  842.5  \n",
       " Median : 47.00   Median : 37.00   Median : 6.000   Median : 1931.0  \n",
       " Mean   : 51.49   Mean   : 41.11   Mean   : 7.312   Mean   : 2657.5  \n",
       " 3rd Qu.: 71.00   3rd Qu.: 57.00   3rd Qu.:10.000   3rd Qu.: 3890.5  \n",
       " Max.   :121.00   Max.   :105.00   Max.   :24.000   Max.   :14053.0  \n",
       "     CHits            CHmRun           CRuns             CRBI       \n",
       " Min.   :   4.0   Min.   :  0.00   Min.   :   2.0   Min.   :   3.0  \n",
       " 1st Qu.: 212.0   1st Qu.: 15.00   1st Qu.: 105.5   1st Qu.:  95.0  \n",
       " Median : 516.0   Median : 40.00   Median : 250.0   Median : 230.0  \n",
       " Mean   : 722.2   Mean   : 69.24   Mean   : 361.2   Mean   : 330.4  \n",
       " 3rd Qu.:1054.0   3rd Qu.: 92.50   3rd Qu.: 497.5   3rd Qu.: 424.5  \n",
       " Max.   :4256.0   Max.   :548.00   Max.   :2165.0   Max.   :1659.0  \n",
       "     CWalks       League  Division    PutOuts          Assists     \n",
       " Min.   :   1.0   A:139   E:129    Min.   :   0.0   Min.   :  0.0  \n",
       " 1st Qu.:  71.0   N:124   W:134    1st Qu.: 113.5   1st Qu.:  8.0  \n",
       " Median : 174.0                    Median : 224.0   Median : 45.0  \n",
       " Mean   : 260.3                    Mean   : 290.7   Mean   :118.8  \n",
       " 3rd Qu.: 328.5                    3rd Qu.: 322.5   3rd Qu.:192.0  \n",
       " Max.   :1566.0                    Max.   :1377.0   Max.   :492.0  \n",
       "     Errors           Salary      NewLeague\n",
       " Min.   : 0.000   Min.   :4.212   A:141    \n",
       " 1st Qu.: 3.000   1st Qu.:5.247   N:122    \n",
       " Median : 7.000   Median :6.052            \n",
       " Mean   : 8.593   Mean   :5.927            \n",
       " 3rd Qu.:13.000   3rd Qu.:6.620            \n",
       " Max.   :32.000   Max.   :7.808            "
      ]
     },
     "metadata": {},
     "output_type": "display_data"
    }
   ],
   "source": [
    "# a)  Remove the observations for whom the salary information is unknown, and then log-transform the salaries.\n",
    "\n",
    "# remove NA\n",
    "remove = is.na(Hitters[,\"Salary\"])\n",
    "Hitters = Hitters[!remove,]\n",
    "\n",
    "# log transform\n",
    "Hitters[,\"Salary\"]=log(Hitters[,\"Salary\"])\n",
    "\n",
    "summary(Hitters)"
   ]
  },
  {
   "cell_type": "code",
   "execution_count": 31,
   "id": "60766a15",
   "metadata": {},
   "outputs": [],
   "source": [
    "# b)  Create a training set consisting of the first 200 observations, and a test set consisting of the remaining observations.\n",
    "\n",
    "Hitters_train=Hitters[1:200,]\n",
    "Hitters_test=Hitters[-c(1:200),]"
   ]
  },
  {
   "cell_type": "code",
   "execution_count": 32,
   "id": "976764eb",
   "metadata": {},
   "outputs": [
    {
     "name": "stderr",
     "output_type": "stream",
     "text": [
      "Your code contains a unicode char which cannot be displayed in your\n",
      "current locale and R will silently convert it to an escaped form when the\n",
      "R kernel executes this code. This can lead to subtle errors if you use\n",
      "such chars to do comparisons. For more information, please see\n",
      "https://github.com/IRkernel/repr/wiki/Problems-with-unicode-on-windowsLoaded gbm 2.1.8\n",
      "\n"
     ]
    },
    {
     "data": {
      "image/png": "[encoded data removed]",
      "text/plain": [
       "plot without title"
      ]
     },
     "metadata": {
      "image/png": {
       "height": 420,
       "width": 420
      }
     },
     "output_type": "display_data"
    }
   ],
   "source": [
    "# c) Perform boosting on the training set with 1,000 trees for a range of values of the shrinkage parameter λ. \n",
    "# Produce a plot with different shrinkage values on the x-axis and the corresponding training set MSE on the y-axis\n",
    "# d)  Produce a plot with different shrinkage values on the x-axis and the corresponding test set MSE on the y-axis.\n",
    "\n",
    "library(gbm)\n",
    "\n",
    "train_mse=c()\n",
    "test_mse=c()\n",
    "\n",
    "# run different shrinkage\n",
    "for(shr in seq(0,0.08,0.002)){\n",
    "  Hitters_gbm = gbm(Salary~., data = Hitters_train,shrinkage = shr, n.trees = 1000, distribution = 'gaussian')\n",
    "  \n",
    "  # Train\n",
    "  Hitters_pred = predict(Hitters_gbm, Hitters_train,n.trees = 1000)\n",
    "  train_mse = rbind(train_mse, mean((Hitters_pred - Hitters_train[,'Salary'])^2))\n",
    "  \n",
    "  # Test\n",
    "  Hitters_pred = predict(Hitters_gbm, Hitters_test,n.trees = 1000)\n",
    "  test_mse = rbind(test_mse, mean((Hitters_pred - Hitters_test[,'Salary'])^2))\n",
    "}\n",
    "\n",
    "# plot results\n",
    "plot(seq(0,0.08,0.002),train_mse,type='l', xlab='shrinkage',xlim = c(0.003,0.07),ylab='MSE')\n",
    "lines(seq(0,0.08,0.002),test_mse,col='red')\n",
    "legend(x='top',legend = c('train MSE','test MSE'),col=c('black','red'),lty=1,text.width = 0.005)"
   ]
  },
  {
   "cell_type": "code",
   "execution_count": 34,
   "id": "a564e1b4",
   "metadata": {},
   "outputs": [
    {
     "name": "stdout",
     "output_type": "stream",
     "text": [
      "        Boost    Linear     Ridge\n",
      "[1,] 0.274711 0.4917959 0.5145349\n"
     ]
    }
   ],
   "source": [
    "# e) Compare the test MSE of boosting to the test MSE that results from applying two of the regression approaches seen in\n",
    "# Chapters 3 and 6.\n",
    "\n",
    "tb=c()\n",
    "\n",
    "# Boosting\n",
    "Hitters_gbm = gbm(Salary~., data = Hitters_train, shrinkage = 0.01,n.trees = 1000,distribution = 'gaussian')\n",
    "Hitters_pred = predict(Hitters_gbm, Hitters_test, n.trees = 1000)\n",
    "tb=cbind(tb,'Boost' = mean((Hitters_pred - Hitters_test[,'Salary'])^2))\n",
    "\n",
    "# Ch3 - linear regression\n",
    "Hitters_lm = lm(Salary~., Hitters_train)\n",
    "Hitters_pred = predict(Hitters_lm, Hitters_test)\n",
    "tb = cbind(tb,'Linear'= mean((Hitters_pred - Hitters_test[,'Salary'])^2))\n",
    "\n",
    "# Ch6 - ridge regression\n",
    "library(glmnet)\n",
    "\n",
    "x = model.matrix(Salary ~ ., data = Hitters_train)\n",
    "x_test = model.matrix(Salary ~ ., data = Hitters_test)\n",
    "y = Hitters_train$Salary\n",
    "\n",
    "Hitters_glm = glmnet(x, y, alpha = 0)\n",
    "Hitters_pred = predict(Hitters_glm, x_test)\n",
    "tb = cbind(tb,'Ridge'=mean((Hitters_pred - Hitters_test[,'Salary'])^2))\n",
    "\n",
    "print(tb)"
   ]
  },
  {
   "cell_type": "code",
   "execution_count": 36,
   "id": "360d0ce9",
   "metadata": {},
   "outputs": [
    {
     "data": {
      "text/html": [
       "<table class=\"dataframe\">\n",
       "<caption>A data.frame: 19 × 2</caption>\n",
       "<thead>\n",
       "\t<tr><th></th><th scope=col>var</th><th scope=col>rel.inf</th></tr>\n",
       "\t<tr><th></th><th scope=col>&lt;chr&gt;</th><th scope=col>&lt;dbl&gt;</th></tr>\n",
       "</thead>\n",
       "<tbody>\n",
       "\t<tr><th scope=row>CAtBat</th><td>CAtBat   </td><td>25.93102332</td></tr>\n",
       "\t<tr><th scope=row>CRBI</th><td>CRBI     </td><td>12.97409589</td></tr>\n",
       "\t<tr><th scope=row>CHits</th><td>CHits    </td><td>10.90462357</td></tr>\n",
       "\t<tr><th scope=row>CWalks</th><td>CWalks   </td><td> 8.14224324</td></tr>\n",
       "\t<tr><th scope=row>CRuns</th><td>CRuns    </td><td> 8.06903590</td></tr>\n",
       "\t<tr><th scope=row>CHmRun</th><td>CHmRun   </td><td> 6.23489477</td></tr>\n",
       "\t<tr><th scope=row>Years</th><td>Years    </td><td> 6.04384082</td></tr>\n",
       "\t<tr><th scope=row>Hits</th><td>Hits     </td><td> 4.07772465</td></tr>\n",
       "\t<tr><th scope=row>Walks</th><td>Walks    </td><td> 3.72255704</td></tr>\n",
       "\t<tr><th scope=row>RBI</th><td>RBI      </td><td> 3.28787201</td></tr>\n",
       "\t<tr><th scope=row>PutOuts</th><td>PutOuts  </td><td> 3.07126379</td></tr>\n",
       "\t<tr><th scope=row>AtBat</th><td>AtBat    </td><td> 1.89930953</td></tr>\n",
       "\t<tr><th scope=row>Runs</th><td>Runs     </td><td> 1.41109757</td></tr>\n",
       "\t<tr><th scope=row>HmRun</th><td>HmRun    </td><td> 1.29905688</td></tr>\n",
       "\t<tr><th scope=row>Errors</th><td>Errors   </td><td> 1.14362147</td></tr>\n",
       "\t<tr><th scope=row>Assists</th><td>Assists  </td><td> 0.80598676</td></tr>\n",
       "\t<tr><th scope=row>Division</th><td>Division </td><td> 0.68781051</td></tr>\n",
       "\t<tr><th scope=row>NewLeague</th><td>NewLeague</td><td> 0.21574364</td></tr>\n",
       "\t<tr><th scope=row>League</th><td>League   </td><td> 0.07819863</td></tr>\n",
       "</tbody>\n",
       "</table>\n"
      ],
      "text/latex": [
       "A data.frame: 19 × 2\n",
       "\\begin{tabular}{r|ll}\n",
       "  & var & rel.inf\\\\\n",
       "  & <chr> & <dbl>\\\\\n",
       "\\hline\n",
       "\tCAtBat & CAtBat    & 25.93102332\\\\\n",
       "\tCRBI & CRBI      & 12.97409589\\\\\n",
       "\tCHits & CHits     & 10.90462357\\\\\n",
       "\tCWalks & CWalks    &  8.14224324\\\\\n",
       "\tCRuns & CRuns     &  8.06903590\\\\\n",
       "\tCHmRun & CHmRun    &  6.23489477\\\\\n",
       "\tYears & Years     &  6.04384082\\\\\n",
       "\tHits & Hits      &  4.07772465\\\\\n",
       "\tWalks & Walks     &  3.72255704\\\\\n",
       "\tRBI & RBI       &  3.28787201\\\\\n",
       "\tPutOuts & PutOuts   &  3.07126379\\\\\n",
       "\tAtBat & AtBat     &  1.89930953\\\\\n",
       "\tRuns & Runs      &  1.41109757\\\\\n",
       "\tHmRun & HmRun     &  1.29905688\\\\\n",
       "\tErrors & Errors    &  1.14362147\\\\\n",
       "\tAssists & Assists   &  0.80598676\\\\\n",
       "\tDivision & Division  &  0.68781051\\\\\n",
       "\tNewLeague & NewLeague &  0.21574364\\\\\n",
       "\tLeague & League    &  0.07819863\\\\\n",
       "\\end{tabular}\n"
      ],
      "text/markdown": [
       "\n",
       "A data.frame: 19 × 2\n",
       "\n",
       "| <!--/--> | var &lt;chr&gt; | rel.inf &lt;dbl&gt; |\n",
       "|---|---|---|\n",
       "| CAtBat | CAtBat    | 25.93102332 |\n",
       "| CRBI | CRBI      | 12.97409589 |\n",
       "| CHits | CHits     | 10.90462357 |\n",
       "| CWalks | CWalks    |  8.14224324 |\n",
       "| CRuns | CRuns     |  8.06903590 |\n",
       "| CHmRun | CHmRun    |  6.23489477 |\n",
       "| Years | Years     |  6.04384082 |\n",
       "| Hits | Hits      |  4.07772465 |\n",
       "| Walks | Walks     |  3.72255704 |\n",
       "| RBI | RBI       |  3.28787201 |\n",
       "| PutOuts | PutOuts   |  3.07126379 |\n",
       "| AtBat | AtBat     |  1.89930953 |\n",
       "| Runs | Runs      |  1.41109757 |\n",
       "| HmRun | HmRun     |  1.29905688 |\n",
       "| Errors | Errors    |  1.14362147 |\n",
       "| Assists | Assists   |  0.80598676 |\n",
       "| Division | Division  |  0.68781051 |\n",
       "| NewLeague | NewLeague |  0.21574364 |\n",
       "| League | League    |  0.07819863 |\n",
       "\n"
      ],
      "text/plain": [
       "          var       rel.inf    \n",
       "CAtBat    CAtBat    25.93102332\n",
       "CRBI      CRBI      12.97409589\n",
       "CHits     CHits     10.90462357\n",
       "CWalks    CWalks     8.14224324\n",
       "CRuns     CRuns      8.06903590\n",
       "CHmRun    CHmRun     6.23489477\n",
       "Years     Years      6.04384082\n",
       "Hits      Hits       4.07772465\n",
       "Walks     Walks      3.72255704\n",
       "RBI       RBI        3.28787201\n",
       "PutOuts   PutOuts    3.07126379\n",
       "AtBat     AtBat      1.89930953\n",
       "Runs      Runs       1.41109757\n",
       "HmRun     HmRun      1.29905688\n",
       "Errors    Errors     1.14362147\n",
       "Assists   Assists    0.80598676\n",
       "Division  Division   0.68781051\n",
       "NewLeague NewLeague  0.21574364\n",
       "League    League     0.07819863"
      ]
     },
     "metadata": {},
     "output_type": "display_data"
    },
    {
     "data": {
      "image/png": "[encoded data removed]",
      "text/plain": [
       "plot without title"
      ]
     },
     "metadata": {
      "image/png": {
       "height": 420,
       "width": 420
      }
     },
     "output_type": "display_data"
    }
   ],
   "source": [
    "# f) Which variables appear to be the most important predictors in the boosted model?\n",
    "\n",
    "summary(Hitters_gbm)"
   ]
  },
  {
   "cell_type": "code",
   "execution_count": 37,
   "id": "adc588b7",
   "metadata": {},
   "outputs": [
    {
     "data": {
      "text/html": [
       "0.229677164847296"
      ],
      "text/latex": [
       "0.229677164847296"
      ],
      "text/markdown": [
       "0.229677164847296"
      ],
      "text/plain": [
       "[1] 0.2296772"
      ]
     },
     "metadata": {},
     "output_type": "display_data"
    }
   ],
   "source": [
    "# g) Now apply bagging to the training set. What is the test set MSE for this approach?\n",
    "\n",
    "Hitters_rf=randomForest(Salary~., data = Hitters_train, mtry=ncol(Hitters_train)-1)\n",
    "Hitters_pred = predict(Hitters_rf, Hitters_test)\n",
    "mean((Hitters_pred - Hitters_test[,'Salary'])^2)"
   ]
  },
  {
   "cell_type": "markdown",
   "id": "d0ae5958",
   "metadata": {},
   "source": [
    "### Source\n",
    "https://rpubs.com/evertonjlima/242633"
   ]
  }
 ],
 "metadata": {
  "kernelspec": {
   "display_name": "R",
   "language": "R",
   "name": "ir"
  },
  "language_info": {
   "codemirror_mode": "r",
   "file_extension": ".r",
   "mimetype": "text/x-r-source",
   "name": "R",
   "pygments_lexer": "r",
   "version": "4.0.5"
  }
 },
 "nbformat": 4,
 "nbformat_minor": 5
}
