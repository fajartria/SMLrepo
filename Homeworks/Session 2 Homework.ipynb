{
 "cells": [
  {
   "cell_type": "markdown",
   "id": "94f62433",
   "metadata": {},
   "source": [
    "# Session 2 - Homework ANGGORO Fajar Tri"
   ]
  },
  {
   "cell_type": "markdown",
   "id": "d0cc3776",
   "metadata": {},
   "source": [
    "## Exercise 6 Chapter 4\n",
    "Suppose we collect data for a group of students in a statistics class with variables X1 = hours studied, X2 = undergrad GPA, and Y = receive an A. We fit a logistic regression and produce estimated coefficient, βˆ0 = −6, βˆ1 = 0.05, βˆ2 = 1."
   ]
  },
  {
   "cell_type": "code",
   "execution_count": 2,
   "id": "f90314d7",
   "metadata": {},
   "outputs": [
    {
     "data": {
      "text/html": [
       "0.377540668798145"
      ],
      "text/latex": [
       "0.377540668798145"
      ],
      "text/markdown": [
       "0.377540668798145"
      ],
      "text/plain": [
       "[1] 0.3775407"
      ]
     },
     "metadata": {},
     "output_type": "display_data"
    }
   ],
   "source": [
    "# a)  Estimate the probability that a student who studies for 40 h and has an undergrad GPA of 3.5 gets an A in the class.\n",
    "\n",
    "# Define values\n",
    "x1 = 40\n",
    "x2 = 3.5\n",
    "lr = -6 +(0.05*x1) + (1*x2)\n",
    "\n",
    "# Calculate probability\n",
    "prob = exp(lr) / (1 + exp(lr))\n",
    "prob"
   ]
  },
  {
   "cell_type": "code",
   "execution_count": 3,
   "id": "5d049d31",
   "metadata": {},
   "outputs": [],
   "source": [
    "# b) How many hours would the student in part (a) need to study to have a 50 % chance of getting an A in the class?\n",
    "# putting the formula into Excel solver will yield x1 = 50 hours"
   ]
  },
  {
   "cell_type": "markdown",
   "id": "6d208bd9",
   "metadata": {},
   "source": [
    "## Exercise 8 Chapter 4\n",
    "\n",
    "Suppose that we take a data set, divide it into equally-sized training and test sets, and then try out two different classification procedures. First we use logistic regression and get an error rate of 20 % on the training data and 30 % on the test data. Next we use 1-nearest neighbors (i.e. K = 1) and get an average error rate (averaged over both test and training data sets) of 18 %. Based on these results, which method should we prefer to use for classification of new observations? Why?"
   ]
  },
  {
   "cell_type": "code",
   "execution_count": 4,
   "id": "d6592bb7",
   "metadata": {},
   "outputs": [],
   "source": [
    "# We should use the Logistic regression, as KNN with k = 1 will overfit the data or has a training set error of 0, therefore,\n",
    "# and average error rate of 18% could be interpreted as 36% error rate on the test set (higher than the logreg)"
   ]
  },
  {
   "cell_type": "markdown",
   "id": "4cbdda57",
   "metadata": {},
   "source": [
    "## Exercise 9 Chapter 4\n",
    "\n",
    "This problem has to do with odds."
   ]
  },
  {
   "cell_type": "code",
   "execution_count": 5,
   "id": "d037c204",
   "metadata": {},
   "outputs": [],
   "source": [
    "# a) On average, what fraction of people with an odds of 0.37 of defaulting on their credit card payment will in fact default?\n",
    "\n",
    "# could be written as: 0.37 = p(X) / (1 - p(X))\n",
    "# therefore, p(X) = 0.27 or 27%"
   ]
  },
  {
   "cell_type": "code",
   "execution_count": 6,
   "id": "a98bc2fa",
   "metadata": {},
   "outputs": [],
   "source": [
    "# b) Suppose that an individual has a 16 % chance of defaulting on her credit card payment. What are the odds that she will default?\n",
    "\n",
    "# could be written as 0.16 / (1 - 0.16)\n",
    "# therefore, the odds = 0.19 or 19% chance to default"
   ]
  },
  {
   "cell_type": "markdown",
   "id": "33bac9f8",
   "metadata": {},
   "source": [
    "## Exercise 10 Chapter 4\n",
    "\n",
    "This question should be answered using the Weekly data set, which is part of the ISLR package. This data is similar in nature to the Smarket data from this chapter’s lab, except that it contains 1, 089 weekly returns for 21 years, from the beginning of 1990 to the end of 2010."
   ]
  },
  {
   "cell_type": "code",
   "execution_count": 7,
   "id": "d9477e5e",
   "metadata": {},
   "outputs": [
    {
     "data": {
      "text/plain": [
       "      Year           Lag1               Lag2               Lag3         \n",
       " Min.   :1990   Min.   :-18.1950   Min.   :-18.1950   Min.   :-18.1950  \n",
       " 1st Qu.:1995   1st Qu.: -1.1540   1st Qu.: -1.1540   1st Qu.: -1.1580  \n",
       " Median :2000   Median :  0.2410   Median :  0.2410   Median :  0.2410  \n",
       " Mean   :2000   Mean   :  0.1506   Mean   :  0.1511   Mean   :  0.1472  \n",
       " 3rd Qu.:2005   3rd Qu.:  1.4050   3rd Qu.:  1.4090   3rd Qu.:  1.4090  \n",
       " Max.   :2010   Max.   : 12.0260   Max.   : 12.0260   Max.   : 12.0260  \n",
       "      Lag4               Lag5              Volume            Today         \n",
       " Min.   :-18.1950   Min.   :-18.1950   Min.   :0.08747   Min.   :-18.1950  \n",
       " 1st Qu.: -1.1580   1st Qu.: -1.1660   1st Qu.:0.33202   1st Qu.: -1.1540  \n",
       " Median :  0.2380   Median :  0.2340   Median :1.00268   Median :  0.2410  \n",
       " Mean   :  0.1458   Mean   :  0.1399   Mean   :1.57462   Mean   :  0.1499  \n",
       " 3rd Qu.:  1.4090   3rd Qu.:  1.4050   3rd Qu.:2.05373   3rd Qu.:  1.4050  \n",
       " Max.   : 12.0260   Max.   : 12.0260   Max.   :9.32821   Max.   : 12.0260  \n",
       " Direction \n",
       " Down:484  \n",
       " Up  :605  \n",
       "           \n",
       "           \n",
       "           \n",
       "           "
      ]
     },
     "metadata": {},
     "output_type": "display_data"
    }
   ],
   "source": [
    "library(ISLR)\n",
    "\n",
    "#a) Produce some numerical and graphical summaries of the Weekly data. Do there appear to be any patterns?\n",
    "# numerical summary\n",
    "summary(Weekly)"
   ]
  },
  {
   "cell_type": "code",
   "execution_count": 11,
   "id": "f06dce8e",
   "metadata": {},
   "outputs": [
    {
     "data": {
      "image/png": "[encoded data removed]",
      "text/plain": [
       "plot without title"
      ]
     },
     "metadata": {
      "image/png": {
       "height": 420,
       "width": 420
      }
     },
     "output_type": "display_data"
    }
   ],
   "source": [
    "# graphical summaries\n",
    "# The volume is increasing overtime\n",
    "plot(Weekly$Volume)"
   ]
  },
  {
   "cell_type": "code",
   "execution_count": 13,
   "id": "521329b1",
   "metadata": {},
   "outputs": [
    {
     "data": {
      "text/plain": [
       "\n",
       "Call:\n",
       "glm(formula = Direction ~ Lag1 + Lag2 + Lag3 + Lag4 + Lag5 + \n",
       "    Volume, family = binomial, data = Weekly)\n",
       "\n",
       "Deviance Residuals: \n",
       "    Min       1Q   Median       3Q      Max  \n",
       "-1.6949  -1.2565   0.9913   1.0849   1.4579  \n",
       "\n",
       "Coefficients:\n",
       "            Estimate Std. Error z value Pr(>|z|)   \n",
       "(Intercept)  0.26686    0.08593   3.106   0.0019 **\n",
       "Lag1        -0.04127    0.02641  -1.563   0.1181   \n",
       "Lag2         0.05844    0.02686   2.175   0.0296 * \n",
       "Lag3        -0.01606    0.02666  -0.602   0.5469   \n",
       "Lag4        -0.02779    0.02646  -1.050   0.2937   \n",
       "Lag5        -0.01447    0.02638  -0.549   0.5833   \n",
       "Volume      -0.02274    0.03690  -0.616   0.5377   \n",
       "---\n",
       "Signif. codes:  0 '***' 0.001 '**' 0.01 '*' 0.05 '.' 0.1 ' ' 1\n",
       "\n",
       "(Dispersion parameter for binomial family taken to be 1)\n",
       "\n",
       "    Null deviance: 1496.2  on 1088  degrees of freedom\n",
       "Residual deviance: 1486.4  on 1082  degrees of freedom\n",
       "AIC: 1500.4\n",
       "\n",
       "Number of Fisher Scoring iterations: 4\n"
      ]
     },
     "metadata": {},
     "output_type": "display_data"
    }
   ],
   "source": [
    "# b)  Use the full data set to perform a logistic regression with Direction as the response and the five lag variables plus Volume\n",
    "# as predictors. Use the summary function to print the results. Do any of the predictors appear to be statistically significant? If so,\n",
    "# which ones?\n",
    "\n",
    "logreg <- glm(Direction ~ Lag1 + Lag2 + Lag3 + Lag4 + Lag5 + Volume, data = Weekly, binomial)\n",
    "summary(logreg) # only lag2 is statistically signifant"
   ]
  },
  {
   "cell_type": "code",
   "execution_count": 16,
   "id": "3182fe4f",
   "metadata": {},
   "outputs": [
    {
     "data": {
      "text/plain": [
       "      Direction\n",
       "pred   Down  Up\n",
       "  Down   54  48\n",
       "  Up    430 557"
      ]
     },
     "metadata": {},
     "output_type": "display_data"
    }
   ],
   "source": [
    "# c) Compute the confusion matrix and overall fraction of correct predictions. Explain what the confusion matrix is telling you\n",
    "# about the types of mistakes made by logistic regression.\n",
    "\n",
    "res <- predict(logreg, type = \"response\")\n",
    "pred <- rep(\"Down\", length(res))\n",
    "pred[res > 0.5] <- \"Up\"\n",
    "table(pred, Direction)\n",
    "# We have an accuracy of 56%\n",
    "# our model is performing better on predicting the \"up\" direction, but poorly on the \"Down\" direction"
   ]
  },
  {
   "cell_type": "code",
   "execution_count": 21,
   "id": "f8ba28f7",
   "metadata": {},
   "outputs": [
    {
     "name": "stderr",
     "output_type": "stream",
     "text": [
      "The following objects are masked from Weekly (pos = 3):\n",
      "\n",
      "    Direction, Lag1, Lag2, Lag3, Lag4, Lag5, Today, Volume, Year\n",
      "\n",
      "\n",
      "The following objects are masked from Weekly (pos = 4):\n",
      "\n",
      "    Direction, Lag1, Lag2, Lag3, Lag4, Lag5, Today, Volume, Year\n",
      "\n",
      "\n"
     ]
    },
    {
     "data": {
      "text/plain": [
       "\n",
       "Call:\n",
       "glm(formula = Direction ~ Lag2, family = binomial, data = Weekly, \n",
       "    subset = train)\n",
       "\n",
       "Deviance Residuals: \n",
       "   Min      1Q  Median      3Q     Max  \n",
       "-1.536  -1.264   1.021   1.091   1.368  \n",
       "\n",
       "Coefficients:\n",
       "            Estimate Std. Error z value Pr(>|z|)   \n",
       "(Intercept)  0.20326    0.06428   3.162  0.00157 **\n",
       "Lag2         0.05810    0.02870   2.024  0.04298 * \n",
       "---\n",
       "Signif. codes:  0 '***' 0.001 '**' 0.01 '*' 0.05 '.' 0.1 ' ' 1\n",
       "\n",
       "(Dispersion parameter for binomial family taken to be 1)\n",
       "\n",
       "    Null deviance: 1354.7  on 984  degrees of freedom\n",
       "Residual deviance: 1350.5  on 983  degrees of freedom\n",
       "AIC: 1354.5\n",
       "\n",
       "Number of Fisher Scoring iterations: 4\n"
      ]
     },
     "metadata": {},
     "output_type": "display_data"
    }
   ],
   "source": [
    "# d)  Now fit the logistic regression model using a training data period from 1990 to 2008, with Lag2 as the only predictor. Compute the\n",
    "# confusion matrix and the overall fraction of correct predictions for the held out data (that is, the data from 2009 and 2010).\n",
    "attach(Weekly)\n",
    "\n",
    "train <- (Year < 2009)\n",
    "test <- Weekly[!train, ]\n",
    "y_test <- Direction[!train]\n",
    "logreg2 <- glm(Direction ~ Lag2, data = Weekly, family = binomial, subset = train)\n",
    "summary(logreg2)"
   ]
  },
  {
   "cell_type": "code",
   "execution_count": 22,
   "id": "73be86be",
   "metadata": {},
   "outputs": [
    {
     "data": {
      "text/plain": [
       "      y_test\n",
       "pred   Down Up\n",
       "  Down    9  5\n",
       "  Up     34 56"
      ]
     },
     "metadata": {},
     "output_type": "display_data"
    }
   ],
   "source": [
    "# prediction and confusion matrix\n",
    "res <- predict(logreg2, test, type = \"response\")\n",
    "pred <- rep(\"Down\", length(res))\n",
    "pred[res > 0.5] <- \"Up\"\n",
    "table(pred, y_test)"
   ]
  },
  {
   "cell_type": "code",
   "execution_count": 24,
   "id": "ca2fa6e2",
   "metadata": {},
   "outputs": [
    {
     "data": {
      "text/plain": [
       "Call:\n",
       "lda(Direction ~ Lag2, data = Weekly, subset = train)\n",
       "\n",
       "Prior probabilities of groups:\n",
       "     Down        Up \n",
       "0.4477157 0.5522843 \n",
       "\n",
       "Group means:\n",
       "            Lag2\n",
       "Down -0.03568254\n",
       "Up    0.26036581\n",
       "\n",
       "Coefficients of linear discriminants:\n",
       "           LD1\n",
       "Lag2 0.4414162"
      ]
     },
     "metadata": {},
     "output_type": "display_data"
    }
   ],
   "source": [
    "# e) Repeat (d) using LDA.\n",
    "library(MASS)\n",
    "\n",
    "lda <- lda(Direction ~ Lag2, data = Weekly, subset = train)\n",
    "lda"
   ]
  },
  {
   "cell_type": "code",
   "execution_count": 25,
   "id": "96c4369d",
   "metadata": {},
   "outputs": [
    {
     "data": {
      "text/plain": [
       "      y_test\n",
       "       Down Up\n",
       "  Down    9  5\n",
       "  Up     34 56"
      ]
     },
     "metadata": {},
     "output_type": "display_data"
    }
   ],
   "source": [
    "res <- predict(lda, test)\n",
    "table(res$class, y_test)"
   ]
  },
  {
   "cell_type": "code",
   "execution_count": 26,
   "id": "65ee339c",
   "metadata": {},
   "outputs": [
    {
     "data": {
      "text/plain": [
       "Call:\n",
       "qda(Direction ~ Lag2, data = Weekly, subset = train)\n",
       "\n",
       "Prior probabilities of groups:\n",
       "     Down        Up \n",
       "0.4477157 0.5522843 \n",
       "\n",
       "Group means:\n",
       "            Lag2\n",
       "Down -0.03568254\n",
       "Up    0.26036581"
      ]
     },
     "metadata": {},
     "output_type": "display_data"
    }
   ],
   "source": [
    "# f) Repeat (d) using QDA.\n",
    "library(MASS)\n",
    "\n",
    "qda <- qda(Direction ~ Lag2, data = Weekly, subset = train)\n",
    "qda"
   ]
  },
  {
   "cell_type": "code",
   "execution_count": 27,
   "id": "04858fbe",
   "metadata": {},
   "outputs": [
    {
     "data": {
      "text/plain": [
       "      y_test\n",
       "       Down Up\n",
       "  Down    0  0\n",
       "  Up     43 61"
      ]
     },
     "metadata": {},
     "output_type": "display_data"
    }
   ],
   "source": [
    "res <- predict(qda, test)\n",
    "table(res$class, y_test)"
   ]
  },
  {
   "cell_type": "code",
   "execution_count": 28,
   "id": "3a334328",
   "metadata": {},
   "outputs": [
    {
     "data": {
      "text/plain": [
       "      y_test\n",
       "knn    Down Up\n",
       "  Down   21 29\n",
       "  Up     22 32"
      ]
     },
     "metadata": {},
     "output_type": "display_data"
    }
   ],
   "source": [
    "# g) Repeat (d) using KNN K=1.\n",
    "library(class)\n",
    "\n",
    "x_train <- as.matrix(Lag2[train])\n",
    "x_test <- as.matrix(Lag2[!train])\n",
    "y_train <- Direction[train]\n",
    "\n",
    "\n",
    "knn <- knn(x_train, x_test, y_train, k = 1)\n",
    "table(knn, y_test)"
   ]
  },
  {
   "cell_type": "code",
   "execution_count": 29,
   "id": "d2098ed4",
   "metadata": {},
   "outputs": [],
   "source": [
    "# h)  Which of these methods appears to provide the best results on this data?\n",
    "\n",
    "# Evaluating the error rates & accuracy, logistic regression & LDA has the lowest error rates"
   ]
  },
  {
   "cell_type": "code",
   "execution_count": 30,
   "id": "1c64507b",
   "metadata": {},
   "outputs": [
    {
     "data": {
      "text/plain": [
       "      y_test\n",
       "knn5   Down Up\n",
       "  Down   16 21\n",
       "  Up     27 40"
      ]
     },
     "metadata": {},
     "output_type": "display_data"
    }
   ],
   "source": [
    "# i) Experiment with different combinations of predictors, including possible transformations and interactions, for each of the\n",
    "# methods. Report the variables, method, and associated confusion matrix that appears to provide the best results on the held\n",
    "# out data. Note that you should also experiment with values for K in the KNN classifier.\n",
    "\n",
    "# lets try building the KNN with 5 neighbours\n",
    "knn5 <- knn(x_train, x_test, y_train, k = 5)\n",
    "table(knn5, y_test) # Model improves a bit, but logreg is still the better option"
   ]
  },
  {
   "cell_type": "markdown",
   "id": "0a26c254",
   "metadata": {},
   "source": [
    "## Exercise 11 Chapter 4\n",
    "\n",
    "In this problem, you will develop a model to predict whether a given car gets high or low gas mileage based on the Auto data set."
   ]
  },
  {
   "cell_type": "code",
   "execution_count": 46,
   "id": "961129e7",
   "metadata": {},
   "outputs": [
    {
     "name": "stderr",
     "output_type": "stream",
     "text": [
      "The following object is masked _by_ .GlobalEnv:\n",
      "\n",
      "    mpg01\n",
      "\n",
      "\n",
      "The following objects are masked from Auto (pos = 3):\n",
      "\n",
      "    acceleration, Auto.mpg01, cylinders, displacement, horsepower, mpg,\n",
      "    mpg01, name, origin, weight, year\n",
      "\n",
      "\n"
     ]
    }
   ],
   "source": [
    "# a)  Create a binary variable, mpg01, that contains a 1 if mpg contains a value above its median, and a 0 if mpg contains \n",
    "# a value below its median. You can compute the median using the median() function. Note you may find it helpful to use the \n",
    "# data.frame() function to create a single data set containing both mpg01 and the other Auto variables.\n",
    "\n",
    "attach(Auto)\n",
    "mpg01 <- rep(0, length(mpg))\n",
    "mpg01[mpg > median(mpg)] <- 1\n",
    "Auto <- data.frame(Auto, mpg01)"
   ]
  },
  {
   "cell_type": "code",
   "execution_count": 37,
   "id": "0795614f",
   "metadata": {},
   "outputs": [
    {
     "data": {
      "image/png": "[encoded data removed]",
      "text/plain": [
       "plot without title"
      ]
     },
     "metadata": {
      "image/png": {
       "height": 420,
       "width": 420
      }
     },
     "output_type": "display_data"
    }
   ],
   "source": [
    "# b) Explore the data graphically in order to investigate the association between mpg01 and the other features. Which of the \n",
    "# other features seem most likely to be useful in predicting mpg01? Scatterplots and boxplots may be useful tools to \n",
    "# answer this question. Describe your findings.\n",
    "\n",
    "pairs(Auto) # there is a pattern between mpg01 and horsepower, weight, displacement"
   ]
  },
  {
   "cell_type": "code",
   "execution_count": 47,
   "id": "858408fa",
   "metadata": {},
   "outputs": [],
   "source": [
    "# c)  Split the data into a training set and a test set\n",
    "\n",
    "\n",
    "train <- (year %% 2 == 0)\n",
    "df_train <- Auto[train, ]\n",
    "df_test <- Auto[!train, ]\n",
    "y_test <- mpg01[!train]"
   ]
  },
  {
   "cell_type": "code",
   "execution_count": 50,
   "id": "5ecf605d",
   "metadata": {},
   "outputs": [
    {
     "data": {
      "text/plain": [
       "   y_test\n",
       "     0  1\n",
       "  0 86  9\n",
       "  1 14 73"
      ]
     },
     "metadata": {},
     "output_type": "display_data"
    },
    {
     "data": {
      "text/html": [
       "0.126373626373626"
      ],
      "text/latex": [
       "0.126373626373626"
      ],
      "text/markdown": [
       "0.126373626373626"
      ],
      "text/plain": [
       "[1] 0.1263736"
      ]
     },
     "metadata": {},
     "output_type": "display_data"
    }
   ],
   "source": [
    "# d) Perform LDA on the training data in order to predict mpg01 using the variables that seemed most associated with mpg01 in\n",
    "# (b). What is the test error of the model obtained?\n",
    "\n",
    "lda <- lda(mpg01 ~ cylinders + weight + displacement + horsepower, data = Auto, subset = train)\n",
    "res <- predict(lda, df_test)\n",
    "table(res$class, y_test)\n",
    "mean(res$class != y_test)"
   ]
  },
  {
   "cell_type": "code",
   "execution_count": 51,
   "id": "62f868a5",
   "metadata": {},
   "outputs": [
    {
     "data": {
      "text/plain": [
       "   y_test\n",
       "     0  1\n",
       "  0 89 13\n",
       "  1 11 69"
      ]
     },
     "metadata": {},
     "output_type": "display_data"
    },
    {
     "data": {
      "text/html": [
       "0.131868131868132"
      ],
      "text/latex": [
       "0.131868131868132"
      ],
      "text/markdown": [
       "0.131868131868132"
      ],
      "text/plain": [
       "[1] 0.1318681"
      ]
     },
     "metadata": {},
     "output_type": "display_data"
    }
   ],
   "source": [
    "# e) Perform QDA on the training data in order to predict mpg01 using the variables that seemed most associated with mpg01 in\n",
    "# (b). What is the test error of the model obtained?\n",
    "\n",
    "qda <- qda(mpg01 ~ cylinders + weight + displacement + horsepower, data = Auto, subset = train)\n",
    "res <- predict(qda, df_test)\n",
    "table(res$class, y_test)\n",
    "mean(res$class != y_test)"
   ]
  },
  {
   "cell_type": "code",
   "execution_count": 52,
   "id": "0b520c4b",
   "metadata": {},
   "outputs": [
    {
     "data": {
      "text/plain": [
       "   y_test\n",
       "res  0  1\n",
       "  0 89 11\n",
       "  1 11 71"
      ]
     },
     "metadata": {},
     "output_type": "display_data"
    },
    {
     "data": {
      "text/html": [
       "0.120879120879121"
      ],
      "text/latex": [
       "0.120879120879121"
      ],
      "text/markdown": [
       "0.120879120879121"
      ],
      "text/plain": [
       "[1] 0.1208791"
      ]
     },
     "metadata": {},
     "output_type": "display_data"
    }
   ],
   "source": [
    "# f)  Perform logistic regression on the training data in order to predict mpg01 using the variables that seemed most \n",
    "# associated with mpg01 in (b). What is the test error of the model obtained?\n",
    "\n",
    "logreg <- glm(mpg01 ~ cylinders + weight + displacement + horsepower, data = Auto, family = binomial, subset = train)\n",
    "proba <- predict(logreg, df_test, type = \"response\")\n",
    "res <- rep(0, length(proba))\n",
    "res[proba > 0.5] <- 1\n",
    "table(res, y_test)\n",
    "mean(res != y_test)"
   ]
  },
  {
   "cell_type": "code",
   "execution_count": 56,
   "id": "ce24553a",
   "metadata": {},
   "outputs": [
    {
     "data": {
      "text/plain": [
       "   y_test\n",
       "knn  0  1\n",
       "  0 82  9\n",
       "  1 18 73"
      ]
     },
     "metadata": {},
     "output_type": "display_data"
    },
    {
     "data": {
      "text/html": [
       "0.148351648351648"
      ],
      "text/latex": [
       "0.148351648351648"
      ],
      "text/markdown": [
       "0.148351648351648"
      ],
      "text/plain": [
       "[1] 0.1483516"
      ]
     },
     "metadata": {},
     "output_type": "display_data"
    }
   ],
   "source": [
    "# g)  Perform KNN on the training data, with several values of K, in order to predict mpg01. Use only the variables that \n",
    "# seemed most associated with mpg01 in (b). What test errors do you obtain? Which value of K seems to perform the best on \n",
    "# this data set?\n",
    "\n",
    "x_train <- cbind(cylinders, weight, displacement, horsepower)[train, ]\n",
    "x_test <- cbind(cylinders, weight, displacement, horsepower)[!train, ]\n",
    "y_train <- mpg01[train]\n",
    "\n",
    "# try with 5 neighbours\n",
    "knn <- knn(x_train, x_test, y_train, k = 5)\n",
    "table(knn, y_test)\n",
    "mean(knn != y_test)"
   ]
  },
  {
   "cell_type": "code",
   "execution_count": 57,
   "id": "94ec1cbf",
   "metadata": {},
   "outputs": [
    {
     "data": {
      "text/plain": [
       "   y_test\n",
       "knn  0  1\n",
       "  0 78  7\n",
       "  1 22 75"
      ]
     },
     "metadata": {},
     "output_type": "display_data"
    },
    {
     "data": {
      "text/html": [
       "0.159340659340659"
      ],
      "text/latex": [
       "0.159340659340659"
      ],
      "text/markdown": [
       "0.159340659340659"
      ],
      "text/plain": [
       "[1] 0.1593407"
      ]
     },
     "metadata": {},
     "output_type": "display_data"
    }
   ],
   "source": [
    "# try with 10 neighbours\n",
    "knn <- knn(x_train, x_test, y_train, k = 10)\n",
    "table(knn, y_test)\n",
    "mean(knn != y_test)\n",
    "\n",
    "# 5 is the best number of neighbours"
   ]
  },
  {
   "cell_type": "markdown",
   "id": "0b67e9b6",
   "metadata": {},
   "source": [
    "### Source\n",
    "https://rpubs.com/ppaquay/65560"
   ]
  }
 ],
 "metadata": {
  "kernelspec": {
   "display_name": "R",
   "language": "R",
   "name": "ir"
  },
  "language_info": {
   "codemirror_mode": "r",
   "file_extension": ".r",
   "mimetype": "text/x-r-source",
   "name": "R",
   "pygments_lexer": "r",
   "version": "4.0.5"
  }
 },
 "nbformat": 4,
 "nbformat_minor": 5
}
