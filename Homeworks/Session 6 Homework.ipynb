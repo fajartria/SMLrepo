{
 "cells": [
  {
   "cell_type": "markdown",
   "id": "b165a878",
   "metadata": {},
   "source": [
    "# Session 6 - Homework ANGGORO Fajar Tri"
   ]
  },
  {
   "cell_type": "markdown",
   "id": "35c39395",
   "metadata": {},
   "source": [
    "## Exercise 3 Chapter 10\n",
    "\n",
    "In this problem, you will perform K-means clustering manually, with K = 2, on a small example with n = 6 observations and p = 2 features. The observations are as follows."
   ]
  },
  {
   "cell_type": "code",
   "execution_count": 7,
   "metadata": {},
   "outputs": [
    {
     "data": {
      "text/html": [
       "<table class=\"dataframe\">\n",
       "<caption>A data.frame: 6 × 5</caption>\n",
       "<thead>\n",
       "\t<tr><th></th><th scope=col>X1</th><th scope=col>X2</th><th scope=col>cent.1</th><th scope=col>cent.2</th><th scope=col>labels</th></tr>\n",
       "\t<tr><th></th><th scope=col>&lt;dbl&gt;</th><th scope=col>&lt;dbl&gt;</th><th scope=col>&lt;dbl&gt;</th><th scope=col>&lt;dbl&gt;</th><th scope=col>&lt;int&gt;</th></tr>\n",
       "</thead>\n",
       "<tbody>\n",
       "\t<tr><th scope=row>1</th><td>1</td><td>4</td><td>1</td><td>4</td><td>1</td></tr>\n",
       "\t<tr><th scope=row>2</th><td>1</td><td>3</td><td>1</td><td>3</td><td>5</td></tr>\n",
       "\t<tr><th scope=row>3</th><td>0</td><td>4</td><td>0</td><td>4</td><td>6</td></tr>\n",
       "\t<tr><th scope=row>4</th><td>5</td><td>1</td><td>5</td><td>1</td><td>4</td></tr>\n",
       "\t<tr><th scope=row>5</th><td>6</td><td>2</td><td>6</td><td>2</td><td>2</td></tr>\n",
       "\t<tr><th scope=row>6</th><td>4</td><td>0</td><td>4</td><td>0</td><td>3</td></tr>\n",
       "</tbody>\n",
       "</table>\n"
      ],
      "text/latex": [
       "A data.frame: 6 × 5\n",
       "\\begin{tabular}{r|lllll}\n",
       "  & X1 & X2 & cent.1 & cent.2 & labels\\\\\n",
       "  & <dbl> & <dbl> & <dbl> & <dbl> & <int>\\\\\n",
       "\\hline\n",
       "\t1 & 1 & 4 & 1 & 4 & 1\\\\\n",
       "\t2 & 1 & 3 & 1 & 3 & 5\\\\\n",
       "\t3 & 0 & 4 & 0 & 4 & 6\\\\\n",
       "\t4 & 5 & 1 & 5 & 1 & 4\\\\\n",
       "\t5 & 6 & 2 & 6 & 2 & 2\\\\\n",
       "\t6 & 4 & 0 & 4 & 0 & 3\\\\\n",
       "\\end{tabular}\n"
      ],
      "text/markdown": [
       "\n",
       "A data.frame: 6 × 5\n",
       "\n",
       "| <!--/--> | X1 &lt;dbl&gt; | X2 &lt;dbl&gt; | cent.1 &lt;dbl&gt; | cent.2 &lt;dbl&gt; | labels &lt;int&gt; |\n",
       "|---|---|---|---|---|---|\n",
       "| 1 | 1 | 4 | 1 | 4 | 1 |\n",
       "| 2 | 1 | 3 | 1 | 3 | 5 |\n",
       "| 3 | 0 | 4 | 0 | 4 | 6 |\n",
       "| 4 | 5 | 1 | 5 | 1 | 4 |\n",
       "| 5 | 6 | 2 | 6 | 2 | 2 |\n",
       "| 6 | 4 | 0 | 4 | 0 | 3 |\n",
       "\n"
      ],
      "text/plain": [
       "  X1 X2 cent.1 cent.2 labels\n",
       "1 1  4  1      4      1     \n",
       "2 1  3  1      3      5     \n",
       "3 0  4  0      4      6     \n",
       "4 5  1  5      1      4     \n",
       "5 6  2  6      2      2     \n",
       "6 4  0  4      0      3     "
      ]
     },
     "metadata": {},
     "output_type": "display_data"
    },
    {
     "data": {
      "text/html": [
       "<table class=\"dataframe\">\n",
       "<caption>A data.frame: 6 × 6</caption>\n",
       "<thead>\n",
       "\t<tr><th></th><th scope=col>X1</th><th scope=col>X2</th><th scope=col>cent.1</th><th scope=col>cent.2</th><th scope=col>old_labels</th><th scope=col>new_labels</th></tr>\n",
       "\t<tr><th></th><th scope=col>&lt;dbl&gt;</th><th scope=col>&lt;dbl&gt;</th><th scope=col>&lt;dbl&gt;</th><th scope=col>&lt;dbl&gt;</th><th scope=col>&lt;int&gt;</th><th scope=col>&lt;int&gt;</th></tr>\n",
       "</thead>\n",
       "<tbody>\n",
       "\t<tr><th scope=row>1</th><td>1</td><td>4</td><td>1</td><td>4</td><td>1</td><td>1</td></tr>\n",
       "\t<tr><th scope=row>2</th><td>1</td><td>3</td><td>1</td><td>3</td><td>5</td><td>1</td></tr>\n",
       "\t<tr><th scope=row>3</th><td>0</td><td>4</td><td>0</td><td>4</td><td>6</td><td>1</td></tr>\n",
       "\t<tr><th scope=row>4</th><td>5</td><td>1</td><td>5</td><td>1</td><td>4</td><td>4</td></tr>\n",
       "\t<tr><th scope=row>5</th><td>6</td><td>2</td><td>6</td><td>2</td><td>2</td><td>4</td></tr>\n",
       "\t<tr><th scope=row>6</th><td>4</td><td>0</td><td>4</td><td>0</td><td>3</td><td>4</td></tr>\n",
       "</tbody>\n",
       "</table>\n"
      ],
      "text/latex": [
       "A data.frame: 6 × 6\n",
       "\\begin{tabular}{r|llllll}\n",
       "  & X1 & X2 & cent.1 & cent.2 & old\\_labels & new\\_labels\\\\\n",
       "  & <dbl> & <dbl> & <dbl> & <dbl> & <int> & <int>\\\\\n",
       "\\hline\n",
       "\t1 & 1 & 4 & 1 & 4 & 1 & 1\\\\\n",
       "\t2 & 1 & 3 & 1 & 3 & 5 & 1\\\\\n",
       "\t3 & 0 & 4 & 0 & 4 & 6 & 1\\\\\n",
       "\t4 & 5 & 1 & 5 & 1 & 4 & 4\\\\\n",
       "\t5 & 6 & 2 & 6 & 2 & 2 & 4\\\\\n",
       "\t6 & 4 & 0 & 4 & 0 & 3 & 4\\\\\n",
       "\\end{tabular}\n"
      ],
      "text/markdown": [
       "\n",
       "A data.frame: 6 × 6\n",
       "\n",
       "| <!--/--> | X1 &lt;dbl&gt; | X2 &lt;dbl&gt; | cent.1 &lt;dbl&gt; | cent.2 &lt;dbl&gt; | old_labels &lt;int&gt; | new_labels &lt;int&gt; |\n",
       "|---|---|---|---|---|---|---|\n",
       "| 1 | 1 | 4 | 1 | 4 | 1 | 1 |\n",
       "| 2 | 1 | 3 | 1 | 3 | 5 | 1 |\n",
       "| 3 | 0 | 4 | 0 | 4 | 6 | 1 |\n",
       "| 4 | 5 | 1 | 5 | 1 | 4 | 4 |\n",
       "| 5 | 6 | 2 | 6 | 2 | 2 | 4 |\n",
       "| 6 | 4 | 0 | 4 | 0 | 3 | 4 |\n",
       "\n"
      ],
      "text/plain": [
       "  X1 X2 cent.1 cent.2 old_labels new_labels\n",
       "1 1  4  1      4      1          1         \n",
       "2 1  3  1      3      5          1         \n",
       "3 0  4  0      4      6          1         \n",
       "4 5  1  5      1      4          4         \n",
       "5 6  2  6      2      2          4         \n",
       "6 4  0  4      0      3          4         "
      ]
     },
     "metadata": {},
     "output_type": "display_data"
    },
    {
     "data": {
      "image/png": "[encoded data removed]",
      "text/plain": [
       "plot without title"
      ]
     },
     "metadata": {
      "image/png": {
       "height": 420,
       "width": 420
      }
     },
     "output_type": "display_data"
    },
    {
     "data": {
      "image/png": "[encoded data removed]",
      "text/plain": [
       "plot without title"
      ]
     },
     "metadata": {
      "image/png": {
       "height": 420,
       "width": 420
      }
     },
     "output_type": "display_data"
    }
   ],
   "source": [
    "# Set the Data\n",
    "data = data.frame(c(1,1,0,5,6,4), c(4,3,4,1,2,0))\n",
    "colnames(data)=c('X1','X2')\n",
    "rownames(data)=1:6\n",
    "\n",
    "# a) plot observations\n",
    "plot(data)\n",
    "\n",
    "# b) Randomly assign a cluster label to each observation. You can use the sample() command in R to do this.Report the cluster labels for each observation.\n",
    "set.seed(42)\n",
    "labels = sample(1:6,6)\n",
    "data = cbind(data, labels)\n",
    "\n",
    "# c) Compute the centroid for each cluster.\n",
    "centroids = aggregate(.~labels, data, mean)\n",
    "colnames(centroids) = c('labels',paste('cent',1:2))\n",
    "data.frame(data[,-3],centroids[data$labels,-1], labels=data$labels)\n",
    "\n",
    "# d) Assign each observation to the centroid to which it is closest, in terms of Euclidean distance.Report the cluster labels for each observation\n",
    "# define euclidean distance function\n",
    "\n",
    "EuclideanDistance <- function(v,z){\n",
    "  sqrt(sum( (v-z)^2 ))\n",
    "}\n",
    "\n",
    "labels = apply(data[,c(1,2)],1,\n",
    " function(x){\n",
    "    dist = apply(centroids[data$labels, c(2,3)], 1, function(y){ EuclideanDistance(x,y) })\n",
    "    which.min(dist[dist>0])\n",
    "  }\n",
    " )\n",
    "\n",
    "data.frame(data[,-3], centroids[data$labels,-1], old_labels = data$labels, new_labels = labels)\n",
    "\n",
    "# e) Repeat (c) and (d) until the answers obtained stop changing.\n",
    "# do this using while loops until the labels stop changing\n",
    "while( any(labels != data$labels)){\n",
    "  data$labels = labels\n",
    "  centroids = aggregate(.~labels, data, mean)\n",
    "\n",
    "  labels = apply(data[, c(1,2)],1,\n",
    "    function(x){\n",
    "      dist = apply(centroids[data$labels,c(2,3)],1,function(y){ EuclideanDistance(x,y) })\n",
    "      which.min(dist[dist>0])\n",
    "    }\n",
    "   )\n",
    "  }\n",
    "\n",
    "  # f) In your plot from (a), color the observations according to the cluster labels obtained.\n",
    "  plot(data[,c(1,2)], col=rainbow(6)[data$labels])\n"
   ]
  },
  {
   "cell_type": "markdown",
   "id": "35c39395",
   "metadata": {},
   "source": [
    "## Exercise 4 Chapter 10\n",
    "\n",
    "Suppose that for a particular data set, we perform hierarchical clustering using single linkage and using complete linkage. We obtain two dendrograms"
   ]
  },
  {
   "cell_type": "code",
   "execution_count": null,
   "metadata": {},
   "outputs": [],
   "source": [
    "# a) At a certain point on the single linkage dendrogram, the clusters {1, 2, 3} and {4, 5} fuse. On the complete linkage dendrogram, the clusters {1, 2, 3} and {4, 5} also fuse at a certain point.\n",
    "# Which fusion will occur higher on the tree, or will they fuse at the same height, or is there not enough information to tell?\n",
    "\n",
    "# Single linkage uses the minimal distance while complete linkage uses the maximum distance. Therefore, there are 2 possibilities:\n",
    "# - Dmin < Dmax\n",
    "# - Dmin = Dmax\n",
    "# the 2nd possibility implies that there would be a single cluster {1,2,3,4,5} instead of the 2 clusters. Thus, the first possibility holds.\n",
    "# this implies the cluster will fuse at a lower height for the single linkage dendogram\n",
    "\n",
    "# b) At a certain point on the single linkage dendrogram, the clusters {5} and {6} fuse. On the complete linkage dendrogram, the clusters {5} and {6} also fuse at a certain point. \n",
    "# Which fusion will occur higher on the tree, or will they fuse at the same height, or is there not enough information to tell?\n",
    "\n",
    "# same rule applies:\n",
    "# - Dmin < Dmax\n",
    "# - Dmin = Dmax\n",
    "# However, in this case, both possibilities are possible since the points could have be equidistant. Therefore, there isnt enough information to tell"
   ]
  },
  {
   "cell_type": "markdown",
   "id": "35c39395",
   "metadata": {},
   "source": [
    "## Exercise 8 Chapter 10\n",
    "\n",
    "In Section 10.2.3, a formula for calculating PVE was given in Equation 10.8. We also saw that the PVE can be obtained using the sdev output of the prcomp() function. On the USArrests data, calculate PVE in two ways:"
   ]
  },
  {
   "cell_type": "code",
   "execution_count": 11,
   "metadata": {},
   "outputs": [
    {
     "data": {
      "text/html": [
       "<style>\n",
       ".list-inline {list-style: none; margin:0; padding: 0}\n",
       ".list-inline>li {display: inline-block}\n",
       ".list-inline>li:not(:last-child)::after {content: \"\\00b7\"; padding: 0 .5ex}\n",
       "</style>\n",
       "<ol class=list-inline><li>0.620060394787373</li><li>0.24744128813496</li><li>0.0891407951452074</li><li>0.0433575219324588</li></ol>\n"
      ],
      "text/latex": [
       "\\begin{enumerate*}\n",
       "\\item 0.620060394787373\n",
       "\\item 0.24744128813496\n",
       "\\item 0.0891407951452074\n",
       "\\item 0.0433575219324588\n",
       "\\end{enumerate*}\n"
      ],
      "text/markdown": [
       "1. 0.620060394787373\n",
       "2. 0.24744128813496\n",
       "3. 0.0891407951452074\n",
       "4. 0.0433575219324588\n",
       "\n",
       "\n"
      ],
      "text/plain": [
       "[1] 0.62006039 0.24744129 0.08914080 0.04335752"
      ]
     },
     "metadata": {},
     "output_type": "display_data"
    },
    {
     "data": {
      "text/html": [
       "<style>\n",
       ".dl-inline {width: auto; margin:0; padding: 0}\n",
       ".dl-inline>dt, .dl-inline>dd {float: none; width: auto; display: inline-block}\n",
       ".dl-inline>dt::after {content: \":\\0020\"; padding-right: .5ex}\n",
       ".dl-inline>dt:not(:first-of-type) {padding-left: .5ex}\n",
       "</style><dl class=dl-inline><dt>PC1</dt><dd>0.620060394787374</dd><dt>PC2</dt><dd>0.24744128813496</dd><dt>PC3</dt><dd>0.0891407951452074</dd><dt>PC4</dt><dd>0.0433575219324588</dd></dl>\n"
      ],
      "text/latex": [
       "\\begin{description*}\n",
       "\\item[PC1] 0.620060394787374\n",
       "\\item[PC2] 0.24744128813496\n",
       "\\item[PC3] 0.0891407951452074\n",
       "\\item[PC4] 0.0433575219324588\n",
       "\\end{description*}\n"
      ],
      "text/markdown": [
       "PC1\n",
       ":   0.620060394787374PC2\n",
       ":   0.24744128813496PC3\n",
       ":   0.0891407951452074PC4\n",
       ":   0.0433575219324588\n",
       "\n"
      ],
      "text/plain": [
       "       PC1        PC2        PC3        PC4 \n",
       "0.62006039 0.24744129 0.08914080 0.04335752 "
      ]
     },
     "metadata": {},
     "output_type": "display_data"
    }
   ],
   "source": [
    "# a) Using the sdev output of the prcomp() function, as was done in Section 10.2.3.\n",
    "\n",
    "USArrests_scaled = scale(USArrests)\n",
    "pr.out = prcomp(USArrests_scaled)\n",
    "pr.var = pr.out$sdev^2\n",
    "pr.var/sum(pr.var)\n",
    "\n",
    "# b) By applying Equation 10.8 directly. That is, use the prcomp() function to compute the principal component loadings. \n",
    "# Then, use those loadings in Equation 10.8 to obtain the PVE.\n",
    "\n",
    "numerator = rowSums(apply(USArrests_scaled,1,function(x){ colSums(x %*% pr.out$rotation )^2  }))\n",
    "\n",
    "denominator = sum(rowSums(USArrests_scaled^2))\n",
    "numerator/denominator"
   ]
  },
  {
   "cell_type": "markdown",
   "id": "35c39395",
   "metadata": {},
   "source": [
    "## Exercise 9 Chapter 10\n",
    "\n",
    "Consider the USArrests data. We will now perform hierarchical clustering on the states."
   ]
  },
  {
   "cell_type": "code",
   "execution_count": 12,
   "metadata": {},
   "outputs": [
    {
     "data": {
      "text/html": [
       "<dl>\n",
       "\t<dt>$`1`</dt>\n",
       "\t\t<dd><table class=\"dataframe\">\n",
       "<caption>A data.frame: 16 × 2</caption>\n",
       "<thead>\n",
       "\t<tr><th></th><th scope=col>names.hclust_cut.</th><th scope=col>hclust_cut</th></tr>\n",
       "\t<tr><th></th><th scope=col>&lt;chr&gt;</th><th scope=col>&lt;int&gt;</th></tr>\n",
       "</thead>\n",
       "<tbody>\n",
       "\t<tr><th scope=row>Alabama</th><td>Alabama       </td><td>1</td></tr>\n",
       "\t<tr><th scope=row>Alaska</th><td>Alaska        </td><td>1</td></tr>\n",
       "\t<tr><th scope=row>Arizona</th><td>Arizona       </td><td>1</td></tr>\n",
       "\t<tr><th scope=row>California</th><td>California    </td><td>1</td></tr>\n",
       "\t<tr><th scope=row>Delaware</th><td>Delaware      </td><td>1</td></tr>\n",
       "\t<tr><th scope=row>Florida</th><td>Florida       </td><td>1</td></tr>\n",
       "\t<tr><th scope=row>Illinois</th><td>Illinois      </td><td>1</td></tr>\n",
       "\t<tr><th scope=row>Louisiana</th><td>Louisiana     </td><td>1</td></tr>\n",
       "\t<tr><th scope=row>Maryland</th><td>Maryland      </td><td>1</td></tr>\n",
       "\t<tr><th scope=row>Michigan</th><td>Michigan      </td><td>1</td></tr>\n",
       "\t<tr><th scope=row>Mississippi</th><td>Mississippi   </td><td>1</td></tr>\n",
       "\t<tr><th scope=row>Nevada</th><td>Nevada        </td><td>1</td></tr>\n",
       "\t<tr><th scope=row>New Mexico</th><td>New Mexico    </td><td>1</td></tr>\n",
       "\t<tr><th scope=row>New York</th><td>New York      </td><td>1</td></tr>\n",
       "\t<tr><th scope=row>North Carolina</th><td>North Carolina</td><td>1</td></tr>\n",
       "\t<tr><th scope=row>South Carolina</th><td>South Carolina</td><td>1</td></tr>\n",
       "</tbody>\n",
       "</table>\n",
       "</dd>\n",
       "\t<dt>$`2`</dt>\n",
       "\t\t<dd><table class=\"dataframe\">\n",
       "<caption>A data.frame: 14 × 2</caption>\n",
       "<thead>\n",
       "\t<tr><th></th><th scope=col>names.hclust_cut.</th><th scope=col>hclust_cut</th></tr>\n",
       "\t<tr><th></th><th scope=col>&lt;chr&gt;</th><th scope=col>&lt;int&gt;</th></tr>\n",
       "</thead>\n",
       "<tbody>\n",
       "\t<tr><th scope=row>Arkansas</th><td>Arkansas     </td><td>2</td></tr>\n",
       "\t<tr><th scope=row>Colorado</th><td>Colorado     </td><td>2</td></tr>\n",
       "\t<tr><th scope=row>Georgia</th><td>Georgia      </td><td>2</td></tr>\n",
       "\t<tr><th scope=row>Massachusetts</th><td>Massachusetts</td><td>2</td></tr>\n",
       "\t<tr><th scope=row>Missouri</th><td>Missouri     </td><td>2</td></tr>\n",
       "\t<tr><th scope=row>New Jersey</th><td>New Jersey   </td><td>2</td></tr>\n",
       "\t<tr><th scope=row>Oklahoma</th><td>Oklahoma     </td><td>2</td></tr>\n",
       "\t<tr><th scope=row>Oregon</th><td>Oregon       </td><td>2</td></tr>\n",
       "\t<tr><th scope=row>Rhode Island</th><td>Rhode Island </td><td>2</td></tr>\n",
       "\t<tr><th scope=row>Tennessee</th><td>Tennessee    </td><td>2</td></tr>\n",
       "\t<tr><th scope=row>Texas</th><td>Texas        </td><td>2</td></tr>\n",
       "\t<tr><th scope=row>Virginia</th><td>Virginia     </td><td>2</td></tr>\n",
       "\t<tr><th scope=row>Washington</th><td>Washington   </td><td>2</td></tr>\n",
       "\t<tr><th scope=row>Wyoming</th><td>Wyoming      </td><td>2</td></tr>\n",
       "</tbody>\n",
       "</table>\n",
       "</dd>\n",
       "\t<dt>$`3`</dt>\n",
       "\t\t<dd><table class=\"dataframe\">\n",
       "<caption>A data.frame: 20 × 2</caption>\n",
       "<thead>\n",
       "\t<tr><th></th><th scope=col>names.hclust_cut.</th><th scope=col>hclust_cut</th></tr>\n",
       "\t<tr><th></th><th scope=col>&lt;chr&gt;</th><th scope=col>&lt;int&gt;</th></tr>\n",
       "</thead>\n",
       "<tbody>\n",
       "\t<tr><th scope=row>Connecticut</th><td>Connecticut  </td><td>3</td></tr>\n",
       "\t<tr><th scope=row>Hawaii</th><td>Hawaii       </td><td>3</td></tr>\n",
       "\t<tr><th scope=row>Idaho</th><td>Idaho        </td><td>3</td></tr>\n",
       "\t<tr><th scope=row>Indiana</th><td>Indiana      </td><td>3</td></tr>\n",
       "\t<tr><th scope=row>Iowa</th><td>Iowa         </td><td>3</td></tr>\n",
       "\t<tr><th scope=row>Kansas</th><td>Kansas       </td><td>3</td></tr>\n",
       "\t<tr><th scope=row>Kentucky</th><td>Kentucky     </td><td>3</td></tr>\n",
       "\t<tr><th scope=row>Maine</th><td>Maine        </td><td>3</td></tr>\n",
       "\t<tr><th scope=row>Minnesota</th><td>Minnesota    </td><td>3</td></tr>\n",
       "\t<tr><th scope=row>Montana</th><td>Montana      </td><td>3</td></tr>\n",
       "\t<tr><th scope=row>Nebraska</th><td>Nebraska     </td><td>3</td></tr>\n",
       "\t<tr><th scope=row>New Hampshire</th><td>New Hampshire</td><td>3</td></tr>\n",
       "\t<tr><th scope=row>North Dakota</th><td>North Dakota </td><td>3</td></tr>\n",
       "\t<tr><th scope=row>Ohio</th><td>Ohio         </td><td>3</td></tr>\n",
       "\t<tr><th scope=row>Pennsylvania</th><td>Pennsylvania </td><td>3</td></tr>\n",
       "\t<tr><th scope=row>South Dakota</th><td>South Dakota </td><td>3</td></tr>\n",
       "\t<tr><th scope=row>Utah</th><td>Utah         </td><td>3</td></tr>\n",
       "\t<tr><th scope=row>Vermont</th><td>Vermont      </td><td>3</td></tr>\n",
       "\t<tr><th scope=row>West Virginia</th><td>West Virginia</td><td>3</td></tr>\n",
       "\t<tr><th scope=row>Wisconsin</th><td>Wisconsin    </td><td>3</td></tr>\n",
       "</tbody>\n",
       "</table>\n",
       "</dd>\n",
       "</dl>\n"
      ],
      "text/latex": [
       "\\begin{description}\n",
       "\\item[\\$`1`] A data.frame: 16 × 2\n",
       "\\begin{tabular}{r|ll}\n",
       "  & names.hclust\\_cut. & hclust\\_cut\\\\\n",
       "  & <chr> & <int>\\\\\n",
       "\\hline\n",
       "\tAlabama & Alabama        & 1\\\\\n",
       "\tAlaska & Alaska         & 1\\\\\n",
       "\tArizona & Arizona        & 1\\\\\n",
       "\tCalifornia & California     & 1\\\\\n",
       "\tDelaware & Delaware       & 1\\\\\n",
       "\tFlorida & Florida        & 1\\\\\n",
       "\tIllinois & Illinois       & 1\\\\\n",
       "\tLouisiana & Louisiana      & 1\\\\\n",
       "\tMaryland & Maryland       & 1\\\\\n",
       "\tMichigan & Michigan       & 1\\\\\n",
       "\tMississippi & Mississippi    & 1\\\\\n",
       "\tNevada & Nevada         & 1\\\\\n",
       "\tNew Mexico & New Mexico     & 1\\\\\n",
       "\tNew York & New York       & 1\\\\\n",
       "\tNorth Carolina & North Carolina & 1\\\\\n",
       "\tSouth Carolina & South Carolina & 1\\\\\n",
       "\\end{tabular}\n",
       "\n",
       "\\item[\\$`2`] A data.frame: 14 × 2\n",
       "\\begin{tabular}{r|ll}\n",
       "  & names.hclust\\_cut. & hclust\\_cut\\\\\n",
       "  & <chr> & <int>\\\\\n",
       "\\hline\n",
       "\tArkansas & Arkansas      & 2\\\\\n",
       "\tColorado & Colorado      & 2\\\\\n",
       "\tGeorgia & Georgia       & 2\\\\\n",
       "\tMassachusetts & Massachusetts & 2\\\\\n",
       "\tMissouri & Missouri      & 2\\\\\n",
       "\tNew Jersey & New Jersey    & 2\\\\\n",
       "\tOklahoma & Oklahoma      & 2\\\\\n",
       "\tOregon & Oregon        & 2\\\\\n",
       "\tRhode Island & Rhode Island  & 2\\\\\n",
       "\tTennessee & Tennessee     & 2\\\\\n",
       "\tTexas & Texas         & 2\\\\\n",
       "\tVirginia & Virginia      & 2\\\\\n",
       "\tWashington & Washington    & 2\\\\\n",
       "\tWyoming & Wyoming       & 2\\\\\n",
       "\\end{tabular}\n",
       "\n",
       "\\item[\\$`3`] A data.frame: 20 × 2\n",
       "\\begin{tabular}{r|ll}\n",
       "  & names.hclust\\_cut. & hclust\\_cut\\\\\n",
       "  & <chr> & <int>\\\\\n",
       "\\hline\n",
       "\tConnecticut & Connecticut   & 3\\\\\n",
       "\tHawaii & Hawaii        & 3\\\\\n",
       "\tIdaho & Idaho         & 3\\\\\n",
       "\tIndiana & Indiana       & 3\\\\\n",
       "\tIowa & Iowa          & 3\\\\\n",
       "\tKansas & Kansas        & 3\\\\\n",
       "\tKentucky & Kentucky      & 3\\\\\n",
       "\tMaine & Maine         & 3\\\\\n",
       "\tMinnesota & Minnesota     & 3\\\\\n",
       "\tMontana & Montana       & 3\\\\\n",
       "\tNebraska & Nebraska      & 3\\\\\n",
       "\tNew Hampshire & New Hampshire & 3\\\\\n",
       "\tNorth Dakota & North Dakota  & 3\\\\\n",
       "\tOhio & Ohio          & 3\\\\\n",
       "\tPennsylvania & Pennsylvania  & 3\\\\\n",
       "\tSouth Dakota & South Dakota  & 3\\\\\n",
       "\tUtah & Utah          & 3\\\\\n",
       "\tVermont & Vermont       & 3\\\\\n",
       "\tWest Virginia & West Virginia & 3\\\\\n",
       "\tWisconsin & Wisconsin     & 3\\\\\n",
       "\\end{tabular}\n",
       "\n",
       "\\end{description}\n"
      ],
      "text/markdown": [
       "$`1`\n",
       ":   \n",
       "A data.frame: 16 × 2\n",
       "\n",
       "| <!--/--> | names.hclust_cut. &lt;chr&gt; | hclust_cut &lt;int&gt; |\n",
       "|---|---|---|\n",
       "| Alabama | Alabama        | 1 |\n",
       "| Alaska | Alaska         | 1 |\n",
       "| Arizona | Arizona        | 1 |\n",
       "| California | California     | 1 |\n",
       "| Delaware | Delaware       | 1 |\n",
       "| Florida | Florida        | 1 |\n",
       "| Illinois | Illinois       | 1 |\n",
       "| Louisiana | Louisiana      | 1 |\n",
       "| Maryland | Maryland       | 1 |\n",
       "| Michigan | Michigan       | 1 |\n",
       "| Mississippi | Mississippi    | 1 |\n",
       "| Nevada | Nevada         | 1 |\n",
       "| New Mexico | New Mexico     | 1 |\n",
       "| New York | New York       | 1 |\n",
       "| North Carolina | North Carolina | 1 |\n",
       "| South Carolina | South Carolina | 1 |\n",
       "\n",
       "\n",
       "$`2`\n",
       ":   \n",
       "A data.frame: 14 × 2\n",
       "\n",
       "| <!--/--> | names.hclust_cut. &lt;chr&gt; | hclust_cut &lt;int&gt; |\n",
       "|---|---|---|\n",
       "| Arkansas | Arkansas      | 2 |\n",
       "| Colorado | Colorado      | 2 |\n",
       "| Georgia | Georgia       | 2 |\n",
       "| Massachusetts | Massachusetts | 2 |\n",
       "| Missouri | Missouri      | 2 |\n",
       "| New Jersey | New Jersey    | 2 |\n",
       "| Oklahoma | Oklahoma      | 2 |\n",
       "| Oregon | Oregon        | 2 |\n",
       "| Rhode Island | Rhode Island  | 2 |\n",
       "| Tennessee | Tennessee     | 2 |\n",
       "| Texas | Texas         | 2 |\n",
       "| Virginia | Virginia      | 2 |\n",
       "| Washington | Washington    | 2 |\n",
       "| Wyoming | Wyoming       | 2 |\n",
       "\n",
       "\n",
       "$`3`\n",
       ":   \n",
       "A data.frame: 20 × 2\n",
       "\n",
       "| <!--/--> | names.hclust_cut. &lt;chr&gt; | hclust_cut &lt;int&gt; |\n",
       "|---|---|---|\n",
       "| Connecticut | Connecticut   | 3 |\n",
       "| Hawaii | Hawaii        | 3 |\n",
       "| Idaho | Idaho         | 3 |\n",
       "| Indiana | Indiana       | 3 |\n",
       "| Iowa | Iowa          | 3 |\n",
       "| Kansas | Kansas        | 3 |\n",
       "| Kentucky | Kentucky      | 3 |\n",
       "| Maine | Maine         | 3 |\n",
       "| Minnesota | Minnesota     | 3 |\n",
       "| Montana | Montana       | 3 |\n",
       "| Nebraska | Nebraska      | 3 |\n",
       "| New Hampshire | New Hampshire | 3 |\n",
       "| North Dakota | North Dakota  | 3 |\n",
       "| Ohio | Ohio          | 3 |\n",
       "| Pennsylvania | Pennsylvania  | 3 |\n",
       "| South Dakota | South Dakota  | 3 |\n",
       "| Utah | Utah          | 3 |\n",
       "| Vermont | Vermont       | 3 |\n",
       "| West Virginia | West Virginia | 3 |\n",
       "| Wisconsin | Wisconsin     | 3 |\n",
       "\n",
       "\n",
       "\n",
       "\n"
      ],
      "text/plain": [
       "$`1`\n",
       "               names.hclust_cut. hclust_cut\n",
       "Alabama                  Alabama          1\n",
       "Alaska                    Alaska          1\n",
       "Arizona                  Arizona          1\n",
       "California            California          1\n",
       "Delaware                Delaware          1\n",
       "Florida                  Florida          1\n",
       "Illinois                Illinois          1\n",
       "Louisiana              Louisiana          1\n",
       "Maryland                Maryland          1\n",
       "Michigan                Michigan          1\n",
       "Mississippi          Mississippi          1\n",
       "Nevada                    Nevada          1\n",
       "New Mexico            New Mexico          1\n",
       "New York                New York          1\n",
       "North Carolina    North Carolina          1\n",
       "South Carolina    South Carolina          1\n",
       "\n",
       "$`2`\n",
       "              names.hclust_cut. hclust_cut\n",
       "Arkansas               Arkansas          2\n",
       "Colorado               Colorado          2\n",
       "Georgia                 Georgia          2\n",
       "Massachusetts     Massachusetts          2\n",
       "Missouri               Missouri          2\n",
       "New Jersey           New Jersey          2\n",
       "Oklahoma               Oklahoma          2\n",
       "Oregon                   Oregon          2\n",
       "Rhode Island       Rhode Island          2\n",
       "Tennessee             Tennessee          2\n",
       "Texas                     Texas          2\n",
       "Virginia               Virginia          2\n",
       "Washington           Washington          2\n",
       "Wyoming                 Wyoming          2\n",
       "\n",
       "$`3`\n",
       "              names.hclust_cut. hclust_cut\n",
       "Connecticut         Connecticut          3\n",
       "Hawaii                   Hawaii          3\n",
       "Idaho                     Idaho          3\n",
       "Indiana                 Indiana          3\n",
       "Iowa                       Iowa          3\n",
       "Kansas                   Kansas          3\n",
       "Kentucky               Kentucky          3\n",
       "Maine                     Maine          3\n",
       "Minnesota             Minnesota          3\n",
       "Montana                 Montana          3\n",
       "Nebraska               Nebraska          3\n",
       "New Hampshire     New Hampshire          3\n",
       "North Dakota       North Dakota          3\n",
       "Ohio                       Ohio          3\n",
       "Pennsylvania       Pennsylvania          3\n",
       "South Dakota       South Dakota          3\n",
       "Utah                       Utah          3\n",
       "Vermont                 Vermont          3\n",
       "West Virginia     West Virginia          3\n",
       "Wisconsin             Wisconsin          3\n"
      ]
     },
     "metadata": {},
     "output_type": "display_data"
    },
    {
     "data": {
      "image/png": "[encoded data removed]",
      "text/plain": [
       "Plot with title \"Cluster Dendrogram\""
      ]
     },
     "metadata": {
      "image/png": {
       "height": 420,
       "width": 420
      }
     },
     "output_type": "display_data"
    },
    {
     "data": {
      "text/html": [
       "<dl>\n",
       "\t<dt>$`1`</dt>\n",
       "\t\t<dd><table class=\"dataframe\">\n",
       "<caption>A data.frame: 8 × 2</caption>\n",
       "<thead>\n",
       "\t<tr><th></th><th scope=col>names.hclust_cut.</th><th scope=col>hclust_cut</th></tr>\n",
       "\t<tr><th></th><th scope=col>&lt;chr&gt;</th><th scope=col>&lt;int&gt;</th></tr>\n",
       "</thead>\n",
       "<tbody>\n",
       "\t<tr><th scope=row>Alabama</th><td>Alabama       </td><td>1</td></tr>\n",
       "\t<tr><th scope=row>Alaska</th><td>Alaska        </td><td>1</td></tr>\n",
       "\t<tr><th scope=row>Georgia</th><td>Georgia       </td><td>1</td></tr>\n",
       "\t<tr><th scope=row>Louisiana</th><td>Louisiana     </td><td>1</td></tr>\n",
       "\t<tr><th scope=row>Mississippi</th><td>Mississippi   </td><td>1</td></tr>\n",
       "\t<tr><th scope=row>North Carolina</th><td>North Carolina</td><td>1</td></tr>\n",
       "\t<tr><th scope=row>South Carolina</th><td>South Carolina</td><td>1</td></tr>\n",
       "\t<tr><th scope=row>Tennessee</th><td>Tennessee     </td><td>1</td></tr>\n",
       "</tbody>\n",
       "</table>\n",
       "</dd>\n",
       "\t<dt>$`2`</dt>\n",
       "\t\t<dd><table class=\"dataframe\">\n",
       "<caption>A data.frame: 11 × 2</caption>\n",
       "<thead>\n",
       "\t<tr><th></th><th scope=col>names.hclust_cut.</th><th scope=col>hclust_cut</th></tr>\n",
       "\t<tr><th></th><th scope=col>&lt;chr&gt;</th><th scope=col>&lt;int&gt;</th></tr>\n",
       "</thead>\n",
       "<tbody>\n",
       "\t<tr><th scope=row>Arizona</th><td>Arizona   </td><td>2</td></tr>\n",
       "\t<tr><th scope=row>California</th><td>California</td><td>2</td></tr>\n",
       "\t<tr><th scope=row>Colorado</th><td>Colorado  </td><td>2</td></tr>\n",
       "\t<tr><th scope=row>Florida</th><td>Florida   </td><td>2</td></tr>\n",
       "\t<tr><th scope=row>Illinois</th><td>Illinois  </td><td>2</td></tr>\n",
       "\t<tr><th scope=row>Maryland</th><td>Maryland  </td><td>2</td></tr>\n",
       "\t<tr><th scope=row>Michigan</th><td>Michigan  </td><td>2</td></tr>\n",
       "\t<tr><th scope=row>Nevada</th><td>Nevada    </td><td>2</td></tr>\n",
       "\t<tr><th scope=row>New Mexico</th><td>New Mexico</td><td>2</td></tr>\n",
       "\t<tr><th scope=row>New York</th><td>New York  </td><td>2</td></tr>\n",
       "\t<tr><th scope=row>Texas</th><td>Texas     </td><td>2</td></tr>\n",
       "</tbody>\n",
       "</table>\n",
       "</dd>\n",
       "\t<dt>$`3`</dt>\n",
       "\t\t<dd><table class=\"dataframe\">\n",
       "<caption>A data.frame: 31 × 2</caption>\n",
       "<thead>\n",
       "\t<tr><th></th><th scope=col>names.hclust_cut.</th><th scope=col>hclust_cut</th></tr>\n",
       "\t<tr><th></th><th scope=col>&lt;chr&gt;</th><th scope=col>&lt;int&gt;</th></tr>\n",
       "</thead>\n",
       "<tbody>\n",
       "\t<tr><th scope=row>Arkansas</th><td>Arkansas     </td><td>3</td></tr>\n",
       "\t<tr><th scope=row>Connecticut</th><td>Connecticut  </td><td>3</td></tr>\n",
       "\t<tr><th scope=row>Delaware</th><td>Delaware     </td><td>3</td></tr>\n",
       "\t<tr><th scope=row>Hawaii</th><td>Hawaii       </td><td>3</td></tr>\n",
       "\t<tr><th scope=row>Idaho</th><td>Idaho        </td><td>3</td></tr>\n",
       "\t<tr><th scope=row>Indiana</th><td>Indiana      </td><td>3</td></tr>\n",
       "\t<tr><th scope=row>Iowa</th><td>Iowa         </td><td>3</td></tr>\n",
       "\t<tr><th scope=row>Kansas</th><td>Kansas       </td><td>3</td></tr>\n",
       "\t<tr><th scope=row>Kentucky</th><td>Kentucky     </td><td>3</td></tr>\n",
       "\t<tr><th scope=row>Maine</th><td>Maine        </td><td>3</td></tr>\n",
       "\t<tr><th scope=row>Massachusetts</th><td>Massachusetts</td><td>3</td></tr>\n",
       "\t<tr><th scope=row>Minnesota</th><td>Minnesota    </td><td>3</td></tr>\n",
       "\t<tr><th scope=row>Missouri</th><td>Missouri     </td><td>3</td></tr>\n",
       "\t<tr><th scope=row>Montana</th><td>Montana      </td><td>3</td></tr>\n",
       "\t<tr><th scope=row>Nebraska</th><td>Nebraska     </td><td>3</td></tr>\n",
       "\t<tr><th scope=row>New Hampshire</th><td>New Hampshire</td><td>3</td></tr>\n",
       "\t<tr><th scope=row>New Jersey</th><td>New Jersey   </td><td>3</td></tr>\n",
       "\t<tr><th scope=row>North Dakota</th><td>North Dakota </td><td>3</td></tr>\n",
       "\t<tr><th scope=row>Ohio</th><td>Ohio         </td><td>3</td></tr>\n",
       "\t<tr><th scope=row>Oklahoma</th><td>Oklahoma     </td><td>3</td></tr>\n",
       "\t<tr><th scope=row>Oregon</th><td>Oregon       </td><td>3</td></tr>\n",
       "\t<tr><th scope=row>Pennsylvania</th><td>Pennsylvania </td><td>3</td></tr>\n",
       "\t<tr><th scope=row>Rhode Island</th><td>Rhode Island </td><td>3</td></tr>\n",
       "\t<tr><th scope=row>South Dakota</th><td>South Dakota </td><td>3</td></tr>\n",
       "\t<tr><th scope=row>Utah</th><td>Utah         </td><td>3</td></tr>\n",
       "\t<tr><th scope=row>Vermont</th><td>Vermont      </td><td>3</td></tr>\n",
       "\t<tr><th scope=row>Virginia</th><td>Virginia     </td><td>3</td></tr>\n",
       "\t<tr><th scope=row>Washington</th><td>Washington   </td><td>3</td></tr>\n",
       "\t<tr><th scope=row>West Virginia</th><td>West Virginia</td><td>3</td></tr>\n",
       "\t<tr><th scope=row>Wisconsin</th><td>Wisconsin    </td><td>3</td></tr>\n",
       "\t<tr><th scope=row>Wyoming</th><td>Wyoming      </td><td>3</td></tr>\n",
       "</tbody>\n",
       "</table>\n",
       "</dd>\n",
       "</dl>\n"
      ],
      "text/latex": [
       "\\begin{description}\n",
       "\\item[\\$`1`] A data.frame: 8 × 2\n",
       "\\begin{tabular}{r|ll}\n",
       "  & names.hclust\\_cut. & hclust\\_cut\\\\\n",
       "  & <chr> & <int>\\\\\n",
       "\\hline\n",
       "\tAlabama & Alabama        & 1\\\\\n",
       "\tAlaska & Alaska         & 1\\\\\n",
       "\tGeorgia & Georgia        & 1\\\\\n",
       "\tLouisiana & Louisiana      & 1\\\\\n",
       "\tMississippi & Mississippi    & 1\\\\\n",
       "\tNorth Carolina & North Carolina & 1\\\\\n",
       "\tSouth Carolina & South Carolina & 1\\\\\n",
       "\tTennessee & Tennessee      & 1\\\\\n",
       "\\end{tabular}\n",
       "\n",
       "\\item[\\$`2`] A data.frame: 11 × 2\n",
       "\\begin{tabular}{r|ll}\n",
       "  & names.hclust\\_cut. & hclust\\_cut\\\\\n",
       "  & <chr> & <int>\\\\\n",
       "\\hline\n",
       "\tArizona & Arizona    & 2\\\\\n",
       "\tCalifornia & California & 2\\\\\n",
       "\tColorado & Colorado   & 2\\\\\n",
       "\tFlorida & Florida    & 2\\\\\n",
       "\tIllinois & Illinois   & 2\\\\\n",
       "\tMaryland & Maryland   & 2\\\\\n",
       "\tMichigan & Michigan   & 2\\\\\n",
       "\tNevada & Nevada     & 2\\\\\n",
       "\tNew Mexico & New Mexico & 2\\\\\n",
       "\tNew York & New York   & 2\\\\\n",
       "\tTexas & Texas      & 2\\\\\n",
       "\\end{tabular}\n",
       "\n",
       "\\item[\\$`3`] A data.frame: 31 × 2\n",
       "\\begin{tabular}{r|ll}\n",
       "  & names.hclust\\_cut. & hclust\\_cut\\\\\n",
       "  & <chr> & <int>\\\\\n",
       "\\hline\n",
       "\tArkansas & Arkansas      & 3\\\\\n",
       "\tConnecticut & Connecticut   & 3\\\\\n",
       "\tDelaware & Delaware      & 3\\\\\n",
       "\tHawaii & Hawaii        & 3\\\\\n",
       "\tIdaho & Idaho         & 3\\\\\n",
       "\tIndiana & Indiana       & 3\\\\\n",
       "\tIowa & Iowa          & 3\\\\\n",
       "\tKansas & Kansas        & 3\\\\\n",
       "\tKentucky & Kentucky      & 3\\\\\n",
       "\tMaine & Maine         & 3\\\\\n",
       "\tMassachusetts & Massachusetts & 3\\\\\n",
       "\tMinnesota & Minnesota     & 3\\\\\n",
       "\tMissouri & Missouri      & 3\\\\\n",
       "\tMontana & Montana       & 3\\\\\n",
       "\tNebraska & Nebraska      & 3\\\\\n",
       "\tNew Hampshire & New Hampshire & 3\\\\\n",
       "\tNew Jersey & New Jersey    & 3\\\\\n",
       "\tNorth Dakota & North Dakota  & 3\\\\\n",
       "\tOhio & Ohio          & 3\\\\\n",
       "\tOklahoma & Oklahoma      & 3\\\\\n",
       "\tOregon & Oregon        & 3\\\\\n",
       "\tPennsylvania & Pennsylvania  & 3\\\\\n",
       "\tRhode Island & Rhode Island  & 3\\\\\n",
       "\tSouth Dakota & South Dakota  & 3\\\\\n",
       "\tUtah & Utah          & 3\\\\\n",
       "\tVermont & Vermont       & 3\\\\\n",
       "\tVirginia & Virginia      & 3\\\\\n",
       "\tWashington & Washington    & 3\\\\\n",
       "\tWest Virginia & West Virginia & 3\\\\\n",
       "\tWisconsin & Wisconsin     & 3\\\\\n",
       "\tWyoming & Wyoming       & 3\\\\\n",
       "\\end{tabular}\n",
       "\n",
       "\\end{description}\n"
      ],
      "text/markdown": [
       "$`1`\n",
       ":   \n",
       "A data.frame: 8 × 2\n",
       "\n",
       "| <!--/--> | names.hclust_cut. &lt;chr&gt; | hclust_cut &lt;int&gt; |\n",
       "|---|---|---|\n",
       "| Alabama | Alabama        | 1 |\n",
       "| Alaska | Alaska         | 1 |\n",
       "| Georgia | Georgia        | 1 |\n",
       "| Louisiana | Louisiana      | 1 |\n",
       "| Mississippi | Mississippi    | 1 |\n",
       "| North Carolina | North Carolina | 1 |\n",
       "| South Carolina | South Carolina | 1 |\n",
       "| Tennessee | Tennessee      | 1 |\n",
       "\n",
       "\n",
       "$`2`\n",
       ":   \n",
       "A data.frame: 11 × 2\n",
       "\n",
       "| <!--/--> | names.hclust_cut. &lt;chr&gt; | hclust_cut &lt;int&gt; |\n",
       "|---|---|---|\n",
       "| Arizona | Arizona    | 2 |\n",
       "| California | California | 2 |\n",
       "| Colorado | Colorado   | 2 |\n",
       "| Florida | Florida    | 2 |\n",
       "| Illinois | Illinois   | 2 |\n",
       "| Maryland | Maryland   | 2 |\n",
       "| Michigan | Michigan   | 2 |\n",
       "| Nevada | Nevada     | 2 |\n",
       "| New Mexico | New Mexico | 2 |\n",
       "| New York | New York   | 2 |\n",
       "| Texas | Texas      | 2 |\n",
       "\n",
       "\n",
       "$`3`\n",
       ":   \n",
       "A data.frame: 31 × 2\n",
       "\n",
       "| <!--/--> | names.hclust_cut. &lt;chr&gt; | hclust_cut &lt;int&gt; |\n",
       "|---|---|---|\n",
       "| Arkansas | Arkansas      | 3 |\n",
       "| Connecticut | Connecticut   | 3 |\n",
       "| Delaware | Delaware      | 3 |\n",
       "| Hawaii | Hawaii        | 3 |\n",
       "| Idaho | Idaho         | 3 |\n",
       "| Indiana | Indiana       | 3 |\n",
       "| Iowa | Iowa          | 3 |\n",
       "| Kansas | Kansas        | 3 |\n",
       "| Kentucky | Kentucky      | 3 |\n",
       "| Maine | Maine         | 3 |\n",
       "| Massachusetts | Massachusetts | 3 |\n",
       "| Minnesota | Minnesota     | 3 |\n",
       "| Missouri | Missouri      | 3 |\n",
       "| Montana | Montana       | 3 |\n",
       "| Nebraska | Nebraska      | 3 |\n",
       "| New Hampshire | New Hampshire | 3 |\n",
       "| New Jersey | New Jersey    | 3 |\n",
       "| North Dakota | North Dakota  | 3 |\n",
       "| Ohio | Ohio          | 3 |\n",
       "| Oklahoma | Oklahoma      | 3 |\n",
       "| Oregon | Oregon        | 3 |\n",
       "| Pennsylvania | Pennsylvania  | 3 |\n",
       "| Rhode Island | Rhode Island  | 3 |\n",
       "| South Dakota | South Dakota  | 3 |\n",
       "| Utah | Utah          | 3 |\n",
       "| Vermont | Vermont       | 3 |\n",
       "| Virginia | Virginia      | 3 |\n",
       "| Washington | Washington    | 3 |\n",
       "| West Virginia | West Virginia | 3 |\n",
       "| Wisconsin | Wisconsin     | 3 |\n",
       "| Wyoming | Wyoming       | 3 |\n",
       "\n",
       "\n",
       "\n",
       "\n"
      ],
      "text/plain": [
       "$`1`\n",
       "               names.hclust_cut. hclust_cut\n",
       "Alabama                  Alabama          1\n",
       "Alaska                    Alaska          1\n",
       "Georgia                  Georgia          1\n",
       "Louisiana              Louisiana          1\n",
       "Mississippi          Mississippi          1\n",
       "North Carolina    North Carolina          1\n",
       "South Carolina    South Carolina          1\n",
       "Tennessee              Tennessee          1\n",
       "\n",
       "$`2`\n",
       "           names.hclust_cut. hclust_cut\n",
       "Arizona              Arizona          2\n",
       "California        California          2\n",
       "Colorado            Colorado          2\n",
       "Florida              Florida          2\n",
       "Illinois            Illinois          2\n",
       "Maryland            Maryland          2\n",
       "Michigan            Michigan          2\n",
       "Nevada                Nevada          2\n",
       "New Mexico        New Mexico          2\n",
       "New York            New York          2\n",
       "Texas                  Texas          2\n",
       "\n",
       "$`3`\n",
       "              names.hclust_cut. hclust_cut\n",
       "Arkansas               Arkansas          3\n",
       "Connecticut         Connecticut          3\n",
       "Delaware               Delaware          3\n",
       "Hawaii                   Hawaii          3\n",
       "Idaho                     Idaho          3\n",
       "Indiana                 Indiana          3\n",
       "Iowa                       Iowa          3\n",
       "Kansas                   Kansas          3\n",
       "Kentucky               Kentucky          3\n",
       "Maine                     Maine          3\n",
       "Massachusetts     Massachusetts          3\n",
       "Minnesota             Minnesota          3\n",
       "Missouri               Missouri          3\n",
       "Montana                 Montana          3\n",
       "Nebraska               Nebraska          3\n",
       "New Hampshire     New Hampshire          3\n",
       "New Jersey           New Jersey          3\n",
       "North Dakota       North Dakota          3\n",
       "Ohio                       Ohio          3\n",
       "Oklahoma               Oklahoma          3\n",
       "Oregon                   Oregon          3\n",
       "Pennsylvania       Pennsylvania          3\n",
       "Rhode Island       Rhode Island          3\n",
       "South Dakota       South Dakota          3\n",
       "Utah                       Utah          3\n",
       "Vermont                 Vermont          3\n",
       "Virginia               Virginia          3\n",
       "Washington           Washington          3\n",
       "West Virginia     West Virginia          3\n",
       "Wisconsin             Wisconsin          3\n",
       "Wyoming                 Wyoming          3\n"
      ]
     },
     "metadata": {},
     "output_type": "display_data"
    },
    {
     "data": {
      "text/html": [
       "<table class=\"dataframe\">\n",
       "<caption>A data.frame: 3 × 5</caption>\n",
       "<thead>\n",
       "\t<tr><th scope=col>hclust_cut</th><th scope=col>Murder</th><th scope=col>Assault</th><th scope=col>UrbanPop</th><th scope=col>Rape</th></tr>\n",
       "\t<tr><th scope=col>&lt;int&gt;</th><th scope=col>&lt;dbl&gt;</th><th scope=col>&lt;dbl&gt;</th><th scope=col>&lt;dbl&gt;</th><th scope=col>&lt;dbl&gt;</th></tr>\n",
       "</thead>\n",
       "<tbody>\n",
       "\t<tr><td>1</td><td>14.087500</td><td>252.7500</td><td>53.50000</td><td>24.53750</td></tr>\n",
       "\t<tr><td>2</td><td>11.054545</td><td>264.0909</td><td>79.09091</td><td>32.61818</td></tr>\n",
       "\t<tr><td>3</td><td> 5.003226</td><td>116.4839</td><td>63.83871</td><td>16.33871</td></tr>\n",
       "</tbody>\n",
       "</table>\n"
      ],
      "text/latex": [
       "A data.frame: 3 × 5\n",
       "\\begin{tabular}{lllll}\n",
       " hclust\\_cut & Murder & Assault & UrbanPop & Rape\\\\\n",
       " <int> & <dbl> & <dbl> & <dbl> & <dbl>\\\\\n",
       "\\hline\n",
       "\t 1 & 14.087500 & 252.7500 & 53.50000 & 24.53750\\\\\n",
       "\t 2 & 11.054545 & 264.0909 & 79.09091 & 32.61818\\\\\n",
       "\t 3 &  5.003226 & 116.4839 & 63.83871 & 16.33871\\\\\n",
       "\\end{tabular}\n"
      ],
      "text/markdown": [
       "\n",
       "A data.frame: 3 × 5\n",
       "\n",
       "| hclust_cut &lt;int&gt; | Murder &lt;dbl&gt; | Assault &lt;dbl&gt; | UrbanPop &lt;dbl&gt; | Rape &lt;dbl&gt; |\n",
       "|---|---|---|---|---|\n",
       "| 1 | 14.087500 | 252.7500 | 53.50000 | 24.53750 |\n",
       "| 2 | 11.054545 | 264.0909 | 79.09091 | 32.61818 |\n",
       "| 3 |  5.003226 | 116.4839 | 63.83871 | 16.33871 |\n",
       "\n"
      ],
      "text/plain": [
       "  hclust_cut Murder    Assault  UrbanPop Rape    \n",
       "1 1          14.087500 252.7500 53.50000 24.53750\n",
       "2 2          11.054545 264.0909 79.09091 32.61818\n",
       "3 3           5.003226 116.4839 63.83871 16.33871"
      ]
     },
     "metadata": {},
     "output_type": "display_data"
    },
    {
     "data": {
      "image/png": "[encoded data removed]",
      "text/plain": [
       "Plot with title \"Cluster Dendrogram\""
      ]
     },
     "metadata": {
      "image/png": {
       "height": 420,
       "width": 420
      }
     },
     "output_type": "display_data"
    }
   ],
   "source": [
    "# a)  Using hierarchical clustering with complete linkage and Euclidean distance, cluster the states.\n",
    "hclust_com = hclust(dist(USArrests), method='complete')\n",
    "plot(hclust_com)\n",
    "\n",
    "# b) Cut the dendrogram at a height that results in three distinct clusters. Which states belong to which clusters?\n",
    "hclust_cut = cutree(hclust_com,k = 3)\n",
    "hclust_cut = split(data.frame(names(hclust_cut), hclust_cut), as.factor(hclust_cut))\n",
    "hclust_cut\n",
    "\n",
    "# c) Hierarchically cluster the states using complete linkage and Euclidean distance, after scaling the variables to have standard deviation one.\n",
    "hclust_scale = hclust(dist(scale(USArrests)), method='complete')\n",
    "plot(hclust_scale)\n",
    "\n",
    "# d) What effect does scaling the variables have on the hierarchical clustering obtained? In your opinion, should the variables be\n",
    "# scaled before the inter-observation dissimilarities are computed? Provide a justification for your answer\n",
    "hclust_cut = cutree(hclust_scale,k = 3)\n",
    "split(data.frame(names(hclust_cut), hclust_cut), as.factor(hclust_cut))\n",
    "aggregate(USArrests,list(hclust_cut = hclust_cut), mean)\n",
    "# Scaling is important, it will reduce the range of the tree. Furthermore, it will produces different results"
   ]
  },
  {
   "cell_type": "markdown",
   "id": "35c39395",
   "metadata": {},
   "source": [
    "## Exercise 10 Chapter 10\n",
    "\n",
    "In this problem, you will generate simulated data, and then perform PCA and K-means clustering on the data."
   ]
  },
  {
   "cell_type": "code",
   "execution_count": 19,
   "metadata": {},
   "outputs": [
    {
     "data": {
      "text/plain": [
       "\n",
       " 1  2  3 \n",
       "19 19 22 "
      ]
     },
     "metadata": {},
     "output_type": "display_data"
    },
    {
     "data": {
      "image/png": "[encoded data removed]",
      "text/plain": [
       "plot without title"
      ]
     },
     "metadata": {
      "image/png": {
       "height": 420,
       "width": 420
      }
     },
     "output_type": "display_data"
    },
    {
     "data": {
      "text/plain": [
       "\n",
       " 1  2 \n",
       "22 38 "
      ]
     },
     "metadata": {},
     "output_type": "display_data"
    },
    {
     "data": {
      "image/png": "[encoded data removed]",
      "text/plain": [
       "plot without title"
      ]
     },
     "metadata": {
      "image/png": {
       "height": 420,
       "width": 420
      }
     },
     "output_type": "display_data"
    },
    {
     "data": {
      "text/plain": [
       "\n",
       " 1  2  3  4 \n",
       "19 19  7 15 "
      ]
     },
     "metadata": {},
     "output_type": "display_data"
    },
    {
     "data": {
      "image/png": "[encoded data removed]",
      "text/plain": [
       "plot without title"
      ]
     },
     "metadata": {
      "image/png": {
       "height": 420,
       "width": 420
      }
     },
     "output_type": "display_data"
    },
    {
     "data": {
      "text/plain": [
       "\n",
       " 1  2  3 \n",
       "19 18 23 "
      ]
     },
     "metadata": {},
     "output_type": "display_data"
    },
    {
     "data": {
      "image/png": "[encoded data removed]",
      "text/plain": [
       "plot without title"
      ]
     },
     "metadata": {
      "image/png": {
       "height": 420,
       "width": 420
      }
     },
     "output_type": "display_data"
    },
    {
     "data": {
      "text/plain": [
       "\n",
       " 1  2  3 \n",
       "18 29 13 "
      ]
     },
     "metadata": {},
     "output_type": "display_data"
    },
    {
     "data": {
      "image/png": "[encoded data removed]",
      "text/plain": [
       "plot without title"
      ]
     },
     "metadata": {
      "image/png": {
       "height": 420,
       "width": 420
      }
     },
     "output_type": "display_data"
    },
    {
     "data": {
      "image/png": "[encoded data removed]",
      "text/plain": [
       "plot without title"
      ]
     },
     "metadata": {
      "image/png": {
       "height": 420,
       "width": 420
      }
     },
     "output_type": "display_data"
    }
   ],
   "source": [
    "# a) Generate a simulated data set with 20 observations in each of three classes (i.e. 60 observations total), and 50 variables.\n",
    "set.seed(42)\n",
    "data = matrix(sapply(1:3,function(x){ rnorm(20*50,mean = 10*sqrt(x))  }),ncol=50)    \n",
    "class = unlist(lapply(1:3,function(x){rep(x,20)}))\n",
    "\n",
    "# b) Perform PCA on the 60 observations and plot the first two principal component score vectors. Use a different color to indicate \n",
    "# the observations in each of the three classes. If the three classes appear separated in this plot, then continue on to part (c). If\n",
    "# not, then return to part (a) and modify the simulation so that there is greater separation between the three classes. Do not\n",
    "# continue to part (c) until the three classes show at least some separation in the first two principal component score vectors\n",
    "pr_out=prcomp(data)\n",
    "plot(pr_out$x[,c(1,2)], col=class)\n",
    "\n",
    "# c)  Perform K-means clustering of the observations with K = 3. How well do the clusters that you obtained in K-means clustering compare to the true class labels?\n",
    "set.seed(42)\n",
    "kmeans_res = kmeans(data,3)\n",
    "\n",
    "table(kmeans_res$cluster)\n",
    "plot(pr_out$x[,c(1,2)], col = kmeans_res$cluster)\n",
    "\n",
    "# d) Perform K-means clustering with K = 2. Describe your results\n",
    "set.seed(42)\n",
    "kmeans_2 = kmeans(data,2)\n",
    "\n",
    "table(kmeans_2$cluster)\n",
    "plot(pr_out$x[,c(1,2)], col = kmeans_2$cluster)\n",
    "\n",
    "# e) Now perform K-means clustering with K = 4, and describe your results.\n",
    "set.seed(42)\n",
    "kmeans_4 = kmeans(data,4)\n",
    "\n",
    "table(kmeans_4$cluster)\n",
    "plot(pr_out$x[,c(1,2)], col = kmeans_4$cluster)\n",
    "\n",
    "# f) Now perform K-means clustering with K = 3 on the first two principal component score vectors, rather than on the raw data. \n",
    "# That is, perform K-means clustering on the 60 × 2 matrix of which the first column is the first principal component score\n",
    "# vector, and the second column is the second principal component score vector. Comment on the results.\n",
    "set.seed(42)\n",
    "kmeans_pca = kmeans(pr_out$x[,c(1,2)],3)\n",
    "\n",
    "table(kmeans_pca$cluster)\n",
    "plot(pr_out$x[,c(1,2)], col = kmeans_pca$cluster)\n",
    "\n",
    "# g) Using the scale() function, perform K-means clustering with K = 3 on the data after scaling each variable to have standard\n",
    "# deviation one. How do these results compare to those obtained in (b)? Explain.\n",
    "set.seed(42)\n",
    "kmeans_scale = kmeans(scale(data,center = TRUE, scale = TRUE),3)\n",
    "\n",
    "table(kmeans_scale$cluster)\n",
    "plot(pr_out$x[,c(1,2)], col = kmeans_scale$cluster)"
   ]
  },
  {
   "cell_type": "markdown",
   "id": "d0ae5958",
   "metadata": {},
   "source": [
    "### Source\n",
    "https://rpubs.com/evertonjlima/245990"
   ]
  }
 ],
 "metadata": {
  "interpreter": {
   "hash": "81e0b57edd17c3833f38e5d4db6db81e2c0f982e51ee4890d9e870805c7d8a75"
  },
  "kernelspec": {
   "display_name": "R",
   "language": "R",
   "name": "ir"
  },
  "language_info": {
   "codemirror_mode": "r",
   "file_extension": ".r",
   "mimetype": "text/x-r-source",
   "name": "R",
   "pygments_lexer": "r",
   "version": "4.0.5"
  },
  "orig_nbformat": 4
 },
 "nbformat": 4,
 "nbformat_minor": 2
}
