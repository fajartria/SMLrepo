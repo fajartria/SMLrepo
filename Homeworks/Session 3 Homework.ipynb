{
 "cells": [
  {
   "cell_type": "markdown",
   "id": "b165a878",
   "metadata": {},
   "source": [
    "# Session 3 - Homework ANGGORO Fajar Tri"
   ]
  },
  {
   "cell_type": "markdown",
   "id": "35c39395",
   "metadata": {},
   "source": [
    "## Exercise 3 Chapter 5\n",
    "We now review k-fold cross-validation."
   ]
  },
  {
   "cell_type": "code",
   "execution_count": null,
   "id": "c431319e",
   "metadata": {},
   "outputs": [],
   "source": [
    "# a) Explain how k-fold cross-validation is implemented.\n",
    "# the k-fold cross validation is implemented by dividing the data into k folds, a subset of these k folds is then used to train \n",
    "# the model, and then evaluated on the other subset of the data which were not used to train the model. This process is repeated\n",
    "# k times with different subset to train & evaluate the model. Finally, the score of the error is averaged between all of the\n",
    "# built model."
   ]
  },
  {
   "cell_type": "code",
   "execution_count": 1,
   "id": "592e0e1b",
   "metadata": {},
   "outputs": [],
   "source": [
    "# b) What are the advantages and disadvantages of k-fold cross validation relative to:\n",
    "# i. The validation set approach?\n",
    "# in essence, the k fold cross validation is actually the validation set approach that is done multiple times and within different\n",
    "# subsets, this results k-fold cross validation having less bias as opposed to the validation set approach. Furthermore,\n",
    "# the validation set approach is highly dependant on the set that is used to train the model\n",
    "\n",
    "# ii. LOOCV?\n",
    "# Compared to the k-fold cross validation, LOOCV has higher variance, this is because in LOOCV the model is fitted n times. The\n",
    "# drawback from this is that the output from these models are usually highly correlated within each other. k-fold cross validation\n",
    "# is usually a solution to this, but the number of k has to be decided as well for bias-variance trade off."
   ]
  },
  {
   "cell_type": "markdown",
   "id": "af070c07",
   "metadata": {},
   "source": [
    "## Exercise 8 Chapter 5\n",
    "We will now perform cross-validation on a simulated data set."
   ]
  },
  {
   "cell_type": "code",
   "execution_count": 3,
   "id": "e077bf66",
   "metadata": {},
   "outputs": [
    {
     "data": {
      "text/html": [
       "<style>\n",
       ".list-inline {list-style: none; margin:0; padding: 0}\n",
       ".list-inline>li {display: inline-block}\n",
       ".list-inline>li:not(:last-child)::after {content: \"\\00b7\"; padding: 0 .5ex}\n",
       "</style>\n",
       "<ol class=list-inline><li>-2.03170924195364</li><li>0.158309456303644</li><li>-3.14310061671917</li><li>-3.33653210079692</li><li>-0.542227615476905</li><li>-0.399517853419823</li><li>0.728962366143029</li><li>0.558252194216153</li><li>0.296918379655992</li><li>1.19026355934314</li><li>-3.69491988806335</li><li>-0.375756991900613</li><li>0.0391619401760244</li><li>-12.6751874210159</li><li>-1.61338896664745</li><li>-0.441779596895482</li><li>-0.336707380885879</li><li>-1.11693067749283</li><li>-0.0333989761907501</li><li>-0.288866719739903</li><li>-1.27601890956194</li><li>0.901700740058922</li><li>-0.15113429867018</li><li>-10.0839485655757</li><li>-0.248732908825326</li><li>0.650236696720176</li><li>-0.277904390650796</li><li>-5.83461170485712</li><li>-1.61706548426503</li><li>-0.25567900753094</li><li>-2.27318025552277</li><li>-0.712812847387335</li><li>0.618589247373865</li><li>-1.57798908715395</li><li>-4.86308774214484</li><li>-2.29588536197385</li><li>-1.00619521574078</li><li>-0.594629459215029</li><li>-1.97218104671368</li><li>-0.458595475457314</li><li>-2.13301904938203</li><li>0.794837349958867</li><li>-1.9395249541184</li><li>-0.526615036313904</li><li>-2.75344461314115</li><li>-2.45941295240528</li><li>2.18590849353409</li><li>-0.395357167919768</li><li>-1.42389008535356</li><li>-2.31219945919899</li><li>0.531316397674047</li><li>-1.3797388380365</li><li>-0.209673970874409</li><li>-4.60964724911288</li><li>-4.16155046771433</li><li>-6.93875991411386</li><li>0.363104101690919</li><li>-3.84583555685968</li><li>-1.46386812772832</li><li>1.69775652648394</li><li>-8.70881759726673</li><li>-0.2809666592752</li><li>0.796741634931789</li><li>0.912856568362847</li><li>-2.46742638319825</li><li>2.32360969934298</li><li>-8.57573696304848</li><li>-4.25464189315114</li><li>-0.0381194350885023</li><li>-7.06033293079315</li><li>2.33126930381027</li><li>-1.61219193258535</li><li>0.321751801220392</li><li>-2.75632733788758</li><li>-4.73082764699575</li><li>0.0868383908115858</li><li>-0.0486676373112858</li><li>2.07634791667945</li><li>1.09068049796219</li><li>-0.0766824397903272</li><li>-2.44676040974735</li><li>0.812170438955953</li><li>-1.37776614275589</li><li>-7.63332842026557</li><li>0.409424782679888</li><li>-0.0475161328849369</li><li>0.267324621212103</li><li>-1.25532164203408</li><li>-0.334020783395991</li><li>-0.801694234669182</li><li>-1.30827996048255</li><li>-1.30800968799169</li><li>-2.26441401844803</li><li>0.549988507562447</li><li>-4.65733015666369</li><li>-1.11331216232386</li><li>-3.09480983500529</li><li>-2.24637934986191</li><li>-3.81199001571722</li><li>-1.30269301271052</li></ol>\n"
      ],
      "text/latex": [
       "\\begin{enumerate*}\n",
       "\\item -2.03170924195364\n",
       "\\item 0.158309456303644\n",
       "\\item -3.14310061671917\n",
       "\\item -3.33653210079692\n",
       "\\item -0.542227615476905\n",
       "\\item -0.399517853419823\n",
       "\\item 0.728962366143029\n",
       "\\item 0.558252194216153\n",
       "\\item 0.296918379655992\n",
       "\\item 1.19026355934314\n",
       "\\item -3.69491988806335\n",
       "\\item -0.375756991900613\n",
       "\\item 0.0391619401760244\n",
       "\\item -12.6751874210159\n",
       "\\item -1.61338896664745\n",
       "\\item -0.441779596895482\n",
       "\\item -0.336707380885879\n",
       "\\item -1.11693067749283\n",
       "\\item -0.0333989761907501\n",
       "\\item -0.288866719739903\n",
       "\\item -1.27601890956194\n",
       "\\item 0.901700740058922\n",
       "\\item -0.15113429867018\n",
       "\\item -10.0839485655757\n",
       "\\item -0.248732908825326\n",
       "\\item 0.650236696720176\n",
       "\\item -0.277904390650796\n",
       "\\item -5.83461170485712\n",
       "\\item -1.61706548426503\n",
       "\\item -0.25567900753094\n",
       "\\item -2.27318025552277\n",
       "\\item -0.712812847387335\n",
       "\\item 0.618589247373865\n",
       "\\item -1.57798908715395\n",
       "\\item -4.86308774214484\n",
       "\\item -2.29588536197385\n",
       "\\item -1.00619521574078\n",
       "\\item -0.594629459215029\n",
       "\\item -1.97218104671368\n",
       "\\item -0.458595475457314\n",
       "\\item -2.13301904938203\n",
       "\\item 0.794837349958867\n",
       "\\item -1.9395249541184\n",
       "\\item -0.526615036313904\n",
       "\\item -2.75344461314115\n",
       "\\item -2.45941295240528\n",
       "\\item 2.18590849353409\n",
       "\\item -0.395357167919768\n",
       "\\item -1.42389008535356\n",
       "\\item -2.31219945919899\n",
       "\\item 0.531316397674047\n",
       "\\item -1.3797388380365\n",
       "\\item -0.209673970874409\n",
       "\\item -4.60964724911288\n",
       "\\item -4.16155046771433\n",
       "\\item -6.93875991411386\n",
       "\\item 0.363104101690919\n",
       "\\item -3.84583555685968\n",
       "\\item -1.46386812772832\n",
       "\\item 1.69775652648394\n",
       "\\item -8.70881759726673\n",
       "\\item -0.2809666592752\n",
       "\\item 0.796741634931789\n",
       "\\item 0.912856568362847\n",
       "\\item -2.46742638319825\n",
       "\\item 2.32360969934298\n",
       "\\item -8.57573696304848\n",
       "\\item -4.25464189315114\n",
       "\\item -0.0381194350885023\n",
       "\\item -7.06033293079315\n",
       "\\item 2.33126930381027\n",
       "\\item -1.61219193258535\n",
       "\\item 0.321751801220392\n",
       "\\item -2.75632733788758\n",
       "\\item -4.73082764699575\n",
       "\\item 0.0868383908115858\n",
       "\\item -0.0486676373112858\n",
       "\\item 2.07634791667945\n",
       "\\item 1.09068049796219\n",
       "\\item -0.0766824397903272\n",
       "\\item -2.44676040974735\n",
       "\\item 0.812170438955953\n",
       "\\item -1.37776614275589\n",
       "\\item -7.63332842026557\n",
       "\\item 0.409424782679888\n",
       "\\item -0.0475161328849369\n",
       "\\item 0.267324621212103\n",
       "\\item -1.25532164203408\n",
       "\\item -0.334020783395991\n",
       "\\item -0.801694234669182\n",
       "\\item -1.30827996048255\n",
       "\\item -1.30800968799169\n",
       "\\item -2.26441401844803\n",
       "\\item 0.549988507562447\n",
       "\\item -4.65733015666369\n",
       "\\item -1.11331216232386\n",
       "\\item -3.09480983500529\n",
       "\\item -2.24637934986191\n",
       "\\item -3.81199001571722\n",
       "\\item -1.30269301271052\n",
       "\\end{enumerate*}\n"
      ],
      "text/markdown": [
       "1. -2.03170924195364\n",
       "2. 0.158309456303644\n",
       "3. -3.14310061671917\n",
       "4. -3.33653210079692\n",
       "5. -0.542227615476905\n",
       "6. -0.399517853419823\n",
       "7. 0.728962366143029\n",
       "8. 0.558252194216153\n",
       "9. 0.296918379655992\n",
       "10. 1.19026355934314\n",
       "11. -3.69491988806335\n",
       "12. -0.375756991900613\n",
       "13. 0.0391619401760244\n",
       "14. -12.6751874210159\n",
       "15. -1.61338896664745\n",
       "16. -0.441779596895482\n",
       "17. -0.336707380885879\n",
       "18. -1.11693067749283\n",
       "19. -0.0333989761907501\n",
       "20. -0.288866719739903\n",
       "21. -1.27601890956194\n",
       "22. 0.901700740058922\n",
       "23. -0.15113429867018\n",
       "24. -10.0839485655757\n",
       "25. -0.248732908825326\n",
       "26. 0.650236696720176\n",
       "27. -0.277904390650796\n",
       "28. -5.83461170485712\n",
       "29. -1.61706548426503\n",
       "30. -0.25567900753094\n",
       "31. -2.27318025552277\n",
       "32. -0.712812847387335\n",
       "33. 0.618589247373865\n",
       "34. -1.57798908715395\n",
       "35. -4.86308774214484\n",
       "36. -2.29588536197385\n",
       "37. -1.00619521574078\n",
       "38. -0.594629459215029\n",
       "39. -1.97218104671368\n",
       "40. -0.458595475457314\n",
       "41. -2.13301904938203\n",
       "42. 0.794837349958867\n",
       "43. -1.9395249541184\n",
       "44. -0.526615036313904\n",
       "45. -2.75344461314115\n",
       "46. -2.45941295240528\n",
       "47. 2.18590849353409\n",
       "48. -0.395357167919768\n",
       "49. -1.42389008535356\n",
       "50. -2.31219945919899\n",
       "51. 0.531316397674047\n",
       "52. -1.3797388380365\n",
       "53. -0.209673970874409\n",
       "54. -4.60964724911288\n",
       "55. -4.16155046771433\n",
       "56. -6.93875991411386\n",
       "57. 0.363104101690919\n",
       "58. -3.84583555685968\n",
       "59. -1.46386812772832\n",
       "60. 1.69775652648394\n",
       "61. -8.70881759726673\n",
       "62. -0.2809666592752\n",
       "63. 0.796741634931789\n",
       "64. 0.912856568362847\n",
       "65. -2.46742638319825\n",
       "66. 2.32360969934298\n",
       "67. -8.57573696304848\n",
       "68. -4.25464189315114\n",
       "69. -0.0381194350885023\n",
       "70. -7.06033293079315\n",
       "71. 2.33126930381027\n",
       "72. -1.61219193258535\n",
       "73. 0.321751801220392\n",
       "74. -2.75632733788758\n",
       "75. -4.73082764699575\n",
       "76. 0.0868383908115858\n",
       "77. -0.0486676373112858\n",
       "78. 2.07634791667945\n",
       "79. 1.09068049796219\n",
       "80. -0.0766824397903272\n",
       "81. -2.44676040974735\n",
       "82. 0.812170438955953\n",
       "83. -1.37776614275589\n",
       "84. -7.63332842026557\n",
       "85. 0.409424782679888\n",
       "86. -0.0475161328849369\n",
       "87. 0.267324621212103\n",
       "88. -1.25532164203408\n",
       "89. -0.334020783395991\n",
       "90. -0.801694234669182\n",
       "91. -1.30827996048255\n",
       "92. -1.30800968799169\n",
       "93. -2.26441401844803\n",
       "94. 0.549988507562447\n",
       "95. -4.65733015666369\n",
       "96. -1.11331216232386\n",
       "97. -3.09480983500529\n",
       "98. -2.24637934986191\n",
       "99. -3.81199001571722\n",
       "100. -1.30269301271052\n",
       "\n",
       "\n"
      ],
      "text/plain": [
       "  [1]  -2.03170924   0.15830946  -3.14310062  -3.33653210  -0.54222762\n",
       "  [6]  -0.39951785   0.72896237   0.55825219   0.29691838   1.19026356\n",
       " [11]  -3.69491989  -0.37575699   0.03916194 -12.67518742  -1.61338897\n",
       " [16]  -0.44177960  -0.33670738  -1.11693068  -0.03339898  -0.28886672\n",
       " [21]  -1.27601891   0.90170074  -0.15113430 -10.08394857  -0.24873291\n",
       " [26]   0.65023670  -0.27790439  -5.83461170  -1.61706548  -0.25567901\n",
       " [31]  -2.27318026  -0.71281285   0.61858925  -1.57798909  -4.86308774\n",
       " [36]  -2.29588536  -1.00619522  -0.59462946  -1.97218105  -0.45859548\n",
       " [41]  -2.13301905   0.79483735  -1.93952495  -0.52661504  -2.75344461\n",
       " [46]  -2.45941295   2.18590849  -0.39535717  -1.42389009  -2.31219946\n",
       " [51]   0.53131640  -1.37973884  -0.20967397  -4.60964725  -4.16155047\n",
       " [56]  -6.93875991   0.36310410  -3.84583556  -1.46386813   1.69775653\n",
       " [61]  -8.70881760  -0.28096666   0.79674163   0.91285657  -2.46742638\n",
       " [66]   2.32360970  -8.57573696  -4.25464189  -0.03811944  -7.06033293\n",
       " [71]   2.33126930  -1.61219193   0.32175180  -2.75632734  -4.73082765\n",
       " [76]   0.08683839  -0.04866764   2.07634792   1.09068050  -0.07668244\n",
       " [81]  -2.44676041   0.81217044  -1.37776614  -7.63332842   0.40942478\n",
       " [86]  -0.04751613   0.26732462  -1.25532164  -0.33402078  -0.80169423\n",
       " [91]  -1.30827996  -1.30800969  -2.26441402   0.54998851  -4.65733016\n",
       " [96]  -1.11331216  -3.09480984  -2.24637935  -3.81199002  -1.30269301"
      ]
     },
     "metadata": {},
     "output_type": "display_data"
    }
   ],
   "source": [
    "# a) Generate a simulated data set as follows:\n",
    "set.seed(1)\n",
    "x=rnorm(100)\n",
    "y=x-2* x^2+ rnorm (100)\n",
    "\n",
    "#In this data set, what is n and what is p? Write out the model used to generate the data in equation form.\n",
    "# in this case n = 100 and p = 2 (x and x^2)\n",
    "# eq: y = x - 2x^2 + e"
   ]
  },
  {
   "cell_type": "code",
   "execution_count": 4,
   "id": "9fd779a2",
   "metadata": {},
   "outputs": [
    {
     "data": {
      "image/png": "[encoded data removed]",
      "text/plain": [
       "plot without title"
      ]
     },
     "metadata": {
      "image/png": {
       "height": 420,
       "width": 420
      }
     },
     "output_type": "display_data"
    }
   ],
   "source": [
    "# b) Create a scatterplot of X against Y . Comment on what you find\n",
    "plot(x, y)\n",
    "\n",
    "# Since the eq is in quadratic form, we can see a parabolic form of the chart"
   ]
  },
  {
   "cell_type": "code",
   "execution_count": 12,
   "id": "8fca6e00",
   "metadata": {},
   "outputs": [
    {
     "name": "stdout",
     "output_type": "stream",
     "text": [
      "[1] \"model 1:\"\n",
      "[1] 7.288162\n",
      "[1] \"model 2:\"\n",
      "[1] 0.9374236\n",
      "[1] \"model 3:\"\n",
      "[1] 0.9566218\n",
      "[1] \"model 4:\"\n",
      "[1] 0.9539049\n"
     ]
    }
   ],
   "source": [
    "# c) Set a random seed, and then compute the LOOCV errors that result from fitting the following four models using least squares:\n",
    "library(boot)\n",
    "set.seed(42)\n",
    "Data <- data.frame(x, y)\n",
    "\n",
    "#i. Y = β0 + β1X + e\n",
    "mod1 <- glm(y ~ x)\n",
    "print(\"model 1:\")  \n",
    "print(cv.glm(Data, mod1)$delta[1])\n",
    "\n",
    "#ii. Y = β0 + β1X + β2X2 + e\n",
    "mod2 <- glm(y ~ poly(x, 2))\n",
    "print(\"model 2:\") \n",
    "print(cv.glm(Data, mod2)$delta[1])\n",
    "\n",
    "#iii. Y = β0 + β1X + β2X2 + β3X3 + e\n",
    "mod3 <- glm(y ~ poly(x, 3))\n",
    "print(\"model 3:\") \n",
    "print(cv.glm(Data, mod3)$delta[1])\n",
    "\n",
    "#iv. Y = β0 + β1X + β2X2 + β3X3 + β4X4 + e.\n",
    "mod4 <- glm(y ~ poly(x, 4))\n",
    "print(\"model 4:\") \n",
    "print(cv.glm(Data, mod4)$delta[1])\n",
    "\n",
    "# Note you may find it helpful to use the data.frame() function to create a single data set containing both X and Y"
   ]
  },
  {
   "cell_type": "code",
   "execution_count": 13,
   "id": "c8124091",
   "metadata": {},
   "outputs": [
    {
     "name": "stdout",
     "output_type": "stream",
     "text": [
      "[1] \"model 1:\"\n",
      "[1] 7.288162\n",
      "[1] \"model 2:\"\n",
      "[1] 0.9374236\n",
      "[1] \"model 3:\"\n",
      "[1] 0.9566218\n",
      "[1] \"model 4:\"\n",
      "[1] 0.9539049\n"
     ]
    }
   ],
   "source": [
    "# d) Repeat (c) using another random seed, and report your results. Are your results the same as what you got in (c)? Why?\n",
    "set.seed(40)\n",
    "\n",
    "#i. Y = β0 + β1X + e\n",
    "mod1 <- glm(y ~ x)\n",
    "print(\"model 1:\")  \n",
    "print(cv.glm(Data, mod1)$delta[1])\n",
    "\n",
    "#ii. Y = β0 + β1X + β2X2 + e\n",
    "mod2 <- glm(y ~ poly(x, 2))\n",
    "print(\"model 2:\") \n",
    "print(cv.glm(Data, mod2)$delta[1])\n",
    "\n",
    "#iii. Y = β0 + β1X + β2X2 + β3X3 + e\n",
    "mod3 <- glm(y ~ poly(x, 3))\n",
    "print(\"model 3:\") \n",
    "print(cv.glm(Data, mod3)$delta[1])\n",
    "\n",
    "#iv. Y = β0 + β1X + β2X2 + β3X3 + β4X4 + e.\n",
    "mod4 <- glm(y ~ poly(x, 4))\n",
    "print(\"model 4:\") \n",
    "print(cv.glm(Data, mod4)$delta[1])\n",
    "\n",
    "#The results is exactly the same because LOOCV works by fitting the model n times"
   ]
  },
  {
   "cell_type": "code",
   "execution_count": 14,
   "id": "31909fc1",
   "metadata": {},
   "outputs": [],
   "source": [
    "# e) Which of the models in (c) had the smallest LOOCV error? Is this what you expected? Explain your answer.\n",
    "# Model 2 has the lowest error since model 2 has a quadratic function"
   ]
  },
  {
   "cell_type": "code",
   "execution_count": 15,
   "id": "f8dc9571",
   "metadata": {},
   "outputs": [
    {
     "data": {
      "text/plain": [
       "\n",
       "Call:\n",
       "glm(formula = y ~ poly(x, 4))\n",
       "\n",
       "Deviance Residuals: \n",
       "    Min       1Q   Median       3Q      Max  \n",
       "-2.0550  -0.6212  -0.1567   0.5952   2.2267  \n",
       "\n",
       "Coefficients:\n",
       "             Estimate Std. Error t value Pr(>|t|)    \n",
       "(Intercept)  -1.55002    0.09591 -16.162  < 2e-16 ***\n",
       "poly(x, 4)1   6.18883    0.95905   6.453 4.59e-09 ***\n",
       "poly(x, 4)2 -23.94830    0.95905 -24.971  < 2e-16 ***\n",
       "poly(x, 4)3   0.26411    0.95905   0.275    0.784    \n",
       "poly(x, 4)4   1.25710    0.95905   1.311    0.193    \n",
       "---\n",
       "Signif. codes:  0 '***' 0.001 '**' 0.01 '*' 0.05 '.' 0.1 ' ' 1\n",
       "\n",
       "(Dispersion parameter for gaussian family taken to be 0.9197797)\n",
       "\n",
       "    Null deviance: 700.852  on 99  degrees of freedom\n",
       "Residual deviance:  87.379  on 95  degrees of freedom\n",
       "AIC: 282.3\n",
       "\n",
       "Number of Fisher Scoring iterations: 2\n"
      ]
     },
     "metadata": {},
     "output_type": "display_data"
    }
   ],
   "source": [
    "# f) Comment on the statistical significance of the coefficient estimates that results from fitting each of the models in (c) \n",
    "# using least squares. Do these results agree with the conclusions drawn based on the cross-validation results?\n",
    "summary(mod4)\n",
    "\n",
    "# we can see that the linear term and the quadratic term are statistically significant, while the cubic and 4th degree term are not\n",
    "# this is proven by the lowest error that we got earlier is from the 2nd model (quadratic function)"
   ]
  },
  {
   "cell_type": "markdown",
   "id": "420b9a94",
   "metadata": {},
   "source": [
    "## Exercise 1 Chapter 6\n",
    "We perform best subset, forward stepwise, and backward stepwise selection on a single data set. For each approach, we obtain p + 1 models, containing 0, 1, 2,...,p predictors. Explain your answers:"
   ]
  },
  {
   "cell_type": "code",
   "execution_count": 16,
   "id": "9c0f3729",
   "metadata": {},
   "outputs": [],
   "source": [
    "# a)  Which of the three models with k predictors has the smallest training RSS?\n",
    "# The best subset model will have the smallest training RSS since it selects the best subset of k among other models\n",
    "\n",
    "# b) Which of the three models with k predictors has the smallest test RSS?\n",
    "# the best subset model might have the smallest test RSS because of the very same reason, but the other models might have low\n",
    "# errors as well\n",
    "\n",
    "# c)  True or False:\n",
    "# i. The predictors in the k-variable model identified by forward stepwise are a subset of the predictors in the (k+1)-variable\n",
    "# model identified by forward stepwise selection.\n",
    "# True\n",
    "\n",
    "#ii. The predictors in the k-variable model identified by backward stepwise are a subset of the predictors in the (k + 1)-\n",
    "# variable model identified by backward stepwise selection.\n",
    "# True\n",
    "\n",
    "# iii. The predictors in the k-variable model identified by backward stepwise are a subset of the predictors in the (k + 1)-\n",
    "# variable model identified by forward stepwise selection.\n",
    "# False\n",
    "\n",
    "# iv. The predictors in the k-variable model identified by forward stepwise are a subset of the predictors in the (k+1)-variable\n",
    "# model identified by backward stepwise selection.\n",
    "# False\n",
    "\n",
    "# v. The predictors in the k-variable model identified by best subset are a subset of the predictors in the (k + 1)-variable\n",
    "# model identified by best subset selection.\n",
    "# False"
   ]
  },
  {
   "cell_type": "markdown",
   "id": "af28b1ff",
   "metadata": {},
   "source": [
    "## Exercise 9 Chapter 6\n",
    "In this exercise, we will predict the number of applications received using the other variables in the College data set."
   ]
  },
  {
   "cell_type": "code",
   "execution_count": 17,
   "id": "5d3e605a",
   "metadata": {},
   "outputs": [],
   "source": [
    "# a) Split the data set into a training set and a test set.\n",
    "library(ISLR)\n",
    "data(College)\n",
    "set.seed(42)\n",
    "\n",
    "train = sample(1:dim(College)[1], dim(College)[1] / 2)\n",
    "test <- -train\n",
    "\n",
    "df_train <- College[train, ]\n",
    "df_test <- College[test, ]"
   ]
  },
  {
   "cell_type": "code",
   "execution_count": 32,
   "id": "1b3d3174",
   "metadata": {},
   "outputs": [
    {
     "data": {
      "text/html": [
       "1341776.21876624"
      ],
      "text/latex": [
       "1341776.21876624"
      ],
      "text/markdown": [
       "1341776.21876624"
      ],
      "text/plain": [
       "[1] 1341776"
      ]
     },
     "metadata": {},
     "output_type": "display_data"
    }
   ],
   "source": [
    "# b) Fit a linear model using least squares on the training set, and report the test error obtained.\n",
    "\n",
    "model_lm <- lm(Apps ~ ., data = df_train)\n",
    "pred_lm <- predict(model_lm, df_test)\n",
    "mean((pred_lm - df_test$Apps)^2)"
   ]
  },
  {
   "cell_type": "code",
   "execution_count": 33,
   "id": "8d0f1ef6",
   "metadata": {},
   "outputs": [
    {
     "name": "stderr",
     "output_type": "stream",
     "text": [
      "Your code contains a unicode char which cannot be displayed in your\n",
      "current locale and R will silently convert it to an escaped form when the\n",
      "R kernel executes this code. This can lead to subtle errors if you use\n",
      "such chars to do comparisons. For more information, please see\n",
      "https://github.com/IRkernel/repr/wiki/Problems-with-unicode-on-windows"
     ]
    },
    {
     "data": {
      "text/html": [
       "1411093.03659161"
      ],
      "text/latex": [
       "1411093.03659161"
      ],
      "text/markdown": [
       "1411093.03659161"
      ],
      "text/plain": [
       "[1] 1411093"
      ]
     },
     "metadata": {},
     "output_type": "display_data"
    }
   ],
   "source": [
    "# c) Fit a ridge regression model on the training set, with λ chosen by cross-validation. Report the test error obtained\n",
    "library(\"glmnet\")\n",
    "train_matrix <- model.matrix(Apps ~ ., data = df_train)\n",
    "test_matrix <- model.matrix(Apps ~ ., data = df_test)\n",
    "\n",
    "grid <- 10 ^ seq(4, -2, length = 100)\n",
    "model_ridge <- glmnet(train_matrix, df_train$Apps, alpha = 0, lambda = grid, thresh = 1e-12)\n",
    "cv_ridge <- cv.glmnet(train_matrix, df_train$Apps, alpha = 0, lambda = grid, thresh = 1e-12)\n",
    "# find best lambda\n",
    "best_lambda <- cv_ridge$lambda.min\n",
    "\n",
    "pred_ridge <- predict(model_ridge, s = best_lambda, newx = test_matrix)\n",
    "mean((pred_ridge - df_test$Apps)^2)"
   ]
  },
  {
   "cell_type": "code",
   "execution_count": 34,
   "id": "0ea81e1c",
   "metadata": {},
   "outputs": [
    {
     "name": "stderr",
     "output_type": "stream",
     "text": [
      "Your code contains a unicode char which cannot be displayed in your\n",
      "current locale and R will silently convert it to an escaped form when the\n",
      "R kernel executes this code. This can lead to subtle errors if you use\n",
      "such chars to do comparisons. For more information, please see\n",
      "https://github.com/IRkernel/repr/wiki/Problems-with-unicode-on-windows"
     ]
    },
    {
     "name": "stdout",
     "output_type": "stream",
     "text": [
      "[1] 1410193\n",
      "19 x 1 sparse Matrix of class \"dgCMatrix\"\n",
      "                       s1\n",
      "(Intercept) -9.008539e+02\n",
      "(Intercept)  .           \n",
      "PrivateYes  -5.486235e+02\n",
      "Accept       1.305486e+00\n",
      "Enroll       .           \n",
      "Top10perc    2.410614e+01\n",
      "Top25perc    .           \n",
      "F.Undergrad  3.610570e-02\n",
      "P.Undergrad  9.366052e-03\n",
      "Outstate    -2.844653e-02\n",
      "Room.Board   9.987691e-02\n",
      "Books        .           \n",
      "Personal     .           \n",
      "PhD         -7.112460e+00\n",
      "Terminal    -2.304278e+00\n",
      "S.F.Ratio    1.186530e+01\n",
      "perc.alumni -6.610299e+00\n",
      "Expend       9.250566e-02\n",
      "Grad.Rate    8.187144e+00\n"
     ]
    }
   ],
   "source": [
    "# d) it a lasso model on the training set, with λ chosen by crossvalidation. Report the test error obtained, \n",
    "# along with the number of non-zero coefficient estimates.\n",
    "model_lasso <- glmnet(train_matrix, df_train$Apps, alpha = 1, lambda = grid, thresh = 1e-12)\n",
    "cv_lasso <- cv.glmnet(train_matrix, df_train$Apps, alpha = 1, lambda = grid, thresh = 1e-12)\n",
    "# find best lambda\n",
    "best_lambda <- cv_lasso$lambda.min\n",
    "\n",
    "pred_lasso <- predict(model_lasso, s = best_lambda, newx = test_matrix)\n",
    "print(mean((pred_lasso - df_test$Apps)^2))\n",
    "\n",
    "print(predict(model_lasso, s = best_lambda, type = \"coefficients\"))"
   ]
  },
  {
   "cell_type": "code",
   "execution_count": 35,
   "id": "1d353d14",
   "metadata": {},
   "outputs": [
    {
     "data": {
      "text/html": [
       "2802273.90995399"
      ],
      "text/latex": [
       "2802273.90995399"
      ],
      "text/markdown": [
       "2802273.90995399"
      ],
      "text/plain": [
       "[1] 2802274"
      ]
     },
     "metadata": {},
     "output_type": "display_data"
    },
    {
     "data": {
      "image/png": "[encoded data removed]",
      "text/plain": [
       "Plot with title \"Apps\""
      ]
     },
     "metadata": {
      "image/png": {
       "height": 420,
       "width": 420
      }
     },
     "output_type": "display_data"
    }
   ],
   "source": [
    "# e) fit a PCR model on the training set, with M chosen by crossvalidation. Report the test error obtained, along with the value\n",
    "# of M selected by cross-validation.\n",
    "library(\"pls\")\n",
    "model_pcr <- pcr(Apps ~ ., data = df_train, scale = TRUE, validation = \"CV\")\n",
    "validationplot(model_pcr, val.type = \"MSEP\")\n",
    "pred_pcr <- predict(model_pcr, df_test, ncomp = 10)\n",
    "mean((pred_pcr - df_test$Apps)^2)"
   ]
  },
  {
   "cell_type": "code",
   "execution_count": 36,
   "id": "60c7db50",
   "metadata": {},
   "outputs": [
    {
     "data": {
      "text/html": [
       "1346548.08864519"
      ],
      "text/latex": [
       "1346548.08864519"
      ],
      "text/markdown": [
       "1346548.08864519"
      ],
      "text/plain": [
       "[1] 1346548"
      ]
     },
     "metadata": {},
     "output_type": "display_data"
    },
    {
     "data": {
      "image/png": "[encoded data removed]",
      "text/plain": [
       "Plot with title \"Apps\""
      ]
     },
     "metadata": {
      "image/png": {
       "height": 420,
       "width": 420
      }
     },
     "output_type": "display_data"
    }
   ],
   "source": [
    "# f) fit a PLS model on the training set, with M chosen by crossvalidation. Report the test error obtained, along with the value\n",
    "# of M selected by cross-validation.\n",
    "model_pls <- plsr(Apps ~ ., data = df_train, scale = TRUE, validation = \"CV\")\n",
    "validationplot(model_pls, val.type = \"MSEP\")\n",
    "pred_pls <- predict(model_pls, df_test, ncomp = 10)\n",
    "mean((pred_pls - df_test$Apps)^2)"
   ]
  },
  {
   "cell_type": "code",
   "execution_count": 38,
   "id": "7e0ef0a2",
   "metadata": {},
   "outputs": [
    {
     "name": "stdout",
     "output_type": "stream",
     "text": [
      "[1] 0.9193214\n",
      "[1] 0.9151535\n",
      "[1] 0.9152076\n",
      "[1] 0.8315042\n",
      "[1] 0.9190344\n"
     ]
    }
   ],
   "source": [
    "# g) Comment on the results obtained. How accurately can we predict the number of college applications received? Is there much\n",
    "# difference among the test errors resulting from these five approaches?\n",
    "\n",
    "# compare the test R squared of all model to decide which are the good models\n",
    "\n",
    "test_avg <- mean(df_test$Apps)\n",
    "lm_r2 <- 1 - mean((pred_lm - df_test$Apps)^2) / mean((test_avg - df_test$Apps)^2)\n",
    "ridge_r2 <- 1 - mean((pred_ridge - df_test$Apps)^2) / mean((test_avg - df_test$Apps)^2)\n",
    "lasso_r2 <- 1 - mean((pred_lasso - df_test$Apps)^2) / mean((test_avg - df_test$Apps)^2)\n",
    "pcr_r2 <- 1 - mean((pred_pcr - df_test$Apps)^2) / mean((test_avg - df_test$Apps)^2)\n",
    "pls_r2 <- 1 - mean((pred_pls - df_test$Apps)^2) / mean((test_avg - df_test$Apps)^2)\n",
    "print(lm_r2)\n",
    "print(ridge_r2)\n",
    "print(lasso_r2)\n",
    "print(pcr_r2)\n",
    "print(pls_r2)\n",
    "\n",
    "# we can see that most model are relatively good model except for PCR, best model would be OLS followed by PLS"
   ]
  },
  {
   "cell_type": "markdown",
   "id": "d13e15d1",
   "metadata": {},
   "source": [
    "## Exercise 9 Chapter 7\n",
    "This question uses the variables dis (the weighted mean of distances to five Boston employment centers) and nox (nitrogen oxides concentration in parts per 10 million) from the Boston data. We will treat dis as the predictor and nox as the response."
   ]
  },
  {
   "cell_type": "code",
   "execution_count": 42,
   "id": "c5040b49",
   "metadata": {},
   "outputs": [
    {
     "data": {
      "text/plain": [
       "\n",
       "Call:\n",
       "lm(formula = nox ~ poly(dis, 3), data = Boston)\n",
       "\n",
       "Residuals:\n",
       "      Min        1Q    Median        3Q       Max \n",
       "-0.121130 -0.040619 -0.009738  0.023385  0.194904 \n",
       "\n",
       "Coefficients:\n",
       "               Estimate Std. Error t value Pr(>|t|)    \n",
       "(Intercept)    0.554695   0.002759 201.021  < 2e-16 ***\n",
       "poly(dis, 3)1 -2.003096   0.062071 -32.271  < 2e-16 ***\n",
       "poly(dis, 3)2  0.856330   0.062071  13.796  < 2e-16 ***\n",
       "poly(dis, 3)3 -0.318049   0.062071  -5.124 4.27e-07 ***\n",
       "---\n",
       "Signif. codes:  0 '***' 0.001 '**' 0.01 '*' 0.05 '.' 0.1 ' ' 1\n",
       "\n",
       "Residual standard error: 0.06207 on 502 degrees of freedom\n",
       "Multiple R-squared:  0.7148,\tAdjusted R-squared:  0.7131 \n",
       "F-statistic: 419.3 on 3 and 502 DF,  p-value: < 2.2e-16\n"
      ]
     },
     "metadata": {},
     "output_type": "display_data"
    },
    {
     "data": {
      "image/png": "[encoded data removed]",
      "text/plain": [
       "plot without title"
      ]
     },
     "metadata": {
      "image/png": {
       "height": 420,
       "width": 420
      }
     },
     "output_type": "display_data"
    }
   ],
   "source": [
    "# a) Use the poly() function to fit a cubic polynomial regression to predict nox using dis. Report the regression output, and plot\n",
    "# the resulting data and polynomial fits.\n",
    "library(\"MASS\")\n",
    "set.seed(42)\n",
    "\n",
    "mod <- lm(nox ~ poly(dis, 3), data = Boston)\n",
    "summary(mod)\n",
    "\n",
    "dislims <- range(Boston$dis)\n",
    "dis.grid <- seq(from = dislims[1], to = dislims[2], by = 0.1)\n",
    "pred <- predict(mod, list(dis = dis.grid))\n",
    "plot(nox ~ dis, data = Boston)\n",
    "lines(dis.grid, pred, col = \"red\", lwd = 2)"
   ]
  },
  {
   "cell_type": "code",
   "execution_count": 44,
   "id": "9abe9525",
   "metadata": {},
   "outputs": [
    {
     "data": {
      "image/png": "[encoded data removed]",
      "text/plain": [
       "plot without title"
      ]
     },
     "metadata": {
      "image/png": {
       "height": 420,
       "width": 420
      }
     },
     "output_type": "display_data"
    }
   ],
   "source": [
    "# b) Plot the polynomial fits for a range of different polynomial degrees (say, from 1 to 10), and report the associated residual\n",
    "# sum of squares.\n",
    "\n",
    "rss <- rep(NA, 10)\n",
    "for (i in 1:10) {\n",
    "    mod <- lm(nox ~ poly(dis, i), data = Boston)\n",
    "    rss[i] <- sum(mod$residuals^2)\n",
    "}\n",
    "plot(1:10, rss, xlab = \"Degree\", ylab = \"RSS\", type = \"l\")"
   ]
  },
  {
   "cell_type": "code",
   "execution_count": 48,
   "id": "ff1538c7",
   "metadata": {},
   "outputs": [
    {
     "data": {
      "image/png": "[encoded data removed]",
      "text/plain": [
       "plot without title"
      ]
     },
     "metadata": {
      "image/png": {
       "height": 420,
       "width": 420
      }
     },
     "output_type": "display_data"
    }
   ],
   "source": [
    "# c) perform cross-validation or another approach to select the optimal degree for the polynomial, and explain your results.\n",
    "delta <- rep(NA, 10)\n",
    "for (i in 1:10) {\n",
    "    mod <- glm(nox ~ poly(dis, i), data = Boston)\n",
    "    delta[i] <- cv.glm(Boston, mod, K = 5)$delta[1]\n",
    "}\n",
    "plot(1:10, delta, xlab = \"Degree\", ylab = \"Test MSE\", type = \"l\")\n",
    "# Either 3 or 4 as polynomial degree is the optimum"
   ]
  },
  {
   "cell_type": "code",
   "execution_count": 52,
   "id": "b9faf3b3",
   "metadata": {},
   "outputs": [
    {
     "data": {
      "text/plain": [
       "\n",
       "Call:\n",
       "lm(formula = nox ~ bs(dis, knots = c(2, 5, 9)), data = Boston)\n",
       "\n",
       "Residuals:\n",
       "     Min       1Q   Median       3Q      Max \n",
       "-0.12711 -0.03793 -0.01058  0.02312  0.19545 \n",
       "\n",
       "Coefficients:\n",
       "                             Estimate Std. Error t value Pr(>|t|)    \n",
       "(Intercept)                   0.64818    0.02344  27.653  < 2e-16 ***\n",
       "bs(dis, knots = c(2, 5, 9))1  0.11164    0.02950   3.784 0.000173 ***\n",
       "bs(dis, knots = c(2, 5, 9))2 -0.12773    0.02390  -5.345 1.38e-07 ***\n",
       "bs(dis, knots = c(2, 5, 9))3 -0.19383    0.03250  -5.963 4.68e-09 ***\n",
       "bs(dis, knots = c(2, 5, 9))4 -0.24254    0.03507  -6.915 1.44e-11 ***\n",
       "bs(dis, knots = c(2, 5, 9))5 -0.23780    0.05560  -4.277 2.27e-05 ***\n",
       "bs(dis, knots = c(2, 5, 9))6 -0.23714    0.06409  -3.700 0.000239 ***\n",
       "---\n",
       "Signif. codes:  0 '***' 0.001 '**' 0.01 '*' 0.05 '.' 0.1 ' ' 1\n",
       "\n",
       "Residual standard error: 0.06057 on 499 degrees of freedom\n",
       "Multiple R-squared:  0.7301,\tAdjusted R-squared:  0.7268 \n",
       "F-statistic: 224.9 on 6 and 499 DF,  p-value: < 2.2e-16\n"
      ]
     },
     "metadata": {},
     "output_type": "display_data"
    },
    {
     "data": {
      "image/png": "[encoded data removed]",
      "text/plain": [
       "plot without title"
      ]
     },
     "metadata": {
      "image/png": {
       "height": 420,
       "width": 420
      }
     },
     "output_type": "display_data"
    }
   ],
   "source": [
    "# d)  Use the bs() function to fit a regression spline to predict nox using dis. Report the output for the fit using four degrees of\n",
    "# freedom. How did you choose the knots? Plot the resulting fit.\n",
    "library(\"splines\")\n",
    "mod <- lm(nox ~ bs(dis, knots = c(2, 5, 9)), data = Boston)\n",
    "summary(mod)\n",
    "pred <- predict(mod, list(dis = dis.grid))\n",
    "plot(nox ~ dis, data = Boston, col = \"darkgrey\")\n",
    "lines(dis.grid, pred, col = \"red\", lwd = 2)"
   ]
  },
  {
   "cell_type": "code",
   "execution_count": 53,
   "id": "ca774bfe",
   "metadata": {},
   "outputs": [
    {
     "data": {
      "image/png": "[encoded data removed]",
      "text/plain": [
       "plot without title"
      ]
     },
     "metadata": {
      "image/png": {
       "height": 420,
       "width": 420
      }
     },
     "output_type": "display_data"
    }
   ],
   "source": [
    "# e) Now fit a regression spline for a range of degrees of freedom, and plot the resulting fits and report the resulting RSS. Describe the\n",
    "# results obtained\n",
    "rss <- rep(NA, 16)\n",
    "for (i in 3:16) {\n",
    "    mod <- lm(nox ~ bs(dis, df = i), data = Boston)\n",
    "    rss[i] <- sum(mod$residuals^2)\n",
    "}\n",
    "plot(3:16, rss[-c(1, 2)], xlab = \"Degrees of freedom\", ylab = \"RSS\", type = \"l\")\n",
    "# RSS decreases up to a certain point (14) and then increases"
   ]
  },
  {
   "cell_type": "code",
   "execution_count": 54,
   "id": "db751156",
   "metadata": {},
   "outputs": [
    {
     "name": "stderr",
     "output_type": "stream",
     "text": [
      "Warning message in bs(dis, degree = 3L, knots = numeric(0), Boundary.knots = c(1.137, :\n",
      "\"some 'x' values beyond boundary knots may cause ill-conditioned bases\"\n",
      "Warning message in bs(dis, degree = 3L, knots = numeric(0), Boundary.knots = c(1.137, :\n",
      "\"some 'x' values beyond boundary knots may cause ill-conditioned bases\"\n",
      "Warning message in bs(dis, degree = 3L, knots = numeric(0), Boundary.knots = c(1.1296, :\n",
      "\"some 'x' values beyond boundary knots may cause ill-conditioned bases\"\n",
      "Warning message in bs(dis, degree = 3L, knots = numeric(0), Boundary.knots = c(1.1296, :\n",
      "\"some 'x' values beyond boundary knots may cause ill-conditioned bases\"\n",
      "Warning message in bs(dis, degree = 3L, knots = c(`50%` = 3.2628), Boundary.knots = c(1.1296, :\n",
      "\"some 'x' values beyond boundary knots may cause ill-conditioned bases\"\n",
      "Warning message in bs(dis, degree = 3L, knots = c(`50%` = 3.2628), Boundary.knots = c(1.1296, :\n",
      "\"some 'x' values beyond boundary knots may cause ill-conditioned bases\"\n",
      "Warning message in bs(dis, degree = 3L, knots = c(`50%` = 3.0992), Boundary.knots = c(1.137, :\n",
      "\"some 'x' values beyond boundary knots may cause ill-conditioned bases\"\n",
      "Warning message in bs(dis, degree = 3L, knots = c(`50%` = 3.0992), Boundary.knots = c(1.137, :\n",
      "\"some 'x' values beyond boundary knots may cause ill-conditioned bases\"\n",
      "Warning message in bs(dis, degree = 3L, knots = c(`33.33333%` = 2.43083333333333, :\n",
      "\"some 'x' values beyond boundary knots may cause ill-conditioned bases\"\n",
      "Warning message in bs(dis, degree = 3L, knots = c(`33.33333%` = 2.43083333333333, :\n",
      "\"some 'x' values beyond boundary knots may cause ill-conditioned bases\"\n",
      "Warning message in bs(dis, degree = 3L, knots = c(`33.33333%` = 2.3534, `66.66667%` = 4.239:\n",
      "\"some 'x' values beyond boundary knots may cause ill-conditioned bases\"\n",
      "Warning message in bs(dis, degree = 3L, knots = c(`33.33333%` = 2.3534, `66.66667%` = 4.239:\n",
      "\"some 'x' values beyond boundary knots may cause ill-conditioned bases\"\n",
      "Warning message in bs(dis, degree = 3L, knots = c(`25%` = 2.1222, `50%` = 3.2721, :\n",
      "\"some 'x' values beyond boundary knots may cause ill-conditioned bases\"\n",
      "Warning message in bs(dis, degree = 3L, knots = c(`25%` = 2.1222, `50%` = 3.2721, :\n",
      "\"some 'x' values beyond boundary knots may cause ill-conditioned bases\"\n",
      "Warning message in bs(dis, degree = 3L, knots = c(`20%` = 1.94848, `40%` = 2.5698, :\n",
      "\"some 'x' values beyond boundary knots may cause ill-conditioned bases\"\n",
      "Warning message in bs(dis, degree = 3L, knots = c(`20%` = 1.94848, `40%` = 2.5698, :\n",
      "\"some 'x' values beyond boundary knots may cause ill-conditioned bases\"\n",
      "Warning message in bs(dis, degree = 3L, knots = c(`20%` = 1.98734, `40%` = 2.68212, :\n",
      "\"some 'x' values beyond boundary knots may cause ill-conditioned bases\"\n",
      "Warning message in bs(dis, degree = 3L, knots = c(`20%` = 1.98734, `40%` = 2.68212, :\n",
      "\"some 'x' values beyond boundary knots may cause ill-conditioned bases\"\n",
      "Warning message in bs(dis, degree = 3L, knots = c(`16.66667%` = 1.86651666666667, :\n",
      "\"some 'x' values beyond boundary knots may cause ill-conditioned bases\"\n",
      "Warning message in bs(dis, degree = 3L, knots = c(`16.66667%` = 1.86651666666667, :\n",
      "\"some 'x' values beyond boundary knots may cause ill-conditioned bases\"\n",
      "Warning message in bs(dis, degree = 3L, knots = c(`16.66667%` = 1.86023333333333, :\n",
      "\"some 'x' values beyond boundary knots may cause ill-conditioned bases\"\n",
      "Warning message in bs(dis, degree = 3L, knots = c(`16.66667%` = 1.86023333333333, :\n",
      "\"some 'x' values beyond boundary knots may cause ill-conditioned bases\"\n",
      "Warning message in bs(dis, degree = 3L, knots = c(`14.28571%` = 1.81518571428571, :\n",
      "\"some 'x' values beyond boundary knots may cause ill-conditioned bases\"\n",
      "Warning message in bs(dis, degree = 3L, knots = c(`14.28571%` = 1.81518571428571, :\n",
      "\"some 'x' values beyond boundary knots may cause ill-conditioned bases\"\n",
      "Warning message in bs(dis, degree = 3L, knots = c(`14.28571%` = 1.79037142857143, :\n",
      "\"some 'x' values beyond boundary knots may cause ill-conditioned bases\"\n",
      "Warning message in bs(dis, degree = 3L, knots = c(`14.28571%` = 1.79037142857143, :\n",
      "\"some 'x' values beyond boundary knots may cause ill-conditioned bases\"\n",
      "Warning message in bs(dis, degree = 3L, knots = c(`12.5%` = 1.71545, `25%` = 2.0651, :\n",
      "\"some 'x' values beyond boundary knots may cause ill-conditioned bases\"\n",
      "Warning message in bs(dis, degree = 3L, knots = c(`12.5%` = 1.71545, `25%` = 2.0651, :\n",
      "\"some 'x' values beyond boundary knots may cause ill-conditioned bases\"\n",
      "Warning message in bs(dis, degree = 3L, knots = c(`12.5%` = 1.7504875, `25%` = 2.106075, :\n",
      "\"some 'x' values beyond boundary knots may cause ill-conditioned bases\"\n",
      "Warning message in bs(dis, degree = 3L, knots = c(`12.5%` = 1.7504875, `25%` = 2.106075, :\n",
      "\"some 'x' values beyond boundary knots may cause ill-conditioned bases\"\n",
      "Warning message in bs(dis, degree = 3L, knots = c(`11.11111%` = 1.65393333333333, :\n",
      "\"some 'x' values beyond boundary knots may cause ill-conditioned bases\"\n",
      "Warning message in bs(dis, degree = 3L, knots = c(`11.11111%` = 1.65393333333333, :\n",
      "\"some 'x' values beyond boundary knots may cause ill-conditioned bases\"\n",
      "Warning message in bs(dis, degree = 3L, knots = c(`11.11111%` = 1.65701111111111, :\n",
      "\"some 'x' values beyond boundary knots may cause ill-conditioned bases\"\n",
      "Warning message in bs(dis, degree = 3L, knots = c(`11.11111%` = 1.65701111111111, :\n",
      "\"some 'x' values beyond boundary knots may cause ill-conditioned bases\"\n",
      "Warning message in bs(dis, degree = 3L, knots = c(`10%` = 1.61229, `20%` = 1.96982, :\n",
      "\"some 'x' values beyond boundary knots may cause ill-conditioned bases\"\n",
      "Warning message in bs(dis, degree = 3L, knots = c(`10%` = 1.61229, `20%` = 1.96982, :\n",
      "\"some 'x' values beyond boundary knots may cause ill-conditioned bases\"\n",
      "Warning message in bs(dis, degree = 3L, knots = c(`10%` = 1.65285, `20%` = 1.9682, :\n",
      "\"some 'x' values beyond boundary knots may cause ill-conditioned bases\"\n",
      "Warning message in bs(dis, degree = 3L, knots = c(`10%` = 1.65285, `20%` = 1.9682, :\n",
      "\"some 'x' values beyond boundary knots may cause ill-conditioned bases\"\n",
      "Warning message in bs(dis, degree = 3L, knots = c(`9.090909%` = 1.58946363636364, :\n",
      "\"some 'x' values beyond boundary knots may cause ill-conditioned bases\"\n",
      "Warning message in bs(dis, degree = 3L, knots = c(`9.090909%` = 1.58946363636364, :\n",
      "\"some 'x' values beyond boundary knots may cause ill-conditioned bases\"\n",
      "Warning message in bs(dis, degree = 3L, knots = c(`9.090909%` = 1.61296363636364, :\n",
      "\"some 'x' values beyond boundary knots may cause ill-conditioned bases\"\n",
      "Warning message in bs(dis, degree = 3L, knots = c(`9.090909%` = 1.61296363636364, :\n",
      "\"some 'x' values beyond boundary knots may cause ill-conditioned bases\"\n",
      "Warning message in bs(dis, degree = 3L, knots = c(`8.333333%` = 1.5892, `16.66667%` = 1.83973333333333, :\n",
      "\"some 'x' values beyond boundary knots may cause ill-conditioned bases\"\n",
      "Warning message in bs(dis, degree = 3L, knots = c(`8.333333%` = 1.5892, `16.66667%` = 1.83973333333333, :\n",
      "\"some 'x' values beyond boundary knots may cause ill-conditioned bases\"\n",
      "Warning message in bs(dis, degree = 3L, knots = c(`8.333333%` = 1.59068333333333, :\n",
      "\"some 'x' values beyond boundary knots may cause ill-conditioned bases\"\n",
      "Warning message in bs(dis, degree = 3L, knots = c(`8.333333%` = 1.59068333333333, :\n",
      "\"some 'x' values beyond boundary knots may cause ill-conditioned bases\"\n",
      "Warning message in bs(dis, degree = 3L, knots = c(`7.692308%` = 1.5331, `15.38462%` = 1.8125, :\n",
      "\"some 'x' values beyond boundary knots may cause ill-conditioned bases\"\n",
      "Warning message in bs(dis, degree = 3L, knots = c(`7.692308%` = 1.5331, `15.38462%` = 1.8125, :\n",
      "\"some 'x' values beyond boundary knots may cause ill-conditioned bases\"\n",
      "Warning message in bs(dis, degree = 3L, knots = c(`7.142857%` = 1.52523571428571, :\n",
      "\"some 'x' values beyond boundary knots may cause ill-conditioned bases\"\n",
      "Warning message in bs(dis, degree = 3L, knots = c(`7.142857%` = 1.52523571428571, :\n",
      "\"some 'x' values beyond boundary knots may cause ill-conditioned bases\"\n",
      "Warning message in bs(dis, degree = 3L, knots = c(`7.142857%` = 1.53235, `14.28571%` = 1.76824285714286, :\n",
      "\"some 'x' values beyond boundary knots may cause ill-conditioned bases\"\n",
      "Warning message in bs(dis, degree = 3L, knots = c(`7.142857%` = 1.53235, `14.28571%` = 1.76824285714286, :\n",
      "\"some 'x' values beyond boundary knots may cause ill-conditioned bases\"\n"
     ]
    },
    {
     "data": {
      "image/png": "[encoded data removed]",
      "text/plain": [
       "plot without title"
      ]
     },
     "metadata": {
      "image/png": {
       "height": 420,
       "width": 420
      }
     },
     "output_type": "display_data"
    }
   ],
   "source": [
    "# f) Perform cross-validation or another approach in order to select the best degrees of freedom for a regression spline on this data.\n",
    "# Describe your results.\n",
    "cv <- rep(NA, 16)\n",
    "for (i in 3:16) {\n",
    "    mod <- glm(nox ~ bs(dis, df = i), data = Boston)\n",
    "    cv[i] <- cv.glm(Boston, mod, K = 5)$delta[1]\n",
    "}\n",
    "plot(3:16, cv[-c(1, 2)], xlab = \"Degrees of freedom\", ylab = \"Test MSE\", type = \"l\")\n",
    "# 11 is the best degree of freedom"
   ]
  },
  {
   "cell_type": "markdown",
   "id": "20691253",
   "metadata": {},
   "source": [
    "## Exercise 10 Chapter 7\n",
    "This question relates to the College data set."
   ]
  },
  {
   "cell_type": "code",
   "execution_count": 59,
   "id": "716f6b36",
   "metadata": {},
   "outputs": [
    {
     "name": "stderr",
     "output_type": "stream",
     "text": [
      "The following objects are masked from College (pos = 3):\n",
      "\n",
      "    Accept, Apps, Books, Enroll, Expend, F.Undergrad, Grad.Rate,\n",
      "    Outstate, P.Undergrad, Personal, PhD, Private, Room.Board,\n",
      "    S.F.Ratio, Terminal, Top10perc, Top25perc, perc.alumni\n",
      "\n",
      "\n",
      "The following objects are masked from College (pos = 5):\n",
      "\n",
      "    Accept, Apps, Books, Enroll, Expend, F.Undergrad, Grad.Rate,\n",
      "    Outstate, P.Undergrad, Personal, PhD, Private, Room.Board,\n",
      "    S.F.Ratio, Terminal, Top10perc, Top25perc, perc.alumni\n",
      "\n",
      "\n"
     ]
    },
    {
     "data": {
      "text/html": [
       "<style>\n",
       ".list-inline {list-style: none; margin:0; padding: 0}\n",
       ".list-inline>li {display: inline-block}\n",
       ".list-inline>li:not(:last-child)::after {content: \"\\00b7\"; padding: 0 .5ex}\n",
       "</style>\n",
       "<ol class=list-inline><li>'(Intercept)'</li><li>'PrivateYes'</li><li>'Room.Board'</li><li>'PhD'</li><li>'perc.alumni'</li><li>'Expend'</li><li>'Grad.Rate'</li></ol>\n"
      ],
      "text/latex": [
       "\\begin{enumerate*}\n",
       "\\item '(Intercept)'\n",
       "\\item 'PrivateYes'\n",
       "\\item 'Room.Board'\n",
       "\\item 'PhD'\n",
       "\\item 'perc.alumni'\n",
       "\\item 'Expend'\n",
       "\\item 'Grad.Rate'\n",
       "\\end{enumerate*}\n"
      ],
      "text/markdown": [
       "1. '(Intercept)'\n",
       "2. 'PrivateYes'\n",
       "3. 'Room.Board'\n",
       "4. 'PhD'\n",
       "5. 'perc.alumni'\n",
       "6. 'Expend'\n",
       "7. 'Grad.Rate'\n",
       "\n",
       "\n"
      ],
      "text/plain": [
       "[1] \"(Intercept)\" \"PrivateYes\"  \"Room.Board\"  \"PhD\"         \"perc.alumni\"\n",
       "[6] \"Expend\"      \"Grad.Rate\"  "
      ]
     },
     "metadata": {},
     "output_type": "display_data"
    },
    {
     "data": {
      "image/png": "[encoded data removed]",
      "text/plain": [
       "plot without title"
      ]
     },
     "metadata": {
      "image/png": {
       "height": 420,
       "width": 420
      }
     },
     "output_type": "display_data"
    }
   ],
   "source": [
    "# a) Split the data into a training set and a test set. Using out-of-state tuition as the response and the other variables as the predictors,\n",
    "# perform forward stepwise selection on the training set in order to identify a satisfactory model that uses just a subset of the\n",
    "# predictors.\n",
    "library(\"leaps\")\n",
    "set.seed(42)\n",
    "attach(College)\n",
    "\n",
    "train <- sample(length(Outstate), length(Outstate) / 2)\n",
    "test <- -train\n",
    "\n",
    "df_train <- College[train, ]\n",
    "df_test <- College[test, ]\n",
    "\n",
    "model <- regsubsets(Outstate ~ ., data = df_train, nvmax = 17, method = \"forward\")\n",
    "model_summary <- summary(model)\n",
    "\n",
    "\n",
    "plot(model_summary$adjr2, xlab = \"Number of variables\", ylab = \"Adjusted R2\", type = \"l\", ylim = c(0.4, 0.84))\n",
    "# 6 would be the best num of variables, taking into account the high variance trade off\n",
    "model <- regsubsets(Outstate ~ ., data = College, method = \"forward\")\n",
    "coeffs <- coef(model, id = 6)\n",
    "names(coeffs)"
   ]
  },
  {
   "cell_type": "code",
   "execution_count": 66,
   "id": "b9c269ef",
   "metadata": {},
   "outputs": [
    {
     "data": {
      "image/png": "[encoded data removed]",
      "text/plain": [
       "plot without title"
      ]
     },
     "metadata": {
      "image/png": {
       "height": 420,
       "width": 420
      }
     },
     "output_type": "display_data"
    }
   ],
   "source": [
    "# b) Fit a GAM on the training data, using out-of-state tuition as the response and the features selected in the previous step as\n",
    "# the predictors. Plot the results, and explain your findings.\n",
    "library(\"gam\")\n",
    "\n",
    "model <- gam::gam(Outstate ~ Private + s(Room.Board, df = 2) + s(PhD, df = 2) + s(perc.alumni, df = 2) + s(Expend, df = 5) + s(Grad.Rate, df = 2), data=df_train)\n",
    "par(mfrow = c(2, 3))\n",
    "plot(model, se = T, col = \"red\")"
   ]
  },
  {
   "cell_type": "code",
   "execution_count": 68,
   "id": "ff550b5e",
   "metadata": {},
   "outputs": [
    {
     "data": {
      "text/html": [
       "0.770122046805687"
      ],
      "text/latex": [
       "0.770122046805687"
      ],
      "text/markdown": [
       "0.770122046805687"
      ],
      "text/plain": [
       "[1] 0.770122"
      ]
     },
     "metadata": {},
     "output_type": "display_data"
    }
   ],
   "source": [
    "# c)  Evaluate the model obtained on the test set, and explain the results obtained.\n",
    "pred <- predict(model, df_test)\n",
    "err <- mean((df_test$Outstate - pred)^2)\n",
    "tss <- mean((df_test$Outstate - mean(df_test$Outstate))^2)\n",
    "r2 <- 1 - err / tss\n",
    "r2\n",
    "# we got the r2 score of 0.77 with 6 predictors"
   ]
  },
  {
   "cell_type": "code",
   "execution_count": 69,
   "id": "232e4521",
   "metadata": {},
   "outputs": [
    {
     "data": {
      "text/plain": [
       "\n",
       "Call: gam::gam(formula = Outstate ~ Private + s(Room.Board, df = 2) + \n",
       "    s(PhD, df = 2) + s(perc.alumni, df = 2) + s(Expend, df = 5) + \n",
       "    s(Grad.Rate, df = 2), data = df_train)\n",
       "Deviance Residuals:\n",
       "      Min        1Q    Median        3Q       Max \n",
       "-5367.250 -1188.669     6.796  1257.182  4625.269 \n",
       "\n",
       "(Dispersion Parameter for gaussian family taken to be 3421987)\n",
       "\n",
       "    Null Deviance: 6409354359 on 387 degrees of freedom\n",
       "Residual Deviance: 1276400946 on 373 degrees of freedom\n",
       "AIC: 6955.543 \n",
       "\n",
       "Number of Local Scoring Iterations: NA \n",
       "\n",
       "Anova for Parametric Effects\n",
       "                        Df     Sum Sq    Mean Sq F value    Pr(>F)    \n",
       "Private                  1 1849985576 1849985576 540.617 < 2.2e-16 ***\n",
       "s(Room.Board, df = 2)    1 1433307395 1433307395 418.852 < 2.2e-16 ***\n",
       "s(PhD, df = 2)           1  395142570  395142570 115.472 < 2.2e-16 ***\n",
       "s(perc.alumni, df = 2)   1  310218441  310218441  90.654 < 2.2e-16 ***\n",
       "s(Expend, df = 5)        1  391790712  391790712 114.492 < 2.2e-16 ***\n",
       "s(Grad.Rate, df = 2)     1   52922588   52922588  15.466 0.0001002 ***\n",
       "Residuals              373 1276400946    3421987                      \n",
       "---\n",
       "Signif. codes:  0 '***' 0.001 '**' 0.01 '*' 0.05 '.' 0.1 ' ' 1\n",
       "\n",
       "Anova for Nonparametric Effects\n",
       "                       Npar Df  Npar F     Pr(F)    \n",
       "(Intercept)                                         \n",
       "Private                                             \n",
       "s(Room.Board, df = 2)        1  0.8407   0.35978    \n",
       "s(PhD, df = 2)               1  0.2687   0.60448    \n",
       "s(perc.alumni, df = 2)       1  2.0817   0.14992    \n",
       "s(Expend, df = 5)            4 15.7627 6.259e-12 ***\n",
       "s(Grad.Rate, df = 2)         1  3.7463   0.05368 .  \n",
       "---\n",
       "Signif. codes:  0 '***' 0.001 '**' 0.01 '*' 0.05 '.' 0.1 ' ' 1"
      ]
     },
     "metadata": {},
     "output_type": "display_data"
    }
   ],
   "source": [
    "# d)  For which variables, if any, is there evidence of a non-linear relationship with the response?\n",
    "summary(model)\n",
    "# an evidence of non-linear relationship between dependent variable outstate and Expend"
   ]
  },
  {
   "cell_type": "markdown",
   "id": "d0ae5958",
   "metadata": {},
   "source": [
    "### Source\n",
    "https://rpubs.com/ppaquay/65563"
   ]
  }
 ],
 "metadata": {
  "kernelspec": {
   "display_name": "R",
   "language": "R",
   "name": "ir"
  },
  "language_info": {
   "codemirror_mode": "r",
   "file_extension": ".r",
   "mimetype": "text/x-r-source",
   "name": "R",
   "pygments_lexer": "r",
   "version": "4.0.5"
  }
 },
 "nbformat": 4,
 "nbformat_minor": 5
}
